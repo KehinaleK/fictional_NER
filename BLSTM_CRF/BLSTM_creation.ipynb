{
 "cells": [
  {
   "cell_type": "markdown",
   "metadata": {
    "id": "-JzMOGIJy7vP"
   },
   "source": [
    "# Projet Loic - Réseaux de Neuronnes\n",
    "Code inspiré/trouvé dans l'article:  \n",
    "Xuezhe Ma and Eduard Hovy. 2016. End-to-end Sequence Labeling via Bi-directional LSTM-CNNs-CRF. In Proceedings of the 54th Annual Meeting of the Association for Computational Linguistics (Volume 1: Long Papers), pages 1064–1074, Berlin, Germany. Association for Computational Linguistics. (https://aclanthology.org/P16-1101/)\n"
   ]
  },
  {
   "cell_type": "code",
   "execution_count": 32,
   "metadata": {
    "executionInfo": {
     "elapsed": 3,
     "status": "ok",
     "timestamp": 1741434706154,
     "user": {
      "displayName": "Alix Sirven-Vienot",
      "userId": "13691383331929752611"
     },
     "user_tz": -60
    },
    "id": "h1hsK6ZGyzF1"
   },
   "outputs": [],
   "source": [
    "# Les Librairies\n",
    "\n",
    "from __future__ import print_function\n",
    "from collections import OrderedDict\n",
    "\n",
    "import torch\n",
    "import torch.nn as nn\n",
    "from torch.nn import init\n",
    "from torch.autograd import Variable\n",
    "from torch import autograd\n",
    "\n",
    "import time\n",
    "import _pickle as cPickle\n",
    "\n",
    "import urllib\n",
    "import matplotlib.pyplot as plt\n",
    "# plt.rcParams['figure.dpi'] = 80\n",
    "# plt.style.use('seaborn-pastel')\n",
    "\n",
    "import os\n",
    "import sys\n",
    "import codecs\n",
    "import re\n",
    "import numpy as np\n",
    "\n",
    "\n",
    "# Evaluation \n",
    "from sklearn import metrics"
   ]
  },
  {
   "cell_type": "code",
   "execution_count": 33,
   "metadata": {
    "executionInfo": {
     "elapsed": 8,
     "status": "ok",
     "timestamp": 1741434706164,
     "user": {
      "displayName": "Alix Sirven-Vienot",
      "userId": "13691383331929752611"
     },
     "user_tz": -60
    },
    "id": "VDTl8A7i1UaQ"
   },
   "outputs": [],
   "source": [
    "#parameters for the Model\n",
    "############# Les notres ###################\n",
    "\n",
    "\n",
    "#parameters for the Model enregistré dans un dico\n",
    "parameters = OrderedDict()\n",
    "\n",
    "# Téléchargement des fichiers train/test/dev\n",
    "parameters['train'] = \"./input/train_input_BLSTM_CRF.tsv\" #Path to train file\n",
    "parameters['dev'] = \"./input/dev_input_BLSTM_CRF.tsv\" #Path to test file\n",
    "parameters['test'] = \"./input/test_input_BLSTM_CRF.tsv\" #Path to dev file\n",
    "\n",
    "# Modification et annotaiton du corpus\n",
    "parameters['tag_scheme'] = False\n",
    "# parameters['tag_scheme'] = \"BIOES\" #BIO or BIOES\n",
    "parameters['lower'] = True # Boolean variable to control lowercasing of words\n",
    "parameters['zeros'] =  False #True # Boolean variable to control replacement of  all digits by 0\n",
    "\n",
    "# Dimensions des embedings\n",
    "parameters['char_dim'] = 40 #Char embedding dimension\n",
    "parameters['word_dim'] = 100 #Token embedding dimension\n",
    "\n",
    "# Parametres du modèle\n",
    "parameters['word_lstm_dim'] = 200 #Token LSTM hidden layer size\n",
    "parameters['word_bidirect'] = True #Use a bidirectional LSTM for word\n",
    "\n",
    "# Ou est ce qu'on range les embeddings\n",
    "# parameters['embedding_path'] = \"./embedding/glove.6B.100d.txt\" #Location of pretrained embeddings\n",
    "parameters['embedding_path'] = \"./embedding/vectors_100d_glove_elvish.txt\" #Location of pretrained embeddings\n",
    "\n",
    "# On prend tous les embedidngs\n",
    "parameters['all_emb'] = 1 #Load all embeddings\n",
    "parameters['crf'] =1 #Use CRF (0 to disable)\n",
    "parameters['dropout'] = 0.5 #Droupout on the input (0 = no dropout)\n",
    "parameters['epoch'] =  50 #Number of epochs to run\"\n",
    "parameters['weights'] = \"\" #path to Pretrained for from a previous run\n",
    "parameters['name'] = \"model_4\" # Model name\n",
    "parameters['gradient_clip']=5.0\n",
    "parameters['char_mode']=\"CNN\"\n",
    "\n",
    "# Ou est ce qu'on enregistre le modèle\n",
    "models_path = \"./model/\" #path to saved models\n",
    "\n",
    "#GPU\n",
    "parameters['use_gpu'] = torch.cuda.is_available() #GPU Check\n",
    "use_gpu = parameters['use_gpu']\n",
    "\n",
    "parameters['reload'] = False #Reload the saved model\n",
    "# parameters['reload'] = \"/content/drive/MyDrive/elvish_model\"\n",
    "\n",
    "#Constants\n",
    "START_TAG = '<START>'\n",
    "STOP_TAG = '<STOP>'"
   ]
  },
  {
   "cell_type": "code",
   "execution_count": 34,
   "metadata": {
    "executionInfo": {
     "elapsed": 59,
     "status": "ok",
     "timestamp": 1741434706229,
     "user": {
      "displayName": "Alix Sirven-Vienot",
      "userId": "13691383331929752611"
     },
     "user_tz": -60
    },
    "id": "9bq4DisJ24uB"
   },
   "outputs": [],
   "source": [
    "#paths to files\n",
    "#To stored mapping file\n",
    "mapping_file = './input/mapping.pkl'\n",
    "\n",
    "#To stored model\n",
    "name = parameters['name']\n",
    "model_name = models_path + name #get_name(parameters)\n",
    "\n",
    "if not os.path.exists(models_path):\n",
    "    os.makedirs(models_path)"
   ]
  },
  {
   "cell_type": "code",
   "execution_count": 35,
   "metadata": {
    "executionInfo": {
     "elapsed": 2,
     "status": "ok",
     "timestamp": 1741434706235,
     "user": {
      "displayName": "Alix Sirven-Vienot",
      "userId": "13691383331929752611"
     },
     "user_tz": -60
    },
    "id": "BxJDU4CK4B8h"
   },
   "outputs": [],
   "source": [
    "# Pas forcèment nécessaire chez nous voir avec la Bible si besoin\n",
    "def zero_digits(s):\n",
    "    \"\"\"\n",
    "    Replace every digit in a string by a zero.\n",
    "    \"\"\"\n",
    "    return re.sub('\\d', '0', s)"
   ]
  },
  {
   "cell_type": "code",
   "execution_count": 36,
   "metadata": {
    "executionInfo": {
     "elapsed": 21,
     "status": "ok",
     "timestamp": 1741434706259,
     "user": {
      "displayName": "Alix Sirven-Vienot",
      "userId": "13691383331929752611"
     },
     "user_tz": -60
    },
    "id": "Q_J55jYu4Xhw"
   },
   "outputs": [],
   "source": [
    "# Chargement des phrases\n",
    "\n",
    "def load_sentences(path, zeros):\n",
    "    \"\"\"\n",
    "    Load sentences. A line must contain at least a word and its tag.\n",
    "    Sentences are separated by empty lines.\n",
    "    \"\"\"\n",
    "    sentences = []\n",
    "    sentence = []\n",
    "    for line in codecs.open(path, 'r', 'utf8'):\n",
    "        line = zero_digits(line.rstrip()) if zeros else line.rstrip()\n",
    "        if not line:\n",
    "            if len(sentence) > 0:\n",
    "                if 'DOCSTART' not in sentence[0][0]:\n",
    "                    sentences.append(sentence)\n",
    "                sentence = []\n",
    "        else:\n",
    "            word = line.split()\n",
    "            assert len(word) >= 2\n",
    "            sentence.append(word)\n",
    "    if len(sentence) > 0:\n",
    "        if 'DOCSTART' not in sentence[0][0]:\n",
    "            sentences.append(sentence)\n",
    "    return sentences"
   ]
  },
  {
   "cell_type": "code",
   "execution_count": 37,
   "metadata": {
    "executionInfo": {
     "elapsed": 34,
     "status": "ok",
     "timestamp": 1741434706296,
     "user": {
      "displayName": "Alix Sirven-Vienot",
      "userId": "13691383331929752611"
     },
     "user_tz": -60
    },
    "id": "5Lc0JwBlsZGU"
   },
   "outputs": [],
   "source": [
    "# complet_sentences = load_sentences(parameters['complet'], parameters['zeros'])\n",
    "train_sentences = load_sentences(parameters['train'], parameters['zeros'])\n",
    "test_sentences = load_sentences(parameters['test'], parameters['zeros'])\n",
    "dev_sentences = load_sentences(parameters['dev'], parameters['zeros'])"
   ]
  },
  {
   "cell_type": "code",
   "execution_count": 38,
   "metadata": {
    "colab": {
     "base_uri": "https://localhost:8080/"
    },
    "executionInfo": {
     "elapsed": 24,
     "status": "ok",
     "timestamp": 1741434706323,
     "user": {
      "displayName": "Alix Sirven-Vienot",
      "userId": "13691383331929752611"
     },
     "user_tz": -60
    },
    "id": "XOGpvDIA9coG",
    "outputId": "3a427924-1c9d-4c02-83c4-0286c4ecd54f"
   },
   "outputs": [
    {
     "name": "stdout",
     "output_type": "stream",
     "text": [
      "[[['Sinomë', '0', 'NA'], ['maruvan', '0', 'NA'], ['ar', '0', 'NA'], ['Hildinyar', '0', 'NA'], [\"tenn'\", '0', 'NA'], ['Ambar-metta', '0', 'NA'], ['.', '0', 'NA']], [['Man', '0', 'NA'], ['tiruva', '0', 'NA'], ['fána', '0', 'NA'], ['cirya', '0', 'NA'], [',', '0', 'NA'], ['wilwarin', '0', 'NA'], ['wilwa', '0', 'NA'], [',', '0', 'NA'], ['ëar-celumessen', '0', 'NA'], ['rámainen', '0', 'NA'], ['elvië', '0', 'NA'], ['ëar', '0', 'NA'], ['falastala', '0', 'NA'], [',', '0', 'NA'], ['winga', '0', 'NA'], ['hlápula', '0', 'NA'], ['rámar', '0', 'NA'], ['sisílala', '0', 'NA'], [',', '0', 'NA'], ['cálë', '0', 'NA'], ['fifírula', '0', 'NA'], ['?', '0', 'NA']], [['Man', '0', 'NA'], ['hlaruva', '0', 'NA'], ['rávëa', '0', 'NA'], ['súrë', '0', 'NA'], ['ve', '0', 'NA'], ['tauri', '0', 'NA'], ['lillassië', '0', 'NA'], [',', '0', 'NA'], ['ninqui', '0', 'NA'], ['carcar', '0', 'NA'], ['yarra', '0', 'NA'], ['isilmë', '0', 'NA'], ['ilcalassë', '0', 'NA'], [',', '0', 'NA'], ['isilmë', '0', 'NA'], ['pícalassë', '0', 'NA'], ['isilmë', '0', 'NA'], ['lantalassë', '0', 'NA'], ['ve', '0', 'NA'], ['loicolícuma', '0', 'NA'], [';', '0', 'NA'], ['raumo', '0', 'NA'], ['nurrua', '0', 'NA'], [',', '0', 'NA'], ['undumë', '0', 'NA'], ['rúma', '0', 'NA'], ['?', '0', 'NA']], [['Man', '0', 'NA'], ['cenuva', '0', 'NA'], ['lumbor', '0', 'NA'], ['ahosta', '0', 'NA'], ['Menel', '0', 'NA'], ['acúna', '0', 'NA'], [\"ruxal'\", '0', 'NA'], ['ambonnar', '0', 'NA'], [',', '0', 'NA'], ['ëar', '0', 'NA'], ['amortala', '0', 'NA'], [',', '0', 'NA'], ['undumë', '0', 'NA'], ['hácala', '0', 'NA'], [',', '0', 'NA'], ['enwina', '0', 'NA'], ['lúmë', '0', 'NA'], ['elenillor', '0', 'NA'], ['pella', '0', 'NA'], ['talta-taltala', '0', 'NA'], ['atalantië', '0', 'NA'], ['mindonnar', '0', 'NA'], ['?', '0', 'NA']], [['Man', '0', 'NA'], ['tiruva', '0', 'NA'], ['rácina', '0', 'NA'], ['cirya', '0', 'NA'], ['ondolissë', '0', 'NA'], ['mornë', '0', 'NA'], ['nu', '0', 'NA'], ['fanyarë', '0', 'NA'], ['rúcina', '0', 'NA'], [',', '0', 'NA'], ['anar', '0', 'NA'], ['púrëa', '0', 'NA'], ['tihta', '0', 'NA'], ['axor', '0', 'NA'], ['ilcalannar', '0', 'NA'], [\"métim'\", '0', 'NA'], ['auressë', '0', 'NA'], ['?', '0', 'NA']], [['Man', '0', 'NA'], ['cenuva', '0', 'NA'], [\"métim'\", '0', 'NA'], ['andúnë', '0', 'NA'], ['?', '0', 'NA']], [['Man', '0', 'NA'], ['antolyasse', '0', 'NA'], ['nier', '0', 'NA'], ['sin', '0', 'NA'], ['?', '0', 'NA']], [['Cenuval', '0', 'NA'], [\"rat'\", '0', 'NA'], ['autuvar', '0', 'NA'], ['ilye', '0', 'NA'], ['caurelyar', '0', 'NA'], ['Ranconyassen', '0', 'NA'], ['er', '0', 'NA'], ['loril', '0', 'NA'], ['varna', '0', 'NA'], ['Man', '0', 'NA'], ['cenil', '0', 'NA'], ['han', '0', 'NA'], ['menelo', '0', 'NA'], ['hresta', '0', 'NA'], ['?', '0', 'NA']], [['Manan', '0', 'NA'], ['i', '0', 'NA'], [\"maiw'\", '0', 'NA'], ['yalir', '0', 'NA'], ['?', '0', 'NA']], [['Arta', '0', 'NA'], ['Ear', '0', 'NA'], ['Sil', '0', 'NA'], ['néca', '0', 'NA'], ['orta', '0', 'NA'], ['Ciryar', '0', 'NA'], ['símen', '0', 'NA'], ['marenna', '0', 'NA'], ['colien', '0', 'NA'], [\"Ilqu'\", '0', 'NA'], ['ahyuva', '0', 'NA'], ['hyellenna', '0', 'NA'], ['sil', '0', 'NA'], ['Cal', '0', 'NA'], ['nenes', '0', 'NA'], [',', '0', 'NA'], [\"ily'\", '0', 'NA'], ['fear', '0', 'NA'], ['autuvar', '0', 'NA'], ['Estel', '0', 'NA'], ['lómenna', '0', 'NA'], ['sintuva', '0', 'NA'], ['Ter', '0', 'NA'], ['mordor', '0', 'NA'], [\"lantal'\", '0', 'NA'], ['et', '0', 'NA'], [\"lúmell'\", '0', 'NA'], [',', '0', 'NA'], ['enyalie', '0', 'NA'], ['Áva', '0', 'NA'], ['quete', '0', 'NA'], [':', '0', 'NA'], ['nalve', '0', 'NA'], ['metyales', '0', 'NA'], [\"Loss'\", '0', 'NA'], ['hrestar', '0', 'NA'], ['yalir', '0', 'NA'], ['Met', '0', 'NA'], ['omentuva', '0', 'NA'], ['ata', '0', 'NA'], ['Ar', '0', 'NA'], ['nauval', '0', 'NA'], ['ranconyassen', '0', 'NA'], ['er', '0', 'NA'], ['lorna', '0', 'NA'], ['Man', '0', 'NA'], ['cenil', '0', 'NA'], ['han', '0', 'NA'], ['menelo', '0', 'NA'], ['hresta', '0', 'NA'], ['?', '0', 'NA']]]\n"
     ]
    }
   ],
   "source": [
    "print(test_sentences[:10])"
   ]
  },
  {
   "cell_type": "markdown",
   "metadata": {
    "id": "gk_LTa7XB9m1"
   },
   "source": [
    "Ensuite lui il améliore l'annotation de BIO en BIOES\n",
    "Nous on va passer directement au mapping"
   ]
  },
  {
   "cell_type": "code",
   "execution_count": 39,
   "metadata": {
    "executionInfo": {
     "elapsed": 36,
     "status": "ok",
     "timestamp": 1741434706361,
     "user": {
      "displayName": "Alix Sirven-Vienot",
      "userId": "13691383331929752611"
     },
     "user_tz": -60
    },
    "id": "hT0ItkmpB6x6"
   },
   "outputs": [],
   "source": [
    "def create_dico(item_list):\n",
    "    \"\"\"\n",
    "    Create a dictionary of items from a list of list of items.\n",
    "    \"\"\"\n",
    "    assert type(item_list) is list\n",
    "    dico = {}\n",
    "    for items in item_list:\n",
    "        for item in items:\n",
    "            if item not in dico:\n",
    "                dico[item] = 1\n",
    "            else:\n",
    "                dico[item] += 1\n",
    "    return dico\n",
    "\n",
    "\n",
    "\n",
    "def create_mapping(dico):\n",
    "    \"\"\"\n",
    "    Create a mapping (item to ID / ID to item) from a dictionary.\n",
    "    Items are ordered by decreasing frequency.\n",
    "    \"\"\"\n",
    "    sorted_items = sorted(dico.items(), key=lambda x: (-x[1], x[0]))\n",
    "    id_to_item = {i: v[0] for i, v in enumerate(sorted_items)}\n",
    "    item_to_id = {v: k for k, v in id_to_item.items()}\n",
    "    return item_to_id, id_to_item\n",
    "\n",
    "\n",
    "\n",
    "\n",
    "def word_mapping(sentences, lower):\n",
    "    \"\"\"\n",
    "    Create a dictionary and a mapping of words, sorted by frequency.\n",
    "    \"\"\"\n",
    "    words = [[x[0].lower() if lower else x[0] for x in s] for s in sentences]\n",
    "    dico = create_dico(words)\n",
    "    dico['<UNK>'] = 10000000 #UNK tag for unknown words\n",
    "    word_to_id, id_to_word = create_mapping(dico)\n",
    "    print(\"Found %i unique words (%i in total)\" % (\n",
    "        len(dico), sum(len(x) for x in words)\n",
    "    ))\n",
    "    \n",
    "    print(dico)\n",
    "    # print(word_to_id)\n",
    "    return dico, word_to_id, id_to_word\n",
    "\n",
    "\n",
    "\n",
    "def char_mapping(sentences):\n",
    "    \"\"\"\n",
    "    Create a dictionary and mapping of characters, sorted by frequency.\n",
    "    \"\"\"\n",
    "    chars = [\"\".join([w[0] for w in s]) for s in sentences]\n",
    "    dico = create_dico(chars)\n",
    "    char_to_id, id_to_char = create_mapping(dico)\n",
    "    print(\"Found %i unique characters\" % len(dico))\n",
    "    return dico, char_to_id, id_to_char\n",
    "\n",
    "\n",
    "def tag_mapping(sentences):\n",
    "    \"\"\"\n",
    "    Create a dictionary and a mapping of tags, sorted by frequency.\n",
    "    \"\"\"\n",
    "    tags = [[word[-1] for word in s] for s in sentences]\n",
    "    dico = create_dico(tags)\n",
    "    dico[START_TAG] = -1\n",
    "    dico[STOP_TAG] = -2\n",
    "    tag_to_id, id_to_tag = create_mapping(dico)\n",
    "    print(\"Found %i unique named entity tags\" % len(dico))\n",
    "    return dico, tag_to_id, id_to_tag\n",
    "\n",
    "\n",
    "  # Me suis planté j'ai mis NA aulieu de 0 quand c'était pas une entités donc ...\n",
    "def replace_na_with_o(sentences):\n",
    "    \"\"\"\n",
    "    Replace \"NA\" with \"O\" in the tags of each sentence.\n",
    "    \"\"\"\n",
    "    for sentence in sentences:\n",
    "        for word in sentence:\n",
    "            if word[-1] == \"NA\":\n",
    "                word[-1] = \"0\"\n",
    "    return sentences\n"
   ]
  },
  {
   "cell_type": "code",
   "execution_count": 40,
   "metadata": {
    "colab": {
     "base_uri": "https://localhost:8080/"
    },
    "executionInfo": {
     "elapsed": 11,
     "status": "ok",
     "timestamp": 1741434706374,
     "user": {
      "displayName": "Alix Sirven-Vienot",
      "userId": "13691383331929752611"
     },
     "user_tz": -60
    },
    "id": "aoLh62MJCnQK",
    "outputId": "862094a6-e88a-4600-94cc-f72e9b3f45dc"
   },
   "outputs": [
    {
     "name": "stdout",
     "output_type": "stream",
     "text": [
      "Found 2849 unique words (8163 in total)\n",
      "{'laurië': 3, 'lantar': 1, 'lassi': 4, 'súrinen': 2, ',': 647, 'yéni': 3, 'únótimë': 2, 've': 53, 'rámar': 2, 'aldaron': 5, '!': 125, 'lintë': 1, 'yuldar': 1, 'avánier': 1, 'mi': 23, 'oromardi': 1, 'lissë-miruvóreva': 1, 'andúnë': 2, 'pella': 14, 'vardo': 1, 'tellumar': 1, 'nu': 24, 'luini': 1, 'yassen': 4, 'tintilar': 1, 'i': 378, 'eleni': 8, 'ómaryo': 1, 'airetári-lírinen': 1, '.': 329, 'sí': 13, 'man': 16, 'yulma': 1, 'nin': 9, 'enquantuva': 1, '?': 44, 'an': 60, 'tintallë': 3, 'varda': 3, 'oiolossëo': 1, 'fanyar': 1, 'máryat': 1, 'elentari': 1, 'ortanë': 1, 'ar': 485, 'ilyë': 20, 'tier': 1, 'undulávë': 1, 'lumbulë': 2, ';': 63, 'sindanóriello': 1, 'caita': 1, 'mornië': 4, 'falmalinnar': 1, 'imbë': 3, 'met': 2, 'hísië': 2, 'untúpa': 1, 'calaciryo': 1, 'miri': 1, 'oialë': 2, 'vanwa': 7, 'ná': 64, 'rómello': 4, 'valimar': 2, 'namárië': 5, 'nai': 10, 'hiruvalyë': 1, 'elyë': 5, 'hiruva': 1, 'tiruva': 2, 'fána': 1, 'cirya': 5, 'wilwarin': 2, 'wilwa': 1, 'ëar-celumessen': 1, 'rámainen': 2, 'elvië': 1, 'ëar': 7, 'falastala': 1, 'winga': 1, 'hlápula': 1, 'sisílala': 2, 'cálë': 7, 'fifírula': 1, 'hlaruva': 1, 'rávëa': 1, 'súrë': 6, 'tauri': 1, 'lillassië': 1, 'ninqui': 4, 'carcar': 1, 'yarra': 1, 'isilmë': 3, 'ilcalassë': 1, 'pícalassë': 1, 'lantalassë': 1, 'loicolícuma': 1, 'raumo': 2, 'nurrua': 1, 'undumë': 3, 'rúma': 1, 'cenuva': 2, 'lumbor': 2, 'ahosta': 1, 'menel': 7, 'acúna': 1, 'ruxal’': 1, 'ambonnar': 1, 'amortala': 1, 'hácala': 1, 'enwina': 3, 'lúmë': 2, 'elenillor': 1, 'talta-taltala': 1, 'atalantëa': 1, 'mindonnar': 1, 'rácina': 3, 'ondolissë': 1, 'mornë': 1, 'fanyarë': 2, 'rúcina': 1, 'anar': 8, 'púrëa': 1, 'tihta': 1, 'axor': 1, 'ilcalannar': 1, 'métim’': 2, 'auressë': 4, 'ámen': 4, 'anta': 7, 'síra': 3, 'ilaurëa': 1, 'massamma': 1, 'apsenë': 1, 'úcaremmar': 1, \"sív'\": 1, 'emmë': 1, 'apsenet': 1, 'tien': 6, 'úcarer': 1, 'emmen': 1, 'álame': 2, 'tulya': 3, 'úsahtienna': 2, 'mal': 61, 'ámë': 1, 'etelehta': 2, 'ulcullo': 2, 'násië': 2, 'a': 46, 'hrísto': 1, 'órava': 5, 'omesse': 5, 'atar': 3, 'meneldea': 3, 'eru': 37, 'eruion': 2, 'mardorunando': 1, 'aina': 7, 'faire': 2, 'neldie': 1, 'er': 11, 'maria': 1, 'arca': 8, 'atarme': 5, 'eruontarie': 1, 'wende': 1, 'wenderon': 1, 'amille': 2, 'hristo': 2, 'eruva': 2, 'lisseo': 1, 'toi': 2, 'mána': 1, 'meldielto': 1, '-': 5, 'enga': 1, 'morion': 1, ':': 117, 'talantie': 1, 'alkar': 1, 'mardello': 1, 'lende': 6, 'márie': 1, 'en': 4, 'kárielto': 1, 'eldain': 1, 'isil': 5, 'hildin': 1, 'úr-anar': 1, 'írimar': 1, 'ilyain': 1, 'antalto': 1, 'annar': 5, 'lestanen': 1, 'ilúvatáren': 1, 'ilu': 1, 'vanya': 5, 'fanya': 1, 'eari': 3, 'i-mar': 1, 'ilqa': 2, 'ímen': 1, 'írima': 1, 'ye': 27, 'númenor': 1, 'nan': 20, 'úye': 1, 'sére': 2, 'indo-ninya': 1, 'símen': 1, 'ullume': 2, 'ten': 1, 'tyelma': 1, 'yéva': 5, 'tyel': 2, 'narqelion': 1, 'íre': 34, 'nótina': 2, 'hostainiéva': 1, 'yallume': 1, 'ananta': 5, 'úva': 4, 'táre': 2, 'fárea': 1, 'ufárea': 1, 'antáva': 1, 'ilúvatar': 4, 'enyáre': 1, 'tar': 2, 'anarinya': 1, 'qeluva': 1, 'andave': 4, 'laituvalmet': 1, 'lantanë': 4, 'melmessë': 1, 'sonen': 1, 'merilyë': 2, 'melmerya': 1, \"ness'\": 1, 'aranel': 10, 'arwen': 1, 'ëa': 5, \"óress'\": 1, 'elessarwa': 1, 'náro': 3, 'vëaner': 1, 'canya': 1, 'ohtar': 2, 'melilyes': 1, 'umiro': 1, 'melë': 1, 'le': 12, 'roccalas': 11, 'turmawendë': 9, \"utúlie'n\": 1, 'mórë': 1, 'autantë': 1, 'mahtien': 1, 'ohtassë': 1, \"hair'\": 1, 'nóressen': 1, 'hehtanentë': 1, 'maressë': 1, 'merintel': 1, 'tirië': 1, 'nissi': 1, 'híni': 3, 'artassen': 1, 'mí': 6, 'tárë': 2, 'oronti': 5, 'hirë': 1, 'metta': 2, 'nyérelyo': 1, 'essenen': 1, 'haldatir': 1, 'lelyalyë': 1, 'muilessë': 1, 'sanya': 1, 'rocconer': 1, 'hiswë': 1, 'hendu': 2, 'perino': 1, 'cennë': 8, 'quén': 3, 'ú': 9, 'estelo': 2, 'merë': 1, 'firë': 3, 'qualin': 2, 'roccorya': 1, \"cait'\": 1, 'aran': 9, 'né': 29, 'len': 9, 'tornelyan': 1, 'arwa': 7, 'macilo': 1, 'matsë': 1, 'yétalyë': 1, \"rúcim'\": 1, 'ulundo': 1, 'acolë': 1, 'caurë': 2, 'cuina': 1, 'nér': 10, 'pusta': 2, 'loicoher': 1, 'umilyë': 2, 'nályë': 3, 'nís': 5, \"pold'\": 1, 'úmëa': 1, \"morn'\": 1, 'alta': 2, 'turë': 3, 'or': 16, 'sauron': 1, 'so': 3, 'ortanelyë': 1, 'macil': 2, 'tárienna': 1, 'rierya': 2, 'alantiéro': 1, 'mernelyë': 1, 'harya': 1, 'alcar': 7, 'mahtanelyë': 1, 'heru': 11, 'úlairion': 1, 'caitalyë': 1, \"ar'\": 1, 'aranelya': 1, 'lá': 30, 'cenilyéro': 1, 'hlarë': 1, 'teldë': 1, 'quettaryar': 1, \"laiw'\": 1, 'nyérëa': 1, 'cuilenen': 1, 'linyenwa': 1, \"quet'\": 1, 'nólë': 1, 'mát': 1, 'aranwa': 2, 'envinyatar': 1, 'collentë': 1, 'cuilë': 2, 'alassë': 2, 'ëa-írë': 1, 'melmë': 2, 'arandurwa': 1, 'hirnelyë': 1, 'vantanéro': 1, 'quentéro': 2, 'yo': 8, \"imb'\": 1, 'aldar': 7, 'lóti': 1, 'mareryassë': 1, 'lenna': 18, 'meliro': 1, 'envinyanta': 1, 'melmenen': 1, 'avalyë': 1, 'tári': 2, 'nauvalyë': 2, 'envinyatarë': 2, 'meluvalyë': 2, 'ilqua': 7, \"cuin'\": 1, 'meluvárol': 1, 'indis': 1, 'hláranyë': 1, 'ringa': 3, 'formessúrë': 1, \"asúy'\": 1, 'aldassen': 1, 'úlassië': 2, 'alussa': 1, 'olbalissë': 1, 'nornë': 1, 'alamya': 1, 'nuru-nainië': 1, 'formessúrë-yalmë': 1, 'quéla': 1, 'númello': 4, 'holtan': 1, 'hwesta': 1, 'nísima': 1, 'asúya': 1, 'ninna': 5, 'nainië': 1, 'ahya': 1, 'lírinna': 1, 'cénan': 2, 'tuilindo': 1, 'awilë': 1, 'hyarmello': 1, 'úrima': 1, 'rámaryat': 1, 'circa-cantë': 1, \"alir'\": 1, 'aldannar': 1, 'autar': 1, 'naira': 1, 'anúta': 1, 'númenna': 4, 'et': 11, 'tilion': 1, 'orta': 9, \"undómess'\": 1, 'elen': 3, 'síla': 1, 'lómelindë-lírinen': 1, 'entúlan': 1, 'yanna': 3, 'ettullen': 1, 'elentintaina': 1, 'hrívëo': 1, 'lómessë': 1, 'sina': 19, 'antanelyë': 1, 'men': 3, 'renuvammet': 1, 'ríanna': 2, 'vanima': 5, 'ardalótë': 1, 'coacalinalya': 1, 'firnë': 2, 'lícuma': 1, 'nó': 10, 'melmemma': 1, 'indommassen': 1, 'indotári': 1, 'wila': 1, 'fëalya': 1, 'seruva': 1, 'oialmaressë': 1, 'cemen': 10, 'cumna': 1, 'lusta': 2, 'engë': 19, 'eruo': 7, 'súlë': 1, 'willë': 1, 'neni': 4, 'equë': 10, '\"\"\"\"': 22, 'eä': 3, 'sa': 17, 'mára': 13, 'ciltanë': 2, 'morniello': 2, 'estanë': 3, 'aurë': 10, 'estanes': 2, 'lómë': 2, 'sinyë': 7, 'arin': 6, 'minya': 3, 'telluma': 5, 'endessë': 1, 'nenion': 2, 'ciltuvas': 1, 'nén': 2, 'nenello': 2, 'carnë': 3, 'nenillon': 2, 'sië': 5, 'attëa': 1, 'na': 15, 'hostainë': 2, 'minë': 2, 'nómessë': 1, 'parca': 2, 'nór': 2, 'cénina': 3, 'eär': 3, 'nes': 7, 'á': 37, 'colë': 2, 'salquë': 2, 'olvar': 5, 'carila': 4, 'erdi': 6, 'yávaldar': 1, 'colila': 2, 'yávë': 3, 'nostalentassen': 10, 'cemendë': 6, 'collë': 3, 'yassë': 3, 'erdentar': 1, 'nelya': 1, 'calmar': 4, 'tellumassë': 4, 'menelo': 14, 'ciltien': 2, 'lómillo': 1, 'nauvantë': 2, 'tannar': 1, 'asarion': 1, 'aurion': 1, 'coranárion': 1, 'caltien': 2, 'cemenna': 3, 'atta': 5, 'altë': 2, 'analta': 3, 'calma': 4, 'turien': 3, 'pitya': 6, 'lómissë': 2, 'panyanë': 2, 'ta': 13, 'cantëa': 1, 'úvë': 2, 'cuinë': 4, 'onnolíva': 1, 'nenissen': 3, 'wilë': 1, 'aiweli': 1, 'ontanë': 2, 'ëarcelvar': 1, 'ilya': 21, 'onnaiva': 1, 'rihtar': 1, 'rámavoiti': 1, 'onnar': 3, 'laitanë': 2, 'te': 5, 'quentë': 2, 'yávinquë': 2, 'rimbë': 3, 'quatë': 2, 'ëarion': 1, 'aiwi': 5, 'lempëa': 1, 'lamni': 3, 'celvaller': 1, 'cemeno': 3, 'hravani': 3, 'celvar': 5, 'vantar': 3, 'alvë': 1, 'carë': 1, 'atan': 4, 'venwelvassë': 1, 'canta': 2, 'velvë': 1, 'turuvas': 1, 'ëaro': 2, 'lingwi': 2, 'venweryassë': 1, 'venwessë': 1, 'ontaneryes': 1, 'hanu': 1, 'ní': 1, 'ontaneryet': 1, 'tienna': 1, 'ása': 6, 'panya': 6, 'antan': 2, 'palúressë': 1, 'yávi': 1, 'nas': 4, 'ya': 36, 'matuval': 1, 'celvain': 1, 'ilye': 8, 'aiwin': 1, 'ilyan': 1, 'vanta': 2, 'cuinan': 1, 'laiquë': 2, 'matien': 1, 'carnes': 2, 'ammára': 3, 'enquëa': 1, 'fumë': 1, 'sín': 1, 'óla': 1, 'quenion': 1, 'epetuller': 1, 'yálantë': 1, 'haira': 6, 'falassello': 1, 'arta': 3, 'manen': 14, 'nyényelya': 1, 'níri': 2, 'antalyassë': 1, 'rato': 1, 'cenuvalyë': 1, 'caurelyar': 1, 'autuvar': 1, 'varna': 1, 'rancunyaissen': 2, 'fúmalyë': 1, 'polilyë': 2, 'cenë': 2, 'ambaro': 4, 'rénassë': 2, 'yalir': 2, 'maiwi': 2, 'aire': 5, 'marya': 1, 'ortëa': 1, 'ciryar': 1, 'utúlier': 1, 'colien': 1, 'lyë': 1, 'márenna': 1, 'ahyuva': 1, 'telemna': 1, 'hyellenna': 1, 'cala': 7, 'nenessë': 1, 'fëar': 1, 'lelyuvar': 1, 'estel': 5, 'fifírui': 1, \"tenn'\": 3, 'ambar': 2, 'móreva': 1, 'terë': 1, 'lumbuli': 1, 'enyalie': 1, 'lúmello': 2, 'áva': 15, 'quetë': 1, 'utúlielmë': 1, 'falassi': 1, 'yálar': 1, 'ómentielma': 1, 'ennauva': 1, 'sinomë': 6, 'fúmala': 2, 'endesse': 2, 'ohto': 2, 'huorea': 1, 'valya': 1, 'fea': 1, 'tulle': 3, 'tulco': 2, 'valarin': 1, 'háya': 1, 'menello': 2, 'istala': 2, 'mahtale': 1, 'pityanóresse': 1, 'arda': 4, 'enromane': 1, 'nallámanen': 1, 'lalateryo': 1, 'sinave': 1, 'polda': 2, 'tulkas': 5, 'aharya': 1, 'tule': 3, 'aha': 2, 'ilweo': 1, 'morne': 2, 'lumbolínen': 1, 'nótulda': 1, 'melkor': 4, 'oante': 2, 'alassea': 1, 'oromeryallo': 1, 'hehtane': 1, 'lartane': 2, 'marne': 3, 'ambaresse': 1, 'valar': 12, 'ardava': 2, 'erúmea': 1, 'morniesse': 3, 'tevierya': 2, 'tulkassenna': 1, 'vorima': 1, 'lú': 5, 'cantaner': 1, 'nóri': 1, 'san': 16, 'yavanna': 2, 'rende': 2, 'ontanerente': 1, 'andavello': 1, 'nári': 1, 'túrine': 1, 'var': 3, 'hehtine': 1, 'minye': 1, 'ambor': 1, 'cále': 2, 'penya': 1, 'maquentenen': 1, 'yavanno': 2, 'aule': 2, 'colle': 1, 'earion': 1, 'alte': 3, 'calme': 1, 'acárieronte': 1, 'faininte': 1, 'endórenna': 1, 'quanterente': 1, 'manwe': 2, 'tintaneronte': 1, 'panyanentente': 1, 'tarmenna': 1, 'analte': 1, 'orontion': 1, 'yalmin': 1, 'erner': 1, 'ortana': 1, 'formenesse': 3, 'endóreo': 3, 'illuin': 1, 'esserya': 2, 'tatya': 1, 'hyarmenesse': 1, 'ormal': 1, 'calmato': 2, 'valariva': 1, 'untúpane': 1, 'yasse': 8, 'calane': 1, 'aure': 4, 'metto': 2, 'rérine': 1, 'yavannanen': 1, 'tuianer': 2, 'tuimaner': 1, 'alarcave': 1, 'rimbe': 6, 'nation': 2, 'pitye': 1, 'ortane': 1, 'cemenenna': 1, 'salqui': 1, 'taurefalli': 1, 'halle': 1, 'filqui': 1, 'ríne': 1, 'fanyarinen': 1, 'cuine': 1, 'sundarenta': 1, 'unlantaner': 1, 'laiqua': 4, 'undómesse': 1, 'tuller': 3, 'nortaner': 1, 'nandissen': 1, 'sírissen': 1, 'ailinissen': 1, 'arta-lender': 1, 'lómin': 1, 'taurion': 1, 'lóteo': 1, 'olohtie': 1, 'aiweo': 1, 'ilírie': 1, 'nati': 7, 'sine': 8, 'lartaner': 1, 'lúmenta': 1, 'endasse': 1, 'úve': 1, 'asánieres': 1, 'únomesse': 1, 'analya': 1, 'endenna': 1, 'masse': 3, 'ovantaner': 1, 'otuller': 1, \"alt'\": 1, 'ailinesse': 1, 'tolenna': 1, 'almareno': 2, 'lúme': 7, 'vinya': 5, 'sinya': 1, 'laiquasse': 1, 'lúce': 1, 'hendi': 1, 'ontaroryon': 1, 'carner': 2, 'marenta': 1, 'aqua': 2, 'valini': 1, 'sinanen': 1, 'martane': 1, 'sender': 1, 'mótalentallon': 1, 'yétaner': 1, 'tuiyale': 1, 'palyale': 1, 'asánierente': 1, 'ontiententa': 1, 'tulcane': 1, 'merende': 1, 'rimbenta': 1, 'yelloryanen': 1, 'pícane': 2, 'veuyaner': 2, 'cururinen': 1, 'minyo': 1, 'tuonen': 1, 'tatyo': 1, 'lárvalta': 1, 'sérevalta': 1, 'sinte': 3, 'carina': 1, 'muinave': 1, 'meldoron': 1, 'ettirnoron': 1, 'maiar': 1, 'alantier': 1, 'sanyerya': 1, 'vahaia': 1, 'néro': 1, 'sance': 1, 'milca': 1, 'mótamar': 1, 'torniryo': 1, 'merneronte': 1, 'máhanerya': 1, 'erúmie': 1, 'taicarillon': 1, 'eo': 1, 'hostanero': 1, 'fear': 1, 'hépine': 1, 'veuyalerya': 1, 'sananeros': 1, 'sanala': 1, 'lúmerya': 1, 'túlina': 2, 'antullero': 1, 'ardanna': 3, 'yétaneros': 1, 'hendunen': 1, 'cenwe': 1, 'tuileryasse': 1, 'quantes': 1, 'tevienen': 1, 'hostaine': 1, 'almarenna': 1, 'caurevalta': 1, 'cálenen': 1, 'iluino': 1, 'ú-cenner': 1, 'huine': 2, 'melkoro': 2, 'utúliero': 1, 'mornie': 4, 'lusteo': 1, 'nyarina': 1, 'merendesse': 1, 'ardatuileo': 1, 'vestane': 1, 'nessa': 3, 'seler': 1, 'oromeo': 1, 'liltanere': 1, 'salquenna': 1, 'lantane': 3, 'fúmesse': 1, 'tuovalta': 1, 'iquista': 1, 'sanane': 1, 'o': 1, 'hosserya': 1, 'lendero': 1, 'rambar': 2, 'fuiva': 1, 'eccaira': 1, 'istaner': 1, 'yesetyanero': 1, 'unca': 1, 'talan': 1, 'care': 9, 'sarne': 1, 'undu': 18, 'iluineva': 1, 'halcini': 1, 'esse': 3, 'sarneo': 1, 'utumno': 1, 'istalaner': 1, 'úmea': 1, 'uryala': 1, 'palune': 1, 'tenna': 6, 'persa': 1, 'tuile': 2, 'ardo': 2, 'yarvaxëa': 1, 'rasselya': 1, 'taltuva': 1, 'ñotto-carinnar': 1, 'arinya': 1, 'losse': 1, 'lord': 1, \"'aire\": 1, 'fifíruva': 1, 'wilyasse': 1, 'hiswa': 1, 'tiruvalye': 1, 'olor': 2, 'enyalien': 1, 'iswa': 1, 'erumesse': 1, 'hiruvalye': 1, 'metya': 2, 'harma': 1, 'haryalye': 1, 'hesin': 1, 'yenion': 1, 'alasse': 2, 'eresse': 1, 'tol-eresseasse': 1, 'yestaneryë': 1, 'carma': 1, 'meletya': 1, 'valaron': 5, 'carmar': 1, 'tulessentallo': 1, 'calpaneryë': 1, 'rossi': 1, 'telperini': 1, 'telperiono': 1, 'calpallon': 1, 'rosseinen': 1, 'ontaneryë': 1, 'elellí': 1, 'vinye': 2, 'calimë': 1, 'yárë': 2, 'yestanession': 1, 'tulessenna': 1, 'yallo': 1, 'eryë': 1, 'essë': 1, 'lúmëo': 1, 'yáwellon': 1, 'ëo': 2, 'carmallon': 1, 'apa': 9, 'eldainen': 1, 'estina': 1, 'elentári': 3, 'carnil': 1, 'luinil': 1, 'nénar': 1, 'lumbar': 1, 'alcarinquë': 1, 'elemmírë': 1, 'panyaneryë': 1, 'tana': 3, 'lúmessë': 1, 'nótimë': 2, 'hostaneryë': 1, 'ortaneryet': 1, 'tehtar': 1, 'menelessë': 1, 'telumendil': 1, 'soronúmë': 1, 'anarríma': 1, 'menelmacar': 1, 'heltaryassë': 1, 'calima': 2, 'apaquetë': 1, 'ohta': 4, 'metima': 1, 'ambar-mettassë': 1, 'táravë': 1, 'formenna': 1, 'vë': 4, 'tultië': 1, 'melcorenna': 1, 'së': 1, 'rië': 2, 'otso': 5, 'elenion': 1, '–': 12, 'valacirca': 1, 'ambarto': 1, 'tehta': 2, 'autanéro': 1, 'anfauglith': 1, 'sure': 1, 'asto': 3, 'cennę': 1, 'uswerya': 1, 'sana': 7, 'oromë': 2, 'cilmas': 1, 'tulin': 2, 'velicë': 1, 'senna': 26, 'sinavë': 3, 'hendurya': 1, 'calanë': 1, 'tulinnéro': 1, 'ana': 3, 'angamando': 3, 'va': 2, 'andor': 1, 'lammanéro': 1, 'rombarye': 1, 'palpa': 1, 'ata': 6, 'fendassë': 2, 'veryo': 1, 'moringotto': 10, 'erya': 7, 'tulinnë': 3, 'telda': 2, 'tanar': 1, 'oantéro': 1, 'sarnerya': 1, 'taro': 1, 'nangwesanë': 1, 'verya': 3, 'mirima': 1, 'selma': 2, 'taurarya': 1, 'anvelicë': 1, 'rucinro': 1, 'sintë': 1, 'nanro': 1, 'pollë': 1, 'lala': 1, 'nívë': 1, 'cánoro': 1, 'ondor': 2, 'cormanë': 1, 'ho': 3, 'orolindalë': 1, 'nolofinwëva': 1, 'rombo': 1, 'omarya': 1, 'laicë': 1, 'poica': 3, 'tumnar': 1, 'nolofinwë': 5, 'essenë': 1, 'úverya': 1, 'mál': 1, 'rosta': 1, 'lenca': 1, 'horya': 1, 'nutalan': 2, 'mahalma': 2, 'lamma': 1, 'taluryo': 1, 'nč': 2, 'otuswenčro': 1, 'vaina': 1, 'morë': 1, 'hroavarmë': 1, 'hecanë': 1, 'epë': 1, 'mindo': 1, 'anga-rína': 1, 'taura': 4, 'turmaryo': 1, 'tengwë': 1, 'pelehtana': 1, 'hatá': 1, 'lëo': 1, 'ors': 1, 'ungo': 1, 'ilcanë': 1, 'hroavarmerya': 1, 'panta': 1, 'silima': 1, 'tucinnéro': 1, 'maciryo': 1, 'ringil': 2, 'mirilyanë': 1, 'helcë': 2, 'ortánë': 1, 'grond': 3, 'nambo': 1, 'fatanyu': 1, 'nira': 1, 'calanambo': 1, 'tuianë': 1, 'oa': 6, 'narcinë': 2, 'latta': 1, 'uru': 1, 'liltanë': 1, 'limbë': 1, 'lúmi': 4, 'harwi': 1, 'antanë': 1, 'rama': 1, 'qualmë': 1, 'rimbi': 1, 'entë': 1, 'antar': 1, 'rucin': 1, 'ramar': 1, 'lámanë': 1, 'forostar': 1, 'lauyanë': 1, 'yerya': 1, 'turmaryannas': 1, 'neldë': 4, 'ruxanë': 1, 'tumnáro': 1, 'ortanëata': 1, 'amba': 3, 'turmarya': 1, 'hyarinnë': 1, 'cassa': 1, 'lattanë': 1, 'corimas': 1, 'lantanéro': 1, 'nanepë': 1, 'tali': 1, 'panyarya': 1, 'hyarya': 1, 'tál': 2, 'yahrtya': 1, 'cólo': 1, 'ambo': 2, 'tyelima': 1, 'ilestel': 1, 'teccorya': 1, 'pelehtanë': 1, 'sercë': 2, 'etoloiyanë': 1, 'more': 1, 'hísia': 1, 'quantë': 1, 'lattar': 1, 'tára': 2, 'noldor': 1, 'anverya': 1, 'cána': 1, 'elda-aran': 1, 'urqui': 1, 'carinnë': 1, 'merendë': 1, 'no': 1, 'ando': 1, 'eldar': 8, 'lirina': 1, 'nimbentar': 1, 'palua': 1, 'tumna': 2, 'lindalello': 1, 'ilúves': 1, 'yesserya': 1, 'sinë': 4, 'ainuron': 1, 'lindalen': 1, 'annë': 2, 'cennentes': 1, 'morniessë': 1, 'ento': 3, 'tellon': 1, 'emélier': 1, 'vanimië': 1, 'lúmequentaleryá': 1, 'cennentë': 2, 'yestala': 1, 'palyala': 1, 'oloressë': 1, 'olorentan': 1, 'ëala': 1, 'panneryes': 1, 'erumassë': 1, 'martyaneryes': 1, 'muinanárë': 1, 'urië': 1, 'iluo': 1, 'óressë': 1, 'estaina': 5, 'ainullon': 1, 'mernentes': 1, 'ortaner': 1, 'ëanna': 1, 'lúmeo': 1, 'yessë': 1, 'mernentë': 1, 'tyaries': 1, 'anwa': 8, 'quatië': 1, 'carmantainen': 1, 'carnentë': 1, 'ménassen': 2, 'yar': 1, 'landë': 1, 'atanion': 4, 'sanwë': 1, 'marta-lúmessë': 1, 'cantana': 1, 'teltanentë': 1, 'fanainen': 1, 'entonna': 1, 'tullentë': 1, 'marnentë': 1, 'entossë': 1, 'meletyar': 1, 'fairellon': 1, 'estir': 2, 'atani': 4, 'ilúvatari': 1, 'herur': 1, 'herir-valier': 1, 'sin': 7, 'estimmet': 1, 'quenyanen': 1, 'valinóreva': 1, 'nán': 1, 'harintë': 1, 'avë': 1, 'essi': 3, 'endoréva': 1, 'eldalambessen': 1, 'lambínen': 1, 'essentar': 1, 'nar': 16, 'valaiva': 1, 'manwë': 1, 'ulmo': 1, 'aulë': 1, 'mandos': 1, 'lórien': 1, 'tulcas': 1, 'valieiva': 1, 'nienna': 1, 'estë': 1, 'vairë': 1, 'vána': 1, 'melcor': 1, 'úyë': 2, 'valannar': 1, 'quénta': 1, 'ardasse': 1, 'sindacollo': 2, 'lestanóressë': 1, 'eänë': 1, 'yáressë': 1, 'vantaner': 1, 'cemenessë': 2, 'túrerya': 1, 'ortaina': 1, 'hróto': 1, 'márya': 3, 'tumbo': 1, 'taurë': 1, 'lassiva': 1, 'collarya': 3, 'telpië': 2, 'ehtaryar': 1, 'andë': 2, 'aicë': 1, 'silmë': 1, 'turmaryassë': 1, 'mapaina': 1, 'carna': 5, 'ostaina': 1, 'aparéssën': 1, 'írë': 5, 'hrestanna': 1, 'endoressë': 1, 'valinórello': 1, 'eldarimbë': 1, 'valanen': 1, 'entullë': 1, 'tulwi': 1, 'viller': 1, 'uryaner': 1, 'arani': 1, 'eldamaro': 1, 'lendë': 1, 'ara': 6, 'tuo': 1, 'rombaryar': 1, 'súyanër': 1, 'palan': 1, 'valariandessë': 1, 'lestanorëo': 1, 'pelda': 1, 'nóressë': 1, 'harnë': 1, 'tirna': 1, 'mahalmassë': 1, 'lintarmië': 1, 'sarna': 1, 'rondossen': 1, 'tanomë': 1, 'hyellemíre': 1, 'marilla': 1, 'malwa': 1, 'mirilondo': 1, 'cantaina': 1, 'tinco': 1, 'helma': 1, 'lingwion': 1, 'turma': 1, '(': 2, 'corslet': 1, ')': 2, 'pelecco': 2, 'sílala': 1, 'ehter': 1, 'ner': 4, 'panyaina': 1, 'hahtassë': 1, 'haryanéro': 2, 'nontero': 1, 'melda': 3, 'harmar': 2, 'mardessë': 1, 'vanime': 1, 'yeldi': 1, 'yeldë': 1, 'luhtiénë': 1, 'luhtiénëo': 1, 'telqui': 1, 'tyelce': 1, 'tane': 1, 'úvar': 1, 'yure': 1, 'vendë': 1, 'árallo': 1, 'lómenna': 1, 'anarello': 1, 'ëarenna': 1, 'vaimarya': 1, 'luine': 1, 'lairessë': 1, 'sinde': 1, 'hendiryat': 1, 'lanyaina': 1, 'vanimë': 1, 'indilinen': 2, 'morna': 2, 'huinë': 1, 'findesserya': 1, 'táleryat': 1, 'larcë': 1, 'aiwë': 1, 'rámanen': 1, 'lalalerya': 1, 'valin': 1, 'tuilë': 2, 'nindë': 1, 'tasarë': 1, 'cawala': 1, 'fen': 1, 'lisse-holme': 1, 'lohtala': 1, 'nandava': 1, 'lassessen': 1, 'óma': 4, 'nenwa': 1, 'vanimerya': 1, 'almierya': 1, 'alcarya': 1, 'melimierya': 1, 'nés': 2, 'yessesse': 2, 'tennoio': 2, 'amen': 2, 'alcaresse': 1, 'yondo': 6, 'ainasúle': 1, 'maría': 3, 'ontaril': 1, 'hyame': 1, 'rámen': 1, 'úcarindor': 2, 'lúmesse': 3, 'firuvamme': 1, 'minyë': 2, 'estainë': 2, 'alaontanë': 1, 'eruonyar': 1, 'úcuiner': 1, 'aquë': 1, 'vallë': 1, 'elda': 1, 'caitanë': 2, 'marta': 3, 'vesserya': 1, 'cuivë': 1, 'ilyallon': 1, 'nentë': 1, 'neri': 3, 'nerion': 1, 'hröar': 1, 'poldë': 1, 'veryë': 1, 'canyë': 1, 'etyanórissen': 1, 'eldatari': 1, 'yárequentassen': 1, 'imin': 1, 'tata': 1, 'enel': 1, 'si': 11, 'as': 8, 'márë': 1, 'órelyar': 1, 'aistalë': 1, 'léralieron': 1, 'hilya': 5, 'sílar': 1, 'antalyannar': 1, \"'\": 6, 'lindalessë': 1, 'ontaina': 1, 'lambelwa': 1, 'ilúmë': 1, 'órenwar': 1, 'cendar': 1, \"alass'\": 1, 'alma': 1, 'eldamarwa': 1, 'ataltanë': 1, 'falmar': 1, 'nár': 1, 'serceva': 2, 'ninquë': 2, 'huinessë': 1, 'helcaraxeva': 1, 'antoryanelwë': 1, 'órengwar': 1, 'avamarnë': 1, 'etyë': 1, 'heceldamar': 1, 'anga-carmo': 1, 'ninqua': 1, 'firima': 1, 'rilmassë': 1, 'silmarillion': 1, 'elwa': 1, 'vasta': 1, 'hildor': 1, 'ulyaina': 1, 'alafiryar': 1, 'firyaiva': 1, 'sirir': 1, 'sirenen': 1, 'unótimë': 2, 'yénilíva': 1, 'silmarilli': 1, 'úcarmë': 1, 'sára': 3, 'nangwë': 1, 'tulta': 1, 'lossë': 4, 'heri': 1, 'númenyar': 1, 'ranyar': 1, 'lanyainë': 1, 'poicë': 1, 'hendulya': 1, 'calina': 1, 'súlelya': 1, 'lírilmë': 1, 'nóresse': 2, 'ear': 6, 'loasse': 1, 'alanarea': 1, 'mánen': 1, 'silala': 1, 'senen': 1, 'nomessen': 1, 'vanwavoisi': 1, 'caline': 1, 'poice': 1, 'cenilme': 1, 'lossella': 1, 'telpe': 2, 'vilala': 1, 'tintalle': 1, 'enyalilme': 1, 'marir': 1, 'silmelya': 1, 'númenye': 1, 'earinnar': 1, 'telcu': 1, 'siarë': 1, 'yonta': 1, 'hwinya': 1, 'carinya': 1, 'tuonyar': 1, 'rihtear': 1, 'pittavë': 1, 'yúyo': 4, 'hautar': 1, 'ruxa': 1, 'wile': 1, 'yernavë': 1, 'nwalca': 1, 'silmenen': 1, 'ilwessë': 1, 'rilyar': 1, 'helcavë': 1, 'ausa': 1, 'nimba': 1, 'véranyo': 1, 'yá': 1, 'randar': 1, 'quíta': 2, 'tintila': 1, 'wilyassë': 1, 'pahtan': 1, 'hendunya': 1, 'cenië': 1, 'oira': 1, 'lelyalëo': 1, 'fárëa': 1, 'lingas': 1, 'tellessë': 1, 'indonya': 2, 'inyë': 2, 'hauta': 2, 'láqua': 1, 'erin': 1, 'hequa': 2, 'quetintë': 1, 'laitar': 1, 'rúcë': 1, 'yétalentallo': 1, 'mettavalta': 1, 'selmanya': 1, 'talta': 1, 'alavaxië': 1, 'enta': 3, 'quettar': 2, 'centanya': 1, 'quetiën': 1, 'ni': 5, 'hehtaner': 1, 'minëa': 1, 'néca': 1, 'nalta': 1, 'aisto': 1, 'carinyanna': 1, 'centa': 1, 'aica': 1, 'nyarië': 1, 'valain': 1, 'túrina': 1, 'wanwa': 1, 'naucor': 1, 'firini': 1, 'caitar': 1, 'nún': 1, 'rómië': 1, 'límë': 1, 'lungë': 1, 'moringottor': 1, 'ortiër': 1, 'lambanya': 1, 'nútina': 1, 'quetin': 10, 'sundor': 1, 'ambarwa': 1, 'tancavë': 1, 'ruxar': 1, 'nyenyala': 1, 'cúma': 1, 'ilúvë': 1, 'tópa': 2, 'ai': 2, 'larta': 1, 'hópassë': 1, 'vahaiya': 1, 'hiruvan': 1, 'séya': 1, 'attulat': 3, 'queta': 3, 'nórenya': 4, 'onyavessë': 3, 'tula': 5, 'lotarwanna': 1, 'pelerenna': 1, 'erdë': 1, 'cemenesse': 1, 'olotsenen': 1, 'altarwa': 1, 'topina': 1, 'tuilëa': 1, 'rossë': 3, 'quatar': 1, 'vista': 1, 'nísienen': 1, 'nortuvanyë': 2, 'tuluvan': 1, 'onya': 2, 'lairë': 2, 'ambarenna': 1, 'aurendessë': 1, 'laureo': 1, 'lassion': 1, 'olori': 1, 'locta': 1, 'tavaso': 1, 'mardi': 1, 'ringë': 1, 'lauta': 1, 'lingala': 1, 'usta': 1, 'varnë': 1, 'piucca': 1, 'sara': 1, 'laurëa': 1, 'tinderdë': 1, 'yávië': 1, 'opelenna': 1, 'lis': 1, 'lutta': 1, 'marin': 1, 'tiuya': 1, 'hrívë': 4, 'tuluva': 9, 'verca': 1, 'taure': 1, 'nehtuvar': 1, 'lantuvar': 1, 'alelenëa': 1, 'matuva': 1, 'alanarëa': 1, 'nurua': 1, 'yétuvan': 2, 'yámuvan': 1, 'attuluvan': 1, 'elyenna': 3, 'lindalë': 1, 'tyeluva': 1, 'lantuva': 1, 'mettassë': 1, 'alayávala': 1, 'olba': 1, 'móta': 1, 'autuva': 2, 'lartuvan': 1, 'omentuvalwë': 1, 'ómet': 2, 'vantuva': 2, 'tienen': 2, 'vaháya': 1, 'hiruvalwë': 1, 'nórë': 1, 'órilwa': 1, 'serë': 1, 'ciryamo': 1, \"cild'\": 1, 'ambartanen': 1, 'ossëo': 1, 'falmallon': 1, 'lehtaina': 1, 'cuilenna': 1, 'sinda': 2, 'falassë': 1, 'herunen': 2, 'enantaina': 1, 'istyalye': 1, 'oronteryar': 1, 'sintelyes': 1, 'almárië': 1, 'rissen': 1, 'vinyamar': 1, 'yerna': 1, 'ondonen': 1, 'vanwë': 1, 'marner': 1, \"muin'\": 1, 'avánientë': 1, 'lómëo': 1, 'halien': 1, 'nuldar': 1, 'formello': 1, 'varnassë': 1, 'harien': 1, 'úvarna': 1, 'umbar': 1, 'intyaina': 1, \"tenn'oio\": 1, 'ume': 1, 'tyeldeo': 1, 'valion': 1, 'ormë': 1, 'ulca': 1, 'quendion': 1, 'voronwenta': 1, 'ëarello': 1, 'ngwalca': 1, 'tultaina': 1, 'cena': 3, 'órelya': 1, 'entula': 1, \"minn'\": 1, 'lumbë': 1, 'túla': 2, 'collo': 1, 'úner': 1, 'yondoron': 1, 'eldaliéva': 1, 'ter': 7, 'fírima': 2, 'antaina': 1, 'túlas': 2, 'hrívesse': 1, 'minna': 2, 'endóre': 1, 'nauva': 17, 'tintaina': 1, 'súreo': 1, 'lindanen': 1, 'tullë': 2, 'olwar': 1, 'súyanes': 1, 'fallë': 1, 'eäressë': 1, 'hrestassë': 2, 'ilmarino': 1, 'laureä': 2, 'alda': 7, 'lohtanë': 1, 'eldamaressë': 2, 'oiolómeo': 1, 'silles': 1, 'tiriono': 1, 'eldaiva': 2, 'yeninen': 1, 'lanteär': 2, 'lorien': 2, 'helda': 1, 'mir': 21, 'celu': 1, 'sírë': 1, 'ausirë': 1, 'andavë': 1, 'amárien': 1, 'fírala': 1, 'ilienyë': 1, 'elanar': 1, 'linduvan': 1, 'ciryaron': 1, 'atacoluva': 1, 'allanda': 1, 'equen': 1, 'nainuvalyë': 1, 'níreli': 1, 'úmiéo': 1, 'lávir': 1, 'óne': 14, 'solomon': 3, 'verinen': 1, 'úrio': 1, 'reħóvoam': 2, 'ávia': 2, 'yóhyafat': 2, 'yóram': 2, 'ussia': 2, 'yótam': 2, 'áħas': 2, 'ħesecia': 2, 'manasse': 2, 'ámon': 2, 'yosía': 2, 'yeconya': 1, 'hánoryar': 1, 'lie': 3, 'náne': 15, 'tulyana': 1, 'etyar': 1, 'vávelenna': 1, 'yósef': 3, 'verurya': 1, 'faila': 2, 'ua': 16, 'merne': 3, 'nucumitas': 1, 'lerya': 1, 'se': 15, 'nuldave': 3, 'sannes': 1, 'yé': 16, 'heruo': 3, 'vala': 4, 'túle': 7, 'oloresse': 3, 'quetila': 16, '“': 59, 'lávirion': 1, 'ruce': 1, 'mapávello': 1, 'verilya': 1, 'coalyanna': 1, 'anaie': 5, 'nostana': 1, 'sesse': 2, 'feanen': 2, 'coluvas': 1, 'estuval': 1, 'hé': 9, 'yésus': 19, 'etelehtuva': 1, 'lierya': 1, 'úcareltallon': 1, '”': 45, 'martaner': 1, 'carien': 4, 'carampe': 3, 'tercánoryanen': 2, 'vende': 2, 'hína': 10, 'coluva': 1, 'antauvalte': 1, 'hen': 1, 'immanuel”': 1, 'tea': 2, 'aselve': 1, 'eru”': 1, 'tá': 24, 'cuivierya': 1, 'fúmeryallo': 1, 'carne': 1, 'cániéla': 1, 'sen': 8, 'nampes': 1, 'verirya': 1, 'coaryanna': 1, 'uas': 6, 'he': 2, 'colde': 1, 'yen': 2, 'antanes': 1, 'elentirmor': 1, 'rómenye': 1, 'ménallon': 1, 'túler': 6, 'yerúsalemenna': 1, 'nóna': 2, 'yúraron': 1, 'rómesse': 2, 'cennelme': 1, 'tinwerya': 1, 'utúlielme': 1, 'cuvien': 1, 'epe': 4, 'hlasses': 2, 'herol': 3, 'valtana': 1, 'quanda': 15, 'yerúsalem': 3, 'óse': 4, 'comyala': 1, 'hére': 1, 'airimor': 1, 'parmangolmor': 2, 'imíca': 5, 'maquentes': 1, 'téna': 5, 'pa': 10, 'nauvane': 1, 'quentelte': 1, 'vet-lehemesse': 1, 'yúreo': 3, 'sie': 13, 'técina': 5, 'lo': 6, 'erutercáno': 4, \"'ar\": 1, 'elye': 7, 'vet-lehem': 1, 'laume': 3, 'ampitya': 3, 'cánor': 1, 'elyello': 1, 'túro': 1, 'mavar': 1, 'israel': 1, 'lienyan': 1, 'te-mentanes': 1, 'vet-lehemenna': 1, 'mena': 10, 'cesta': 1, 'ihírieldes': 1, 'nyara': 1, 'polienyan': 1, 'lelya': 3, 'luhtien': 1, 'yú': 9, 'inye': 12, 'hlasselte': 1, 'lendelte': 3, 'tinwe': 2, 'anelte': 3, 'céniéla': 2, 'pustanes': 1, 'nóme': 2, 'enge': 6, 'cenie': 1, 'antane': 1, 'túra': 7, 'coa': 5, 'cenner': 1, 'amillerya': 4, 'lantala': 1, 'cúvelte': 1, 'pantanelte': 1, 'harmaltar': 1, 'antaner': 2, 'malta': 2, 'ninquima': 1, 'níşima': 1, 'suhte': 1, 'héru': 3, 'tannexe': 2, 'yósefen': 2, 'mapa': 6, 'uşa': 1, 'mirrandorenna': 2, 'lemya': 1, 'tasse': 5, 'quetuvan': 1, 'lyenna': 2, 'cestuva': 1, 'nahtien': 1, 'orontes': 2, 'nampe': 3, 'lómisse': 1, 'oantes': 3, 'lemnes': 1, 'herolo': 1, 'qualme': 1, 'quétina': 4, 'mirrandorello': 1, 'yallen': 1, 'yondonya': 2, 'yeremía': 1, 'hlárina': 1, 'ramasse': 1, 'yaime': 1, 'nainie': 1, 'ráħel': 1, 'yaimea': 1, 'hínaryain': 1, 'tiutale': 1, 'nalte': 1, 'vanwe': 3, 'olos': 1, 'mirrandoresse': 1, 'eques': 2, 'israélo': 3, 'nóre': 4, 'merner': 1, 'híno': 1, 'cuile': 2, 'qualine': 1, 'arcelaüs': 1, 'turne': 1, 'yúreasse': 1, 'nómesse': 1, 'ataryo': 1, 'runces': 1, 'meniello': 1, 'nyárina': 1, 'raxerya': 1, 'ména': 2, 'alíleo': 1, 'túles': 2, 'ostosse': 1, 'násaret': 1, 'erutercánor': 3, 'nauvas': 1, 'násarya': 1, 'yesaia': 2, 'quentes': 12, 'queno': 1, 'yamila': 1, 'ravandasse': 1, 'alde': 2, 'manwa': 1, 'malle': 2, 'cara': 4, 'tieryar': 1, 'tére': 1, 'yúrea': 2, 'pelila': 1, 'yordan': 3, 'etelender': 1, 'sumbane': 1, 'sé': 3, 'yordan·síresse': 1, 'etequétila': 1, 'úcareltar': 1, 'cola': 1, 'yáve': 7, 'valda': 6, 'inwisso': 1, 'sane': 1, 'lertalde': 1, 'quete': 13, 'indenna': 1, \"'atarelva\": 1, 'avraham': 2, \"ná'\": 1, 'in': 10, 'pole': 6, 'ama': 1, 'avrahámen': 1, 'sarnillon': 1, 'yando': 3, 'cáya': 1, 'şundor': 1, 'cole': 5, 'círina': 2, 'hátina': 3, 'náre': 2, 'sumba': 1, 'nennen': 1, 'inwis': 2, 'hyapatu': 1, 'taluryalto': 1, 'le-sumbuva': 1, 'nárenen': 2, 'saltamarya': 1, 'ea': 12, 'máryasse': 1, 'poituvas': 1, 'vattalamya': 1, 'comyauvas': 1, 'orirya': 1, 'haura': 1, 'ospor': 1, 'urtauvas': 1, 'úquen': 1, 'luhtya': 1, 'yoháno': 1, 'váquente': 1, 'maurenya': 1, 'sumbana': 2, 'lyé': 1, 'hanquentasse': 2, 'quente': 18, 'ásan': 1, 'lave': 5, 'vent': 1, 'láve': 1, 'térave': 1, 'pantana': 1, 'cennes': 3, 'untala': 1, 'cucua': 1, 'yenen': 1, 'nanye': 1, 'fastana': 1, 'mante': 1, 'auressen': 1, 'canaquean': 2, 'lómissen': 1, 'anes': 2, 'maita': 1, 'sahtando': 1, 'qui': 26, 'sarninnar': 1, 'ola': 1, 'massar': 1, 'coita': 1, 'rie': 4, 'massanen': 1, 'quettanen': 1, 'antollo': 1, 'hata': 1, 'inse': 1, 'canuvas': 1, 'valaryain': 1, 'lye': 5, 'coluvaltel': 1, 'máltatse': 1, 'pustien': 1, 'talalya': 1, 'petiello': 1, 'sarnenna': 1, 'eque': 1, 'tyasta': 1, 'ainolya': 2, 'antauvan': 1, 'elyen': 1, 'lantal': 1, 'ainalyen': 1, 'heca': 2, 'sátan': 1, 'alye': 2, 'erinqua': 1, 'veuya': 1, 'arauco': 1, 'sello': 3, 'valali': 1, 'násaretello': 1, 'capernaumesse': 1, 'sevulondo': 2, 'naftalio': 2, 'earmalle': 1, 'alílea': 2, 'liendion': 3, 'hamila': 1, 'cenne': 1, 'hoa': 4, 'hammer': 1, 'ñuruhuineo': 1, 'ménasse': 1, 'oronte': 5, 'yanallo': 1, 'mentarya': 1, 'sinwa': 2, 'hira': 1, 'aranie': 3, 'utúlie': 3, 'har': 3, 'túna': 2, 'áni': 2, 'caruvan': 1, 'let': 1, 'raitoli': 1, 'imya': 6, 'hehtanette': 2, 'rembetta': 1, 'se-hilyanet': 1, 'lelyala': 2, 'talo': 2, 'exe': 3, 'yet': 1, 'nánet': 2, 'hánor': 1, 'yácov': 2, 'severaion': 1, 'yohannes': 1, 'hánorya': 1, 'luntesse': 1, 'severai': 1, 'ataretta': 2, 'envinyatála': 1, 'rembettar': 1, 'yaldeset': 1, 'lunte': 2, 'hilyanettes': 1, 'nyarie': 1, 'síria': 1, 'tallelte': 2, 'engwar': 1, 'nwalyaine': 1, 'hlívínen': 1, 'nwalmínen': 1, 'nostaleron': 1, 'raucoharyainar': 1, 'ránahlaiwar': 1, 'taptar': 1, 'nestanes': 1, 'hoe': 1, 'şangar': 4, 'se-hilyaner': 1, 'ostor': 1, 'quean': 1, 'nóriello': 1, 'valime': 1, 'capa': 1, 'alassenen': 1, 'paityalelda': 1, 'menelde': 6, 'ambe': 6, 'naten': 1, 'hátaina': 1, 'ettenna': 4, 'queni': 8, 'vattuvar': 1, 'sanna': 2, 'osto': 4, 'orontesse': 1, 'cúvima': 1, 'mo': 2, 'narta': 1, 'sa-panya': 1, 'calpa': 1, 'calmatarmasse': 1, 'caltas': 1, 'ilquenna': 1, 'coasse': 2, 'elde': 4, 'tyara': 1, 'calalda': 1, 'calta': 1, 'atannar': 1, 'polieltan': 1, 'cene': 2, 'máre': 3, 'cardaldar': 1, 'antáveltan': 1, 'atareldan': 1, 'uan': 2, 'mapáven': 2, 'cemenye': 1, 'autuvat': 1, 'tengwa': 1, 'hya': 18, 'şanyello': 1, 'ilquen': 7, 'race': 4, 'mici': 5, 'ampitye': 1, 'axani': 1, 'peanta': 2, 'isse': 4, 'araniesse': 3, 'exi': 1, 'failielda': 1, 'failie': 1, 'parmangolmoron': 1, 'farisaron': 1, 'tuluvalde': 1, 'aiquen': 9, 'rúşea': 1, 'hánoryanna': 2, 'namie': 1, \"'ráca\": 1, 'námina': 1, 'ocombe': 1, \"'auco\": 1, 'martyana': 1, 'ehenno': 1, 'náren': 1, 'násie': 6, 'tulil': 2, 'apaitielye': 1, 'métima': 1, 'mitta': 1, 'tyelpeva': 1, 'yéta': 1, 'milyala': 1, 'arácie': 1, 'vestale': 3, 'endaryasse': 1, 'hroamittalyar': 2, 'arya': 2, 'hroalya': 4, 'ehenna': 2, 'formalya': 2, 'lye-sahta': 1, 'aucire': 1, 'hate': 1, 'lyello': 2, 'lehtaxe': 1, 'veriryallo': 1, 'castanen': 1, 'hrúpuhtiéva': 1, 'tyare': 2, 'nissenna': 1, 'mentana': 1, 'vandar': 1, 'menelden': 1, 'cemennen': 1, 'taluryant': 1, 'yerúsalemnen': 1, 'quetielya': 1, 'han': 1, 'ulcuo': 1, 'tare': 1, 'yenna': 1, 'ulco': 2, 'le-pete': 1, 'forya': 1, 'ventalyasse': 1, 'quera': 1, 'mere': 2, 'námonna': 1, 'aselye': 1, 'laupelya': 1, 'ásen': 1, 'collalya': 1, 'mauya': 1, 'larnelta': 2, 'quere': 1, 'imle': 2, 'yello': 1, 'yuhta': 1, 'nat': 5, 'samil': 1, 'mela': 1, 'ñottolyar': 1, 'aista': 1, 'hútar': 1, 'mai': 1, 'le-tevir': 1, 'hyama': 2, 'le-roitar': 1, 'náveldan': 1, 'atareldo': 1, 'anarya': 1, 'ulcar': 1, 'mani': 1, 'ulo': 3, 'lanta': 1, 'failannar': 1, 'úfailannar': 1, 'ma': 8, 'tungwemor': 1, 'uar': 6, 'suilal': 1, 'hánolyar': 1, 'etta': 8, 'antal': 2, 'oraviéva': 3, 'lamya': 1, 'róma': 1, 'imnetyandor': 1, 'carir': 3, 'yomencoassen': 1, 'mallessen': 1, 'camien': 1, 'té': 4, 'cámalte': 3, 'paityalelta': 3, 'hyarmalyan': 1, 'ista': 4, 'cára': 1, 'annalyar': 1, 'nauvar': 3, 'nuldasse': 4, 'atarelya': 3, 'tíra': 3, 'paityuva': 3, 'lyen': 6, 'ire': 1, 'hyamil': 1, 'véra': 4, 'solmalya': 1, 'holtiéla': 1, 'fennalya': 1, 'atarelyanna': 1, 'hyámal': 1, 'imye': 1, 'vorongandale': 1, 'sanilte': 1, 'nauvalte': 1, 'hláraine': 1, 'yuhtiénen': 1, 'quettali': 1, 'atarelda': 4, 'maureldar': 1, 'arcalde': 1, 'aranielya': 1, 'indómelya': 1, 'cemende': 2, 'tambe': 2, 'ilaurea': 1, 'massalma': 1, 'apsene': 1, 'úcarelvar': 1, 'síve': 2, 'elme': 1, 'apsenir': 1, 'tai': 1, 'úcarir': 1, 'elmen': 1, 'áme': 3, 'hepil': 1, 'lamate': 1, 'millo': 1, 'caralyasse': 1, 'sova': 1, 'cendelelya': 1, 'lamatelya': 1, 'cénima': 1, 'atanin': 2, 'atarelyan': 1, 'comya': 3, 'malo': 1, 'ñwarie': 1, 'ammate': 1, 'arpor': 1, 'pilir': 1, 'harmalya': 1, 'endalya': 1, 'euva': 2, 'hendelya': 2, 'málesse': 2, 'olca': 1, 'lyesse': 1, 'ualde': 2, 'náve': 1, 'móli': 1, 'erun': 2, 'mammonen': 1, 'véla': 1, 'matta': 2, 'hroa': 1, 'larmar': 1, 'cima': 1, 'ualte': 3, 'rere': 1, 'cirihta': 1, 'haurar': 1, 'valdie': 1, 'napane': 1, 'perranga': 1, 'coivieryan': 1, 'ente': 3, 'lanni': 1, 'mana': 6, 'castalda': 1, 'náven': 1, 'tarcine': 3, 'para': 2, 'resto': 1, 'mole': 2, 'lia': 1, 'nyarin': 1, 'alcareryasse': 1, 'úne': 1, 'tópina': 1, 'netya': 1, 'restasse': 1, 'sisse': 1, 'enwa': 1, 'ita': 2, 'láreáve': 1, 'topuvas': 1, 'lé': 2, 'saviéno': 2, 'matuvalve': 1, 'mananen': 1, 'topuvalve': 1, 'inwe': 1, 'liendi': 1, 'roitar': 1, 'samilde': 1, 'maure': 2, 'nativa': 1, 'hilyala': 2, 'samuva': 1, 'vére': 1, 'tarrcieryar': 1, 'réo': 1, 'farya': 1, 'yétal': 1, 'lisce': 3, 'hanolyo': 1, 'hendesse': 1, 'cime': 1, 'pano': 3, 'hendelyasse': 2, 'ece': 1, 'hánolyanna': 1, \"'lava\": 1, 'tuce': 2, \"hendetyallo'\": 1, 'imnetyando': 1, 'minyave': 2, 'tuca': 1, 'hendelyallo': 1, 'polil': 2, 'hánolyo': 1, 'hendello': 1, 'arcala': 1, 'came': 2, 'cestala': 1, 'hire': 1, 'ilquenen': 1, 'tambala': 1, 'latyana': 1, 'yondorya': 1, 'massa': 1, 'antauva': 2, 'sar': 1, 'arcas': 1, 'lingwe': 1, 'lau': 2, 'antauvas': 1, 'leuca': 1, 'olce': 2, 'istar': 1, 'hínaldain': 1, 'arcar': 1, 'tear': 1, 'şanye': 1, 'yáveltainen': 2, 'istuvaldet': 2, 'tiumar': 1, 'necelillon': 1, 'relyávi': 1, 'nastalaimallon': 1, 'naite': 1, 'quelexima': 2, 'şaura': 1, 'úmirwa': 1, 'é': 2, 'rimbali': 2, 'quetuvar': 1, 'auresse': 1, \"'heru\": 1, 'ualme': 1, 'esselyanen': 3, 'et-hanter': 1, 'raucor': 4, 'taurie': 1, 'cardali': 1, 'nyaruvan': 1, \"'uan\": 1, 'oi': 2, 'nillo': 1, 'racir': 1, 'şánye': 1, 'ulle': 2, 'oloiri': 2, 'súri': 4, 'vávaner': 2, 'penter': 2, 'tananna': 1, 'tulcana': 1, 'ondosse': 1, 'coanna': 1, 'talantes': 1, 'lantarya': 1, 'halmahlaiwa': 1, 'meril': 1, 'poita': 2, 'rahtala': 1, 'máryanen': 1, 'appanes': 2, 'merin': 2, 'poitana': 1, 'halmahlíveryallo': 1, 'henna': 3, 'quetil': 2, 'munta': 1, 'aiquenna': 1, 'airimon': 1, 'yaca': 1, 'anna': 1, 'móses': 1, 'canne': 2, 'vettie': 1, 'nestuvanyes': 1, 'tuxantur': 1, 'hanquente': 1, 'tópanya': 1, 'quetta': 1, 'núronya': 1, 'nestana': 2, 'panyana': 1, 'túre': 3, 'ohtarion': 1, 'sinanna': 1, 'ménas': 1, 'exenna': 1, 'núronyanna': 1, 'carises': 1, 'tuluvar': 2, 'caituvar': 1, 'sarno': 2, 'ísac': 1, 'lan': 3, 'araniéno': 1, 'yondor': 1, 'hátine': 1, 'ettesse': 1, 'euvar': 1, 'yaiwelta': 1, 'mulielta': 1, 'nelciva': 1, 'tuxanturenna': 1, 'asáviel': 1, 'núro': 1, 'yana': 2, 'appane': 2, 'úre': 1, 'váne': 1, 'hello': 1, 'veuyane': 1, 'parmangolmo': 1, 'peantar': 1, 'hilyuvan': 1, 'nómenna': 1, 'lelyal': 1, 'rusqui': 1, 'samir': 2, 'eccar': 1, 'haustar': 1, 'atanyondo': 2, 'same': 4, 'lertas': 1, 'carya': 1, 'hildoryar': 2, 'lava': 2, 'auta': 2, 'tala': 3, 'atarinya': 1, 'sapsaryanna': 1, 'qualinain': 1, 'qualinaltar': 1, 'sapsaltannar': 1, 'amortale': 1, 'earesse': 1, 'tupila': 1, 'falmainen': 1, 'lorna': 1, 'túlelte': 1, 'eccoitaner': 1, 'rehta': 1, 'quálalme': 1, 'nalde': 1, 'caurie': 1, 'ortala': 1, 'naicines': 1, 'quilde': 1, 'náner': 2, 'quátine': 1, 'elmendanen': 1, 'quenter': 4, 'nostaleo': 1, 'pan': 1, 'quetis': 1, 'huoreo': 1, 'cilien': 1, 'yámette': 1, 'ment': 1, 'utúliel': 1, 'sir': 1, 'ñwalien': 1, 'tello': 2, 'lámáre': 3, 'polcalíva': 1, 'nesselesse': 1, 'arcaner': 1, 'et-hatil': 1, 'me': 1, 'menta': 2, 'polcaiva': 1, 'ettúliéla': 1, 'poicar': 1, 'rimpa': 1, 'olla': 1, 'lanca': 1, 'quallelte': 1, 'mavari': 1, 'úşer': 1, 'nyarnelte': 1, 'raucoharyanar': 1, 'etelende': 2, 'velien': 1, 'hortaneltes': 1, 'ménaltallon': 1, 'lalevíte': 1, 'caitala': 1, 'caimasse': 1, 'cenila': 3, 'savielta': 1, 'lalevítenna': 2, 'huore': 2, 'úcaretyar': 2, 'apsénine': 2, 'ennoli': 1, 'intenna': 1, 'naiquéta': 1, 'sanweltar': 1, 'sánalde': 1, 'natali': 1, 'endaldasse': 1, 'ancárima': 1, 'quetien': 1, 'istieldan': 1, 'apsenien': 1, 'úcari': 1, '–”': 1, 'caimalya': 1, 'maralyanna': 1, 'maryanna': 1, 'ruhtane': 1, 'ániéla': 1, 'taite': 1, 'hilyane': 1, 'epeta': 1, 'caines': 1, 'tungwemóli': 2, 'úcarindoli': 2, 'cainer': 1, 'farisar': 2, 'quétaner': 1, 'hildoryannar': 2, 'peantarelda': 1, 'mate': 1, 'hlarila': 1, 'aşarova': 1, 'nimpar': 1, 'oravie': 1, 'yacie': 1, 'túlen': 1, 'yalien': 1, 'failar': 1, 'endero': 1, 'meldor': 1, 'polir': 1, 'naire': 1, 'ender': 2, 'aselte': 1, 'rí': 1, 'mapana': 1, 'hepuvalte': 1, 'lamati': 1, 'tace': 1, 'lilma': 1, 'alapihta': 1, 'lanneo': 1, 'yára': 1, 'collasse': 1, 'quanta': 1, 'nírerya': 1, 'tucuva': 1, 'sallo': 1, 'faica': 1, 'narcie': 1, 'limpe': 3, 'yáre': 1, 'helmolpessen': 2, 'helmolpi': 2, 'rúvine': 1, 'ulya': 1, 'nancarne': 1, 'panyar': 1, 'lemyat': 1, 'tur': 1, 'cúve': 1, 'selyenya': 1, 'şintanéya': 1, 'qualle': 1, 'málya': 1, 'nanwenuvas': 1, 'coivienna': 1, 'celumeo': 1, 'loar': 1, 'yunque': 1, 'ca': 1, 'collaryo': 1, 'lane': 1, 'insenna': 1, 'appan': 1, 'nauvan': 1, 'rehtana': 1, 'quernexe': 1, 'tuntala': 1, 'selye': 1, 'savielya': 1, 'erehtie': 1, 'sáme': 1, 'mále': 1, 'landelte': 1, 'yaiwenen': 1, 'mentanes': 1, 'şanga': 1, 'mittanes': 2, 'nyarna': 1, 'ettúle': 1, 'ménanna': 1, 'laceníti': 1, 'saviste': 2, 'polin': 1, 'hanquentette': 1, 'henduttat': 2, 'martuva': 1, 'lent': 1, 'latyane': 1, 'tulcave': 1, 'tun': 1, 'uaste': 1, 'aiquenen': 1, 'tú': 1, 'lendette': 1, 'nyarne': 1, 'taller': 1, 'úpa': 2, 'haryaina': 1, 'rauco': 2, 'et-hátina': 1, 'tatallaner': 1, 'israelde': 1, 'raucoron': 1, 'et-hatis': 1, 'endarya': 1, 'helde': 1, 'vintane': 1, 'mámar': 1, 'mavaro': 1, 'yávie': 1, 'molir': 1, 'nótime': 1, 'yaviéno': 1, 'herunna': 1, 'mentauvas': 1, 'molindor': 1, 'yávieryanna': 1, 'mende': 1, 'mámannar': 1, 'coallo': 2, 'lelyalde': 1, \"'menelo\": 1, 'nesta': 1, 'hlaiwar': 1, 'qualinar': 1, 'halmahlaiwar': 1, 'et-hata': 1, 'acámielde': 1, 'muntan': 2, 'urus': 1, 'quiltaldasse': 1, 'mattapoco': 1, 'lendan': 1, 'laupe': 1, 'hyapat': 1, 'vandil': 1, 'mattaryo': 1, 'tulilde': 1, 'suila': 1, 'raine': 2, 'merilde': 1, 'lello': 1, 'nanwenuva': 1, 'quiquie': 1, 'lasta': 1, 'quettaldannar': 1, 'autalde': 1, 'ostollo': 1, 'pale': 1, 'taluldalto': 1, 'namiéva': 1, 'cólima': 1, 'soromo': 1, 'nóren': 1, 'oston': 1, '<UNK>': 10000000}\n",
      "Found 82 unique characters\n",
      "Found 5 unique named entity tags\n"
     ]
    }
   ],
   "source": [
    "# Petit remplacement de NA en 0 :\n",
    "train_sentences = replace_na_with_o(train_sentences)\n",
    "test_sentences = replace_na_with_o(test_sentences)\n",
    "dev_sentences = replace_na_with_o(dev_sentences)\n",
    "\n",
    "# MAPPING\n",
    "dico_words,word_to_id,id_to_word = word_mapping(train_sentences, parameters['lower'])\n",
    "dico_chars, char_to_id, id_to_char = char_mapping(train_sentences)\n",
    "dico_tags, tag_to_id, id_to_tag = tag_mapping(train_sentences)"
   ]
  },
  {
   "cell_type": "code",
   "execution_count": 41,
   "metadata": {
    "colab": {
     "base_uri": "https://localhost:8080/"
    },
    "executionInfo": {
     "elapsed": 8,
     "status": "ok",
     "timestamp": 1741434706384,
     "user": {
      "displayName": "Alix Sirven-Vienot",
      "userId": "13691383331929752611"
     },
     "user_tz": -60
    },
    "id": "EuEzaeCNDBC2",
    "outputId": "7c27e6f3-3877-47fa-9017-a11a1163add7"
   },
   "outputs": [
    {
     "name": "stdout",
     "output_type": "stream",
     "text": [
      "{'0': 7823, 'LOC': 127, 'PERSON': 213, '<START>': -1, '<STOP>': -2}\n",
      "{'0': 0, 'PERSON': 1, 'LOC': 2, '<START>': 3, '<STOP>': 4}\n",
      "{0: '0', 1: 'PERSON', 2: 'LOC', 3: '<START>', 4: '<STOP>'}\n"
     ]
    }
   ],
   "source": [
    "print(dico_tags)\n",
    "print(tag_to_id)\n",
    "print(id_to_tag)"
   ]
  },
  {
   "cell_type": "markdown",
   "metadata": {
    "id": "91TJ4WiQEXNr"
   },
   "source": [
    "Preparation pour le dataset final\n"
   ]
  },
  {
   "cell_type": "code",
   "execution_count": 42,
   "metadata": {
    "executionInfo": {
     "elapsed": 40,
     "status": "ok",
     "timestamp": 1741434706426,
     "user": {
      "displayName": "Alix Sirven-Vienot",
      "userId": "13691383331929752611"
     },
     "user_tz": -60
    },
    "id": "NsN4K0MUEaT2"
   },
   "outputs": [],
   "source": [
    "def lower_case(x,lower=False):\n",
    "    if lower:\n",
    "        return x.lower()\n",
    "    else:\n",
    "        return x"
   ]
  },
  {
   "cell_type": "code",
   "execution_count": 43,
   "metadata": {
    "executionInfo": {
     "elapsed": 6,
     "status": "ok",
     "timestamp": 1741434706430,
     "user": {
      "displayName": "Alix Sirven-Vienot",
      "userId": "13691383331929752611"
     },
     "user_tz": -60
    },
    "id": "ihEzDkylEdkl"
   },
   "outputs": [],
   "source": [
    "def prepare_dataset(sentences, word_to_id, char_to_id, tag_to_id, lower=False):\n",
    "    \"\"\"\n",
    "    Prepare the dataset. Return a list of lists of dictionaries containing:\n",
    "        - word indexes\n",
    "        - word char indexes\n",
    "        - tag indexes\n",
    "    \"\"\"\n",
    "    data = []\n",
    "    for s in sentences:\n",
    "        str_words = [w[0] for w in s]\n",
    "        words = [word_to_id[lower_case(w,lower) if lower_case(w,lower) in word_to_id else '<UNK>']\n",
    "                 for w in str_words]\n",
    "        # Skip characters that are not in the training set\n",
    "        chars = [[char_to_id[c] for c in w if c in char_to_id]\n",
    "                 for w in str_words]\n",
    "        tags = [tag_to_id[w[-1]] for w in s]\n",
    "        data.append({\n",
    "            'str_words': str_words,\n",
    "            'words': words,\n",
    "            'chars': chars,\n",
    "            'tags': tags,\n",
    "        })\n",
    "    return data"
   ]
  },
  {
   "cell_type": "code",
   "execution_count": 44,
   "metadata": {
    "colab": {
     "base_uri": "https://localhost:8080/"
    },
    "executionInfo": {
     "elapsed": 45,
     "status": "ok",
     "timestamp": 1741434706473,
     "user": {
      "displayName": "Alix Sirven-Vienot",
      "userId": "13691383331929752611"
     },
     "user_tz": -60
    },
    "id": "XkjQXGxKEiZa",
    "outputId": "b242268a-24e7-4829-8a4e-e65ddef8a162"
   },
   "outputs": [
    {
     "name": "stdout",
     "output_type": "stream",
     "text": [
      "498 / 53 / 206 sentences in train / dev / test.\n"
     ]
    }
   ],
   "source": [
    "train_data = prepare_dataset(\n",
    "    train_sentences, word_to_id, char_to_id, tag_to_id, parameters['lower']\n",
    ")\n",
    "dev_data = prepare_dataset(\n",
    "    dev_sentences, word_to_id, char_to_id, tag_to_id, parameters['lower']\n",
    ")\n",
    "test_data = prepare_dataset(\n",
    "    test_sentences, word_to_id, char_to_id, tag_to_id, parameters['lower']\n",
    ")\n",
    "print(\"{} / {} / {} sentences in train / dev / test.\".format(len(train_data), len(dev_data), len(test_data)))"
   ]
  },
  {
   "cell_type": "markdown",
   "metadata": {
    "id": "4UhByRY5ErIh"
   },
   "source": [
    "Load Word Embeddings\n",
    "Now, We move to the next step of loading the pre-trained word embeddings.\n",
    "\n",
    "The paper uses glove vectors 100 dimension vectors trained on the ( Wikipedia 2014 + Gigaword 5 ) corpus containing 6 Billion Words. The word embedding file ( glove.6B.100d.txt ) is placed in the data folder.  \n",
    "\n",
    "Bon nous glove on va être obligé de faire du fint-tuning et sur le multilingue et dans un autre script parceque sinon ça va être lourd"
   ]
  },
  {
   "cell_type": "code",
   "execution_count": 45,
   "metadata": {
    "colab": {
     "base_uri": "https://localhost:8080/"
    },
    "executionInfo": {
     "elapsed": 258,
     "status": "ok",
     "timestamp": 1741434706728,
     "user": {
      "displayName": "Alix Sirven-Vienot",
      "userId": "13691383331929752611"
     },
     "user_tz": -60
    },
    "id": "6OgMUJ0-EuBl",
    "outputId": "e904f7fb-4789-4e38-87d2-294696e1f91b"
   },
   "outputs": [
    {
     "name": "stdout",
     "output_type": "stream",
     "text": [
      "Loaded 5678 pretrained embeddings.\n"
     ]
    }
   ],
   "source": [
    "all_word_embeds = {}\n",
    "\n",
    "for i, line in enumerate(codecs.open(parameters['embedding_path'], 'r', 'utf-8')):\n",
    "    s = line.strip().split()\n",
    "    if len(s) == parameters['word_dim'] + 1:\n",
    "        all_word_embeds[s[0]] = np.array([float(i) for i in s[1:]])\n",
    "\n",
    "#Intializing Word Embedding Matrix\n",
    "word_embeds = np.random.uniform(-np.sqrt(0.06), np.sqrt(0.06), (len(word_to_id), parameters['word_dim']))\n",
    "\n",
    "for w in word_to_id:\n",
    "    if w in all_word_embeds:\n",
    "        word_embeds[word_to_id[w]] = all_word_embeds[w]\n",
    "    elif w.lower() in all_word_embeds:\n",
    "        word_embeds[word_to_id[w]] = all_word_embeds[w.lower()]\n",
    "\n",
    "print('Loaded %i pretrained embeddings.' % len(all_word_embeds))"
   ]
  },
  {
   "cell_type": "code",
   "execution_count": 46,
   "metadata": {
    "colab": {
     "base_uri": "https://localhost:8080/"
    },
    "executionInfo": {
     "elapsed": 11,
     "status": "ok",
     "timestamp": 1741434706740,
     "user": {
      "displayName": "Alix Sirven-Vienot",
      "userId": "13691383331929752611"
     },
     "user_tz": -60
    },
    "id": "eN2LRrG-PbRu",
    "outputId": "a56f9581-929f-4d06-9041-a3d2ad78458e"
   },
   "outputs": [
    {
     "name": "stdout",
     "output_type": "stream",
     "text": [
      "word_to_id:  2849\n"
     ]
    }
   ],
   "source": [
    "with open(mapping_file, 'wb') as f:\n",
    "    mappings = {\n",
    "        'word_to_id': word_to_id,\n",
    "        'tag_to_id': tag_to_id,\n",
    "        'char_to_id': char_to_id,\n",
    "        'parameters': parameters,\n",
    "        'word_embeds': word_embeds\n",
    "    }\n",
    "    cPickle.dump(mappings, f)\n",
    "\n",
    "\n",
    "print('word_to_id: ', len(word_to_id))"
   ]
  },
  {
   "cell_type": "markdown",
   "metadata": {
    "id": "tBnB7Z63KvZO"
   },
   "source": [
    "# Model\n",
    "The model that we are presenting is a complicated one, since its a hybridized network using LSTMs and CNNs. So in order to break down the complexity, we have attempted to simplify the process by splitting up operations into individual functions that we can go over part by part. This hopefully makes the whole thing more easily digestable and gives a more intuitive understanding of the whole process\n",
    "\n",
    "division par fonction des différents processus\n",
    "\n",
    "\n",
    "## Initialization of weights\n",
    "We start with the init_embedding function, which just initializes the embedding layer by pooling from a random sample.\n",
    "\n",
    "On initialise les poids de manière random\n",
    "cf. formule dans l'article"
   ]
  },
  {
   "cell_type": "code",
   "execution_count": 47,
   "metadata": {
    "executionInfo": {
     "elapsed": 3,
     "status": "ok",
     "timestamp": 1741434706744,
     "user": {
      "displayName": "Alix Sirven-Vienot",
      "userId": "13691383331929752611"
     },
     "user_tz": -60
    },
    "id": "6c9uk7KqLztZ"
   },
   "outputs": [],
   "source": [
    "def init_embedding(input_embedding):\n",
    "    \"\"\"\n",
    "    Initialize embedding\n",
    "    \"\"\"\n",
    "    bias = np.sqrt(3.0 / input_embedding.size(1))\n",
    "    nn.init.uniform(input_embedding, -bias, bias)"
   ]
  },
  {
   "cell_type": "code",
   "execution_count": 48,
   "metadata": {
    "executionInfo": {
     "elapsed": 3,
     "status": "ok",
     "timestamp": 1741434706749,
     "user": {
      "displayName": "Alix Sirven-Vienot",
      "userId": "13691383331929752611"
     },
     "user_tz": -60
    },
    "id": "BYOIZWKVL4Rz"
   },
   "outputs": [],
   "source": [
    "def init_linear(input_linear):\n",
    "    \"\"\"\n",
    "    Initialize linear transformation\n",
    "    \"\"\"\n",
    "    bias = np.sqrt(6.0 / (input_linear.weight.size(0) + input_linear.weight.size(1)))\n",
    "    nn.init.uniform(input_linear.weight, -bias, bias)\n",
    "    if input_linear.bias is not None:\n",
    "        input_linear.bias.data.zero_()"
   ]
  },
  {
   "cell_type": "markdown",
   "metadata": {
    "id": "PboWwnSvMGNX"
   },
   "source": [
    "## LSTM Layer\n",
    "This is the initialization scheme for the LSTM layers.\n",
    "cf. formule dans article\n"
   ]
  },
  {
   "cell_type": "code",
   "execution_count": 49,
   "metadata": {
    "executionInfo": {
     "elapsed": 6,
     "status": "ok",
     "timestamp": 1741434706783,
     "user": {
      "displayName": "Alix Sirven-Vienot",
      "userId": "13691383331929752611"
     },
     "user_tz": -60
    },
    "id": "Mf_G9sXKMFhv"
   },
   "outputs": [],
   "source": [
    "def init_lstm(input_lstm):\n",
    "    \"\"\"\n",
    "    Initialize lstm\n",
    "\n",
    "    PyTorch weights parameters:\n",
    "\n",
    "        weight_ih_l[k]: the learnable input-hidden weights of the k-th layer,\n",
    "            of shape `(hidden_size * input_size)` for `k = 0`. Otherwise, the shape is\n",
    "            `(hidden_size * hidden_size)`\n",
    "\n",
    "        weight_hh_l[k]: the learnable hidden-hidden weights of the k-th layer,\n",
    "            of shape `(hidden_size * hidden_size)`\n",
    "    \"\"\"\n",
    "\n",
    "    # Weights init for forward layer\n",
    "    for ind in range(0, input_lstm.num_layers):\n",
    "\n",
    "        ## Gets the weights Tensor from our model, for the input-hidden weights in our current layer\n",
    "        weight = eval('input_lstm.weight_ih_l' + str(ind))\n",
    "\n",
    "        # Initialize the sampling range\n",
    "        sampling_range = np.sqrt(6.0 / (weight.size(0) / 4 + weight.size(1)))\n",
    "\n",
    "        # Randomly sample from our samping range using uniform distribution and apply it to our current layer\n",
    "        nn.init.uniform(weight, -sampling_range, sampling_range)\n",
    "\n",
    "        # Similar to above but for the hidden-hidden weights of the current layer\n",
    "        weight = eval('input_lstm.weight_hh_l' + str(ind))\n",
    "        sampling_range = np.sqrt(6.0 / (weight.size(0) / 4 + weight.size(1)))\n",
    "        nn.init.uniform(weight, -sampling_range, sampling_range)\n",
    "\n",
    "\n",
    "    # We do the above again, for the backward layer if we are using a bi-directional LSTM (our final model uses this)\n",
    "    if input_lstm.bidirectional:\n",
    "        for ind in range(0, input_lstm.num_layers):\n",
    "            weight = eval('input_lstm.weight_ih_l' + str(ind) + '_reverse')\n",
    "            sampling_range = np.sqrt(6.0 / (weight.size(0) / 4 + weight.size(1)))\n",
    "            nn.init.uniform(weight, -sampling_range, sampling_range)\n",
    "            weight = eval('input_lstm.weight_hh_l' + str(ind) + '_reverse')\n",
    "            sampling_range = np.sqrt(6.0 / (weight.size(0) / 4 + weight.size(1)))\n",
    "            nn.init.uniform(weight, -sampling_range, sampling_range)\n",
    "\n",
    "    # Bias initialization steps\n",
    "\n",
    "    # We initialize them to zero except for the forget gate bias, which is initialized to 1\n",
    "    if input_lstm.bias:\n",
    "        for ind in range(0, input_lstm.num_layers):\n",
    "            bias = eval('input_lstm.bias_ih_l' + str(ind))\n",
    "\n",
    "            # Initializing to zero\n",
    "            bias.data.zero_()\n",
    "\n",
    "            # This is the range of indices for our forget gates for each LSTM cell\n",
    "            bias.data[input_lstm.hidden_size: 2 * input_lstm.hidden_size] = 1\n",
    "\n",
    "            #Similar for the hidden-hidden layer\n",
    "            bias = eval('input_lstm.bias_hh_l' + str(ind))\n",
    "            bias.data.zero_()\n",
    "            bias.data[input_lstm.hidden_size: 2 * input_lstm.hidden_size] = 1\n",
    "\n",
    "        # Similar to above, we do for backward layer if we are using a bi-directional LSTM\n",
    "        if input_lstm.bidirectional:\n",
    "            for ind in range(0, input_lstm.num_layers):\n",
    "                bias = eval('input_lstm.bias_ih_l' + str(ind) + '_reverse')\n",
    "                bias.data.zero_()\n",
    "                bias.data[input_lstm.hidden_size: 2 * input_lstm.hidden_size] = 1\n",
    "                bias = eval('input_lstm.bias_hh_l' + str(ind) + '_reverse')\n",
    "                bias.data.zero_()\n",
    "                bias.data[input_lstm.hidden_size: 2 * input_lstm.hidden_size] = 1"
   ]
  },
  {
   "cell_type": "markdown",
   "metadata": {
    "id": "kTLlXVdfMvHC"
   },
   "source": [
    "## CRF layer\n",
    "\n",
    "We have two options:\n",
    "\n",
    "* **softmax**: normalize the scores into a vector such that can be interpreted as the probability that the word belongs to class. Eventually, the probability of a sequence of tag *y* is the product of all tags.\n",
    "\n",
    "* **linear-chain CRF**: the first method makes local choices. In other words, even if we capture some information from the context thanks to the bi-LSTM, the tagging decision is still local. We don’t make use of the neighbooring tagging decisions. Given a sequence of words *w1*, ..., *wm*, a sequence of score vectors *s1*, .., *sm* and a sequence of tags *y1*, ..,*ym*, a linear-chain CRF defines a global score C appartenant à R(double bar) such that:\n",
    "\n",
    "cf Grosse formule\n",
    "\n",
    "\n",
    "where *T* is a transition matrix in\n",
    " and R⁹fois⁹ are vectors of scores that capture the cost of beginning or ending with a given tag. The use of the matrix *T* captures linear (one step) dependencies between tagging decisions.\n",
    "\n",
    "The motivation behind CRFs was to generate sentence level likelihoods for optimal tags. What that means is for each word we estimate maximum likelihood and then we use the Viterbi algorithm to decode the tag sequence optimally.\n",
    "\n",
    "\n",
    "### Advantages of CRF over Softmax:\n",
    "\n",
    "Softmax doesn't value any dependencies, this is a problem since NER the context heavily influences the tag that is assigned. This is solved by applying CRF as it takes into account the full sequence to assign the tag.\n",
    "\n",
    "Example: I-ORG cannot directly follow I-PER.\n",
    "\n",
    "cf. autre formule pour expliquer pourquoi c'est mieux\n"
   ]
  },
  {
   "cell_type": "markdown",
   "metadata": {
    "id": "WwAbqsZ7OYGZ"
   },
   "source": [
    "## Helper Functions\n",
    "Now, we define some helper functions for numerical operations and score calculations"
   ]
  },
  {
   "cell_type": "code",
   "execution_count": 50,
   "metadata": {
    "executionInfo": {
     "elapsed": 25,
     "status": "ok",
     "timestamp": 1741434706806,
     "user": {
      "displayName": "Alix Sirven-Vienot",
      "userId": "13691383331929752611"
     },
     "user_tz": -60
    },
    "id": "CyK-5OUJOajO"
   },
   "outputs": [],
   "source": [
    "def log_sum_exp(vec):\n",
    "    '''\n",
    "    This function calculates the score explained above for the forward algorithm\n",
    "    vec 2D: 1 * tagset_size\n",
    "    '''\n",
    "    max_score = vec[0, argmax(vec)]\n",
    "    max_score_broadcast = max_score.view(1, -1).expand(1, vec.size()[1])\n",
    "    return max_score + torch.log(torch.sum(torch.exp(vec - max_score_broadcast)))\n",
    "\n",
    "def argmax(vec):\n",
    "    '''\n",
    "    This function returns the max index in a vector\n",
    "    '''\n",
    "    _, idx = torch.max(vec, 1)\n",
    "    return to_scalar(idx)\n",
    "\n",
    "def to_scalar(var):\n",
    "    '''\n",
    "    Function to convert pytorch tensor to a scalar\n",
    "    '''\n",
    "    return var.view(-1).data.tolist()[0]"
   ]
  },
  {
   "cell_type": "markdown",
   "metadata": {
    "id": "HTMXsPdiOmaS"
   },
   "source": [
    "## Helper function to calculate score\n",
    "This is a score function for our sentences.\n",
    "\n",
    "This function takes two things, a list of ground truths that tell us what the corresponding tags are, the other are the features which contains the supposed tagged parts of the function. Which is then used to compute the score.\n",
    "\n"
   ]
  },
  {
   "cell_type": "code",
   "execution_count": 51,
   "metadata": {
    "executionInfo": {
     "elapsed": 23,
     "status": "ok",
     "timestamp": 1741434706832,
     "user": {
      "displayName": "Alix Sirven-Vienot",
      "userId": "13691383331929752611"
     },
     "user_tz": -60
    },
    "id": "zAxyv2nIOsQT"
   },
   "outputs": [],
   "source": [
    "def score_sentences(self, feats, tags):\n",
    "    # tags is ground_truth, a list of ints, length is len(sentence)\n",
    "    # feats is a 2D tensor, len(sentence) * tagset_size\n",
    "    r = torch.LongTensor(range(feats.size()[0]))\n",
    "    if self.use_gpu:\n",
    "        r = r.cuda()\n",
    "        pad_start_tags = torch.cat([torch.cuda.LongTensor([self.tag_to_ix[START_TAG]]), tags])\n",
    "        pad_stop_tags = torch.cat([tags, torch.cuda.LongTensor([self.tag_to_ix[STOP_TAG]])])\n",
    "    else:\n",
    "        pad_start_tags = torch.cat([torch.LongTensor([self.tag_to_ix[START_TAG]]), tags])\n",
    "        pad_stop_tags = torch.cat([tags, torch.LongTensor([self.tag_to_ix[STOP_TAG]])])\n",
    "\n",
    "    score = torch.sum(self.transitions[pad_stop_tags, pad_start_tags]) + torch.sum(feats[r, tags])\n",
    "\n",
    "    return score"
   ]
  },
  {
   "cell_type": "markdown",
   "metadata": {
    "id": "FFpjB0TsOu6q"
   },
   "source": [
    "## Implementation of Forward Algorithm\n"
   ]
  },
  {
   "cell_type": "code",
   "execution_count": 52,
   "metadata": {
    "executionInfo": {
     "elapsed": 3,
     "status": "ok",
     "timestamp": 1741434706837,
     "user": {
      "displayName": "Alix Sirven-Vienot",
      "userId": "13691383331929752611"
     },
     "user_tz": -60
    },
    "id": "fVRGPszSOwTT"
   },
   "outputs": [],
   "source": [
    "def forward_alg(self, feats):\n",
    "    '''\n",
    "    This function performs the forward algorithm explained above\n",
    "    '''\n",
    "    # calculate in log domain\n",
    "    # feats is len(sentence) * tagset_size\n",
    "    # initialize alpha with a Tensor with values all equal to -10000.\n",
    "\n",
    "    # Do the forward algorithm to compute the partition function\n",
    "    init_alphas = torch.Tensor(1, self.tagset_size).fill_(-10000.)\n",
    "\n",
    "    # START_TAG has all of the score.\n",
    "    init_alphas[0][self.tag_to_ix[START_TAG]] = 0.\n",
    "\n",
    "    # Wrap in a variable so that we will get automatic backprop\n",
    "    forward_var = autograd.Variable(init_alphas)\n",
    "    if self.use_gpu:\n",
    "        forward_var = forward_var.cuda()\n",
    "\n",
    "    # Iterate through the sentence\n",
    "    for feat in feats:\n",
    "        # broadcast the emission score: it is the same regardless of\n",
    "        # the previous tag\n",
    "        emit_score = feat.view(-1, 1)\n",
    "\n",
    "        # the ith entry of trans_score is the score of transitioning to\n",
    "        # next_tag from i\n",
    "        tag_var = forward_var + self.transitions + emit_score\n",
    "\n",
    "        # The ith entry of next_tag_var is the value for the\n",
    "        # edge (i -> next_tag) before we do log-sum-exp\n",
    "        max_tag_var, _ = torch.max(tag_var, dim=1)\n",
    "\n",
    "        # The forward variable for this tag is log-sum-exp of all the\n",
    "        # scores.\n",
    "        tag_var = tag_var - max_tag_var.view(-1, 1)\n",
    "\n",
    "        # Compute log sum exp in a numerically stable way for the forward algorithm\n",
    "        forward_var = max_tag_var + torch.log(torch.sum(torch.exp(tag_var), dim=1)).view(1, -1) # ).view(1, -1)\n",
    "    terminal_var = (forward_var + self.transitions[self.tag_to_ix[STOP_TAG]]).view(1, -1)\n",
    "    alpha = log_sum_exp(terminal_var)\n",
    "    # Z(x)\n",
    "    return alpha"
   ]
  },
  {
   "cell_type": "markdown",
   "metadata": {
    "id": "Af6pK7U7O19b"
   },
   "source": [
    "## Viterbi decode\n",
    "\n",
    "Différente méthode du HMM hidden markov model.\n",
    "\n",
    "2 Probabilités : emissions et transmitions\n"
   ]
  },
  {
   "cell_type": "code",
   "execution_count": 53,
   "metadata": {
    "executionInfo": {
     "elapsed": 2,
     "status": "ok",
     "timestamp": 1741434706841,
     "user": {
      "displayName": "Alix Sirven-Vienot",
      "userId": "13691383331929752611"
     },
     "user_tz": -60
    },
    "id": "GHrxe0gnO-gz"
   },
   "outputs": [],
   "source": [
    "def viterbi_algo(self, feats):\n",
    "    '''\n",
    "    In this function, we implement the viterbi algorithm explained above.\n",
    "    A Dynamic programming based approach to find the best tag sequence\n",
    "    '''\n",
    "    backpointers = []\n",
    "    # analogous to forward\n",
    "\n",
    "    # Initialize the viterbi variables in log space\n",
    "    init_vvars = torch.Tensor(1, self.tagset_size).fill_(-10000.)\n",
    "    init_vvars[0][self.tag_to_ix[START_TAG]] = 0\n",
    "\n",
    "    # forward_var at step i holds the viterbi variables for step i-1\n",
    "    forward_var = Variable(init_vvars)\n",
    "    if self.use_gpu:\n",
    "        forward_var = forward_var.cuda()\n",
    "    for feat in feats:\n",
    "        next_tag_var = forward_var.view(1, -1).expand(self.tagset_size, self.tagset_size) + self.transitions\n",
    "        _, bptrs_t = torch.max(next_tag_var, dim=1)\n",
    "        bptrs_t = bptrs_t.squeeze().data.cpu().numpy() # holds the backpointers for this step\n",
    "        next_tag_var = next_tag_var.data.cpu().numpy()\n",
    "        viterbivars_t = next_tag_var[range(len(bptrs_t)), bptrs_t] # holds the viterbi variables for this step\n",
    "        viterbivars_t = Variable(torch.FloatTensor(viterbivars_t))\n",
    "        if self.use_gpu:\n",
    "            viterbivars_t = viterbivars_t.cuda()\n",
    "\n",
    "        # Now add in the emission scores, and assign forward_var to the set\n",
    "        # of viterbi variables we just computed\n",
    "        forward_var = viterbivars_t + feat\n",
    "        backpointers.append(bptrs_t)\n",
    "\n",
    "    # Transition to STOP_TAG\n",
    "    terminal_var = forward_var + self.transitions[self.tag_to_ix[STOP_TAG]]\n",
    "    terminal_var.data[self.tag_to_ix[STOP_TAG]] = -10000.\n",
    "    terminal_var.data[self.tag_to_ix[START_TAG]] = -10000.\n",
    "    best_tag_id = argmax(terminal_var.unsqueeze(0))\n",
    "    path_score = terminal_var[best_tag_id]\n",
    "\n",
    "    # Follow the back pointers to decode the best path.\n",
    "    best_path = [best_tag_id]\n",
    "    for bptrs_t in reversed(backpointers):\n",
    "        best_tag_id = bptrs_t[best_tag_id]\n",
    "        best_path.append(best_tag_id)\n",
    "\n",
    "    # Pop off the start tag (we dont want to return that to the caller)\n",
    "    start = best_path.pop()\n",
    "    assert start == self.tag_to_ix[START_TAG] # Sanity check\n",
    "    best_path.reverse()\n",
    "    return path_score, best_path"
   ]
  },
  {
   "cell_type": "code",
   "execution_count": 54,
   "metadata": {
    "executionInfo": {
     "elapsed": 3,
     "status": "ok",
     "timestamp": 1741434706845,
     "user": {
      "displayName": "Alix Sirven-Vienot",
      "userId": "13691383331929752611"
     },
     "user_tz": -60
    },
    "id": "pm9ciLM2PaI6"
   },
   "outputs": [],
   "source": [
    "def forward_calc(self, sentence, chars, chars2_length, d):\n",
    "\n",
    "    '''\n",
    "    The function calls viterbi decode and generates the\n",
    "    most probable sequence of tags for the sentence\n",
    "    '''\n",
    "\n",
    "    # Get the emission scores from the BiLSTM\n",
    "    feats = self._get_lstm_features(sentence, chars, chars2_length, d)\n",
    "    # viterbi to get tag_seq\n",
    "\n",
    "    # Find the best path, given the features.\n",
    "    if self.use_crf:\n",
    "        score, tag_seq = self.viterbi_decode(feats)\n",
    "    else:\n",
    "        score, tag_seq = torch.max(feats, 1)\n",
    "        tag_seq = list(tag_seq.cpu().data)\n",
    "\n",
    "    return score, tag_seq"
   ]
  },
  {
   "cell_type": "markdown",
   "metadata": {
    "id": "U9YwNeIlPl_K"
   },
   "source": [
    "## Model Détaillé\n",
    "\n",
    "### Main Model Implementation\n",
    "The get_lstm_features function returns the LSTM's tag vectors. The function performs all the steps mentioned above for the model.\n",
    "\n",
    "Steps:\n",
    "\n",
    "1. It takes in characters, converts them to embeddings using our character CNN.\n",
    "2. We concat Character Embeeding with glove vectors, use this as features that we feed to Bidirectional-LSTM.\n",
    "3. The Bidirectional-LSTM generates outputs based on these set of features.\n",
    "4. The output are passed through a linear layer to convert to tag space."
   ]
  },
  {
   "cell_type": "code",
   "execution_count": 56,
   "metadata": {
    "executionInfo": {
     "elapsed": 2,
     "status": "ok",
     "timestamp": 1741434706848,
     "user": {
      "displayName": "Alix Sirven-Vienot",
      "userId": "13691383331929752611"
     },
     "user_tz": -60
    },
    "id": "za4XGMqoPx17"
   },
   "outputs": [],
   "source": [
    "def get_lstm_features(self, sentence, chars2, chars2_length, d):\n",
    "\n",
    "    if self.char_mode == 'LSTM':\n",
    "\n",
    "            chars_embeds = self.char_embeds(chars2).transpose(0, 1)\n",
    "\n",
    "            packed = torch.nn.utils.rnn.pack_padded_sequence(chars_embeds, chars2_length)\n",
    "\n",
    "            lstm_out, _ = self.char_lstm(packed)\n",
    "\n",
    "            outputs, output_lengths = torch.nn.utils.rnn.pad_packed_sequence(lstm_out)\n",
    "\n",
    "            outputs = outputs.transpose(0, 1)\n",
    "\n",
    "            chars_embeds_temp = Variable(torch.FloatTensor(torch.zeros((outputs.size(0), outputs.size(2)))))\n",
    "\n",
    "            if self.use_gpu:\n",
    "                chars_embeds_temp = chars_embeds_temp.cuda()\n",
    "\n",
    "            for i, index in enumerate(output_lengths):\n",
    "                chars_embeds_temp[i] = torch.cat((outputs[i, index-1, :self.char_lstm_dim], outputs[i, 0, self.char_lstm_dim:]))\n",
    "\n",
    "            chars_embeds = chars_embeds_temp.clone()\n",
    "\n",
    "            for i in range(chars_embeds.size(0)):\n",
    "                chars_embeds[d[i]] = chars_embeds_temp[i]\n",
    "\n",
    "\n",
    "    if self.char_mode == 'CNN':\n",
    "        chars_embeds = self.char_embeds(chars2).unsqueeze(1)\n",
    "\n",
    "        ## Creating Character level representation using Convolutional Neural Netowrk\n",
    "        ## followed by a Maxpooling Layer\n",
    "        chars_cnn_out3 = self.char_cnn3(chars_embeds)\n",
    "        chars_embeds = nn.functional.max_pool2d(chars_cnn_out3,\n",
    "                                             kernel_size=(chars_cnn_out3.size(2), 1)).view(chars_cnn_out3.size(0), self.out_channels)\n",
    "\n",
    "        ## Loading word embeddings\n",
    "    embeds = self.word_embeds(sentence)\n",
    "\n",
    "    ## We concatenate the word embeddings and the character level representation\n",
    "    ## to create unified representation for each word\n",
    "    embeds = torch.cat((embeds, chars_embeds), 1)\n",
    "\n",
    "    embeds = embeds.unsqueeze(1)\n",
    "\n",
    "    ## Dropout on the unified embeddings\n",
    "    embeds = self.dropout(embeds)\n",
    "\n",
    "    ## Word lstm\n",
    "    ## Takes words as input and generates a output at each step\n",
    "    lstm_out, _ = self.lstm(embeds)\n",
    "\n",
    "    ## Reshaping the outputs from the lstm layer\n",
    "    lstm_out = lstm_out.view(len(sentence), self.hidden_dim*2)\n",
    "\n",
    "    ## Dropout on the lstm output\n",
    "    lstm_out = self.dropout(lstm_out)\n",
    "\n",
    "    ## Linear layer converts the ouput vectors to tag space\n",
    "    lstm_feats = self.hidden2tag(lstm_out)\n",
    "\n",
    "    return lstm_feats"
   ]
  },
  {
   "cell_type": "markdown",
   "metadata": {
    "id": "EK_lXUU4P5qD"
   },
   "source": [
    "## Funtion for Negative log likelihood calculation\n",
    "This is a helper function that calculates the negative log likelihood.\n",
    "\n",
    "The functions takes as input the previously calulcated lstm features to use to calculate the sentence score and then perform a forward run score and compare it with our predicted score to generate a log likelihood.\n",
    "\n",
    "Implementation detail: Notice we do not pump out any log conversion in this function that is supposedly about log likelihood calculation, this is because we have ensured that we get the scores from our helper functions in the log domain."
   ]
  },
  {
   "cell_type": "code",
   "execution_count": 55,
   "metadata": {
    "executionInfo": {
     "elapsed": 22,
     "status": "ok",
     "timestamp": 1741434706872,
     "user": {
      "displayName": "Alix Sirven-Vienot",
      "userId": "13691383331929752611"
     },
     "user_tz": -60
    },
    "id": "Gb1oWNZyP5CY"
   },
   "outputs": [],
   "source": [
    "def get_neg_log_likelihood(self, sentence, tags, chars2, chars2_length, d):\n",
    "    # sentence, tags is a list of ints\n",
    "    # features is a 2D tensor, len(sentence) * self.tagset_size\n",
    "    feats = self._get_lstm_features(sentence, chars2, chars2_length, d)\n",
    "\n",
    "    if self.use_crf:\n",
    "        forward_score = self._forward_alg(feats)\n",
    "        gold_score = self._score_sentence(feats, tags)\n",
    "        return forward_score - gold_score\n",
    "    else:\n",
    "        tags = Variable(tags)\n",
    "        scores = nn.functional.cross_entropy(feats, tags)\n",
    "        return scores"
   ]
  },
  {
   "cell_type": "markdown",
   "metadata": {
    "id": "NAOO3MxoU7W6"
   },
   "source": [
    "## Main Model Class\n",
    "\n"
   ]
  },
  {
   "cell_type": "code",
   "execution_count": 57,
   "metadata": {
    "executionInfo": {
     "elapsed": 3,
     "status": "ok",
     "timestamp": 1741434706895,
     "user": {
      "displayName": "Alix Sirven-Vienot",
      "userId": "13691383331929752611"
     },
     "user_tz": -60
    },
    "id": "u6IB4wKgU-yM"
   },
   "outputs": [],
   "source": [
    "class BiLSTM_CRF(nn.Module):\n",
    "\n",
    "    def __init__(self, vocab_size, tag_to_ix, embedding_dim, hidden_dim,\n",
    "                 char_to_ix=None, pre_word_embeds=None, char_out_dimension=25,char_embedding_dim=25, use_gpu=False\n",
    "                 , use_crf=True, char_mode='CNN'):\n",
    "        '''\n",
    "        Input parameters:\n",
    "\n",
    "                vocab_size= Size of vocabulary (int)\n",
    "                tag_to_ix = Dictionary that maps NER tags to indices\n",
    "                embedding_dim = Dimension of word embeddings (int)\n",
    "                hidden_dim = The hidden dimension of the LSTM layer (int)\n",
    "                char_to_ix = Dictionary that maps characters to indices\n",
    "                pre_word_embeds = Numpy array which provides mapping from word embeddings to word indices\n",
    "                char_out_dimension = Output dimension from the CNN encoder for character\n",
    "                char_embedding_dim = Dimension of the character embeddings\n",
    "                use_gpu = defines availability of GPU,\n",
    "                    when True: CUDA function calls are made\n",
    "                    else: Normal CPU function calls are made\n",
    "                use_crf = parameter which decides if you want to use the CRF layer for output decoding\n",
    "        '''\n",
    "\n",
    "        super(BiLSTM_CRF, self).__init__()\n",
    "\n",
    "        #parameter initialization for the model\n",
    "        self.use_gpu = use_gpu\n",
    "        self.embedding_dim = embedding_dim\n",
    "        self.hidden_dim = hidden_dim\n",
    "        self.vocab_size = vocab_size\n",
    "        self.tag_to_ix = tag_to_ix\n",
    "        self.use_crf = use_crf\n",
    "        self.tagset_size = len(tag_to_ix)\n",
    "        self.out_channels = char_out_dimension\n",
    "        self.char_mode = char_mode\n",
    "\n",
    "        if char_embedding_dim is not None:\n",
    "            self.char_embedding_dim = char_embedding_dim\n",
    "\n",
    "            #Initializing the character embedding layer\n",
    "            self.char_embeds = nn.Embedding(len(char_to_ix), char_embedding_dim)\n",
    "            init_embedding(self.char_embeds.weight)\n",
    "\n",
    "            #Performing LSTM encoding on the character embeddings\n",
    "            if self.char_mode == 'LSTM':\n",
    "                self.char_lstm = nn.LSTM(char_embedding_dim, char_lstm_dim, num_layers=1, bidirectional=True)\n",
    "                init_lstm(self.char_lstm)\n",
    "\n",
    "            #Performing CNN encoding on the character embeddings\n",
    "            if self.char_mode == 'CNN':\n",
    "                self.char_cnn3 = nn.Conv2d(in_channels=1, out_channels=self.out_channels, kernel_size=(3, char_embedding_dim), padding=(2,0))\n",
    "\n",
    "        #Creating Embedding layer with dimension of ( number of words * dimension of each word)\n",
    "        self.word_embeds = nn.Embedding(vocab_size, embedding_dim)\n",
    "        if pre_word_embeds is not None:\n",
    "            #Initializes the word embeddings with pretrained word embeddings\n",
    "            self.pre_word_embeds = True\n",
    "            self.word_embeds.weight = nn.Parameter(torch.FloatTensor(pre_word_embeds))\n",
    "        else:\n",
    "            self.pre_word_embeds = False\n",
    "\n",
    "        #Initializing the dropout layer, with dropout specificed in parameters\n",
    "        self.dropout = nn.Dropout(parameters['dropout'])\n",
    "\n",
    "        #Lstm Layer:\n",
    "        #input dimension: word embedding dimension + character level representation\n",
    "        #bidirectional=True, specifies that we are using the bidirectional LSTM\n",
    "        if self.char_mode == 'LSTM':\n",
    "            self.lstm = nn.LSTM(embedding_dim+char_lstm_dim*2, hidden_dim, bidirectional=True)\n",
    "        if self.char_mode == 'CNN':\n",
    "            self.lstm = nn.LSTM(embedding_dim+self.out_channels, hidden_dim, bidirectional=True)\n",
    "\n",
    "        #Initializing the lstm layer using predefined function for initialization\n",
    "        init_lstm(self.lstm)\n",
    "\n",
    "        # Linear layer which maps the output of the bidirectional LSTM into tag space.\n",
    "        self.hidden2tag = nn.Linear(hidden_dim*2, self.tagset_size)\n",
    "\n",
    "        #Initializing the linear layer using predefined function for initialization\n",
    "        init_linear(self.hidden2tag)\n",
    "\n",
    "        if self.use_crf:\n",
    "            # Matrix of transition parameters.  Entry i,j is the score of transitioning *to* i *from* j.\n",
    "            # Matrix has a dimension of (total number of tags * total number of tags)\n",
    "            self.transitions = nn.Parameter(\n",
    "                torch.zeros(self.tagset_size, self.tagset_size))\n",
    "\n",
    "            # These two statements enforce the constraint that we never transfer\n",
    "            # to the start tag and we never transfer from the stop tag\n",
    "            self.transitions.data[tag_to_ix[START_TAG], :] = -10000\n",
    "            self.transitions.data[:, tag_to_ix[STOP_TAG]] = -10000\n",
    "\n",
    "    #assigning the functions, which we have defined earlier\n",
    "    _score_sentence = score_sentences\n",
    "    _get_lstm_features = get_lstm_features\n",
    "    _forward_alg = forward_alg\n",
    "    viterbi_decode = viterbi_algo\n",
    "    neg_log_likelihood = get_neg_log_likelihood\n",
    "    forward = forward_calc"
   ]
  },
  {
   "cell_type": "code",
   "execution_count": 58,
   "metadata": {
    "colab": {
     "base_uri": "https://localhost:8080/"
    },
    "executionInfo": {
     "elapsed": 28,
     "status": "ok",
     "timestamp": 1741434706925,
     "user": {
      "displayName": "Alix Sirven-Vienot",
      "userId": "13691383331929752611"
     },
     "user_tz": -60
    },
    "id": "mYN6RRVsVU6m",
    "outputId": "8f0409c6-6ceb-4521-f1ac-24034da87ab1"
   },
   "outputs": [
    {
     "name": "stdout",
     "output_type": "stream",
     "text": [
      "Model Initialized!!!\n"
     ]
    },
    {
     "name": "stderr",
     "output_type": "stream",
     "text": [
      "/tmp/ipykernel_13116/3399668671.py:6: FutureWarning: `nn.init.uniform` is now deprecated in favor of `nn.init.uniform_`.\n",
      "  nn.init.uniform(input_embedding, -bias, bias)\n",
      "/tmp/ipykernel_13116/1545150072.py:25: FutureWarning: `nn.init.uniform` is now deprecated in favor of `nn.init.uniform_`.\n",
      "  nn.init.uniform(weight, -sampling_range, sampling_range)\n",
      "/tmp/ipykernel_13116/1545150072.py:30: FutureWarning: `nn.init.uniform` is now deprecated in favor of `nn.init.uniform_`.\n",
      "  nn.init.uniform(weight, -sampling_range, sampling_range)\n",
      "/tmp/ipykernel_13116/1545150072.py:38: FutureWarning: `nn.init.uniform` is now deprecated in favor of `nn.init.uniform_`.\n",
      "  nn.init.uniform(weight, -sampling_range, sampling_range)\n",
      "/tmp/ipykernel_13116/1545150072.py:41: FutureWarning: `nn.init.uniform` is now deprecated in favor of `nn.init.uniform_`.\n",
      "  nn.init.uniform(weight, -sampling_range, sampling_range)\n"
     ]
    }
   ],
   "source": [
    "#creating the model using the Class defined above\n",
    "model = BiLSTM_CRF(vocab_size=len(word_to_id),\n",
    "                   tag_to_ix=tag_to_id,\n",
    "                   embedding_dim=parameters['word_dim'],\n",
    "                   hidden_dim=parameters['word_lstm_dim'],\n",
    "                   use_gpu=use_gpu,\n",
    "                   char_to_ix=char_to_id,\n",
    "                   pre_word_embeds=word_embeds,\n",
    "                   use_crf=parameters['crf'],\n",
    "                   char_mode=parameters['char_mode'])\n",
    "print(\"Model Initialized!!!\")"
   ]
  },
  {
   "cell_type": "code",
   "execution_count": 59,
   "metadata": {
    "executionInfo": {
     "elapsed": 7,
     "status": "ok",
     "timestamp": 1741434706926,
     "user": {
      "displayName": "Alix Sirven-Vienot",
      "userId": "13691383331929752611"
     },
     "user_tz": -60
    },
    "id": "pTmleiMJVpId"
   },
   "outputs": [],
   "source": [
    "#Reload a saved model, if parameter[\"reload\"] is set to a path\n",
    "if parameters['reload']:\n",
    "    if not os.path.exists(parameters['reload']):\n",
    "        print(\"downloading pre-trained model\")\n",
    "        model_url=\"https://github.com/TheAnig/NER-LSTM-CNN-Pytorch/raw/master/trained-model-cpu\"\n",
    "        urllib.request.urlretrieve(model_url, parameters['reload'])\n",
    "    model.load_state_dict(torch.load(parameters['reload']))\n",
    "    print(\"model reloaded :\", parameters['reload'])\n",
    "\n",
    "if use_gpu:\n",
    "    model.cuda()"
   ]
  },
  {
   "cell_type": "code",
   "execution_count": 60,
   "metadata": {
    "executionInfo": {
     "elapsed": 7,
     "status": "ok",
     "timestamp": 1741434706928,
     "user": {
      "displayName": "Alix Sirven-Vienot",
      "userId": "13691383331929752611"
     },
     "user_tz": -60
    },
    "id": "W848TFJFWIXN"
   },
   "outputs": [],
   "source": [
    "#Initializing the optimizer\n",
    "#The best results in the paper where achived using stochastic gradient descent (SGD)\n",
    "#learning rate=0.015 and momentum=0.9\n",
    "#decay_rate=0.05\n",
    "\n",
    "learning_rate = 0.015\n",
    "momentum = 0.9\n",
    "number_of_epochs = parameters['epoch']\n",
    "decay_rate = 0.05\n",
    "gradient_clip = parameters['gradient_clip']\n",
    "optimizer = torch.optim.SGD(model.parameters(), lr=learning_rate, momentum=momentum)\n",
    "\n",
    "#variables which will used in training process\n",
    "losses = [] #list to store all losses\n",
    "loss = 0.0 #Loss Initializatoin\n",
    "best_dev_F = -1.0 # Current best F-1 Score on Dev Set\n",
    "best_test_F = -1.0 # Current best F-1 Score on Test Set\n",
    "best_train_F = -1.0 # Current best F-1 Score on Train Set\n",
    "all_F = [[0, 0, 0]] # List storing all the F-1 Scores\n",
    "eval_every = len(train_data) # Calculate F-1 Score after this many iterations\n",
    "plot_every = 2000 # Store loss after this many iterations\n",
    "count = 0 #Counts the number of iterations"
   ]
  },
  {
   "cell_type": "markdown",
   "metadata": {
    "id": "jFK0j4NhWamU"
   },
   "source": [
    "## Evaluation\n",
    "\n",
    "### Helper functions for evaluation"
   ]
  },
  {
   "cell_type": "code",
   "execution_count": 61,
   "metadata": {
    "executionInfo": {
     "elapsed": 31,
     "status": "ok",
     "timestamp": 1741434706954,
     "user": {
      "displayName": "Alix Sirven-Vienot",
      "userId": "13691383331929752611"
     },
     "user_tz": -60
    },
    "id": "Z2k6BBGCWZ7e"
   },
   "outputs": [],
   "source": [
    "def get_chunk_type(tok, idx_to_tag):\n",
    "    \"\"\"\n",
    "    The function takes in a chunk (\"B-PER\") and then splits it into the tag (PER) and its class (B)\n",
    "    as defined in BIOES\n",
    "\n",
    "    Args:\n",
    "        tok: id of token, ex 4\n",
    "        idx_to_tag: dictionary {4: \"B-PER\", ...}\n",
    "\n",
    "    Returns:\n",
    "        tuple: \"B\", \"PER\"\n",
    "\n",
    "    \"\"\"\n",
    "\n",
    "    tag_name = idx_to_tag[tok]\n",
    "    tag_class = tag_name.split('-')[0]\n",
    "    tag_type = tag_name.split('-')[-1]\n",
    "    return tag_class, tag_type"
   ]
  },
  {
   "cell_type": "code",
   "execution_count": 62,
   "metadata": {
    "executionInfo": {
     "elapsed": 6,
     "status": "ok",
     "timestamp": 1741434706956,
     "user": {
      "displayName": "Alix Sirven-Vienot",
      "userId": "13691383331929752611"
     },
     "user_tz": -60
    },
    "id": "R_NSeuZmYMBf"
   },
   "outputs": [],
   "source": [
    "def get_chunks(seq, tags):\n",
    "    \"\"\"Given a sequence of tags, group entities and their position\n",
    "\n",
    "    Args:\n",
    "        seq: [4, 4, 0, 0, ...] sequence of labels\n",
    "        tags: dict[\"O\"] = 4\n",
    "\n",
    "    Returns:\n",
    "        list of (chunk_type, chunk_start, chunk_end)\n",
    "\n",
    "    Example:\n",
    "        seq = [4, 5, 0, 3]\n",
    "        tags = {\"B-PER\": 4, \"I-PER\": 5, \"B-LOC\": 3}\n",
    "        result = [(\"PER\", 0, 2), (\"LOC\", 3, 4)]\n",
    "\n",
    "    \"\"\"\n",
    "    # We assume by default the tags lie outside a named entity\n",
    "    default = tags[\"0\"]\n",
    "\n",
    "    idx_to_tag = {idx: tag for tag, idx in tags.items()}\n",
    "\n",
    "    chunks = []\n",
    "\n",
    "    chunk_type, chunk_start = None, None\n",
    "    for i, tok in enumerate(seq):\n",
    "        # End of a chunk 1\n",
    "        if tok == default and chunk_type is not None:\n",
    "            # Add a chunk.\n",
    "            chunk = (chunk_type, chunk_start, i)\n",
    "            chunks.append(chunk)\n",
    "            chunk_type, chunk_start = None, None\n",
    "\n",
    "        # End of a chunk + start of a chunk!\n",
    "        elif tok != default:\n",
    "            tok_chunk_class, tok_chunk_type = get_chunk_type(tok, idx_to_tag)\n",
    "            if chunk_type is None:\n",
    "                # Initialize chunk for each entity\n",
    "                chunk_type, chunk_start = tok_chunk_type, i\n",
    "            elif tok_chunk_type != chunk_type or tok_chunk_class == \"B\":\n",
    "                # If chunk class is B, i.e., its a beginning of a new named entity\n",
    "                # or, if the chunk type is different from the previous one, then we\n",
    "                # start labelling it as a new entity\n",
    "                chunk = (chunk_type, chunk_start, i)\n",
    "                chunks.append(chunk)\n",
    "                chunk_type, chunk_start = tok_chunk_type, i\n",
    "        else:\n",
    "            pass\n",
    "\n",
    "    # end condition\n",
    "    if chunk_type is not None:\n",
    "        chunk = (chunk_type, chunk_start, len(seq))\n",
    "        chunks.append(chunk)\n",
    "\n",
    "    return chunks"
   ]
  },
  {
   "cell_type": "code",
   "execution_count": 63,
   "metadata": {
    "executionInfo": {
     "elapsed": 35,
     "status": "ok",
     "timestamp": 1741434706987,
     "user": {
      "displayName": "Alix Sirven-Vienot",
      "userId": "13691383331929752611"
     },
     "user_tz": -60
    },
    "id": "EJRcK62QYXGE"
   },
   "outputs": [],
   "source": [
    "def evaluating(model, datas, best_F,dataset=\"Train\"):\n",
    "    '''\n",
    "    The function takes as input the model, data and calcuates F-1 Score\n",
    "    It performs conditional updates\n",
    "     1) Flag to save the model\n",
    "     2) Best F-1 score\n",
    "    ,if the F-1 score calculated improves on the previous F-1 score\n",
    "    '''\n",
    "    # Initializations\n",
    "    prediction = [] # A list that stores predicted tags\n",
    "    save = False # Flag that tells us if the model needs to be saved\n",
    "    new_F = 0.0 # Variable to store the current F1-Score (may not be the best)\n",
    "    correct_preds, total_correct, total_preds = 0., 0., 0. # Count variables\n",
    "\n",
    "    for data in datas:\n",
    "        ground_truth_id = data['tags']\n",
    "        words = data['str_words']\n",
    "        chars2 = data['chars']\n",
    "\n",
    "        if parameters['char_mode'] == 'LSTM':\n",
    "            chars2_sorted = sorted(chars2, key=lambda p: len(p), reverse=True)\n",
    "            d = {}\n",
    "            for i, ci in enumerate(chars2):\n",
    "                for j, cj in enumerate(chars2_sorted):\n",
    "                    if ci == cj and not j in d and not i in d.values():\n",
    "                        d[j] = i\n",
    "                        continue\n",
    "            chars2_length = [len(c) for c in chars2_sorted]\n",
    "            char_maxl = max(chars2_length)\n",
    "            chars2_mask = np.zeros((len(chars2_sorted), char_maxl), dtype='int')\n",
    "            for i, c in enumerate(chars2_sorted):\n",
    "                chars2_mask[i, :chars2_length[i]] = c\n",
    "            chars2_mask = Variable(torch.LongTensor(chars2_mask))\n",
    "\n",
    "\n",
    "        if parameters['char_mode'] == 'CNN':\n",
    "            d = {}\n",
    "\n",
    "            # Padding the each word to max word size of that sentence\n",
    "            chars2_length = [len(c) for c in chars2]\n",
    "            char_maxl = max(chars2_length)\n",
    "            chars2_mask = np.zeros((len(chars2_length), char_maxl), dtype='int')\n",
    "            for i, c in enumerate(chars2):\n",
    "                chars2_mask[i, :chars2_length[i]] = c\n",
    "            chars2_mask = Variable(torch.LongTensor(chars2_mask))\n",
    "\n",
    "        dwords = Variable(torch.LongTensor(data['words']))\n",
    "\n",
    "        # We are getting the predicted output from our model\n",
    "        if use_gpu:\n",
    "            val,out = model(dwords.cuda(), chars2_mask.cuda(), chars2_length, d)\n",
    "        else:\n",
    "            val,out = model(dwords, chars2_mask, chars2_length, d)\n",
    "        predicted_id = out\n",
    "\n",
    "\n",
    "        # We use the get chunks function defined above to get the true chunks\n",
    "        # and the predicted chunks from true labels and predicted labels respectively\n",
    "        lab_chunks      = set(get_chunks(ground_truth_id,tag_to_id))\n",
    "        lab_pred_chunks = set(get_chunks(predicted_id,\n",
    "                                         tag_to_id))\n",
    "\n",
    "        # Updating the count variables\n",
    "        correct_preds += len(lab_chunks & lab_pred_chunks)\n",
    "        total_preds   += len(lab_pred_chunks)\n",
    "        total_correct += len(lab_chunks)\n",
    "\n",
    "    # Calculating the F1-Score\n",
    "    p   = correct_preds / total_preds if correct_preds > 0 else 0\n",
    "    r   = correct_preds / total_correct if correct_preds > 0 else 0\n",
    "    new_F  = 2 * p * r / (p + r) if correct_preds > 0 else 0\n",
    "\n",
    "    print(\"{}: new_F: {} best_F: {} \".format(dataset,new_F,best_F))\n",
    "\n",
    "    # If our current F1-Score is better than the previous best, we update the best\n",
    "    # to current F1 and we set the flag to indicate that we need to checkpoint this model\n",
    "\n",
    "    if new_F>best_F:\n",
    "        best_F=new_F\n",
    "        save=True\n",
    "\n",
    "    return best_F, new_F, save"
   ]
  },
  {
   "cell_type": "markdown",
   "metadata": {
    "id": "ozshFY_nYd8H"
   },
   "source": [
    "### Helper function for performing Learning rate decay\n"
   ]
  },
  {
   "cell_type": "code",
   "execution_count": 64,
   "metadata": {
    "executionInfo": {
     "elapsed": 7,
     "status": "ok",
     "timestamp": 1741434706989,
     "user": {
      "displayName": "Alix Sirven-Vienot",
      "userId": "13691383331929752611"
     },
     "user_tz": -60
    },
    "id": "---jkcBtYg0i"
   },
   "outputs": [],
   "source": [
    "def adjust_learning_rate(optimizer, lr):\n",
    "    \"\"\"\n",
    "    shrink learning rate\n",
    "    \"\"\"\n",
    "    for param_group in optimizer.param_groups:\n",
    "        param_group['lr'] = lr"
   ]
  },
  {
   "cell_type": "markdown",
   "metadata": {
    "id": "kNSXeNaFYjDk"
   },
   "source": [
    "## Training Step\n",
    "If parameters['reload'] is set, we already have a model to load of off, so we can skip the training. We have originally specified a pre-trained model since training is an expensive process, but we encourage readers to try this out once they're done with the tutorial.\n",
    "\n",
    "Bon nous en a pas un pre-trained\n",
    "si ça marche pas j'irais en chercher un en finois\n"
   ]
  },
  {
   "cell_type": "code",
   "execution_count": 34,
   "metadata": {
    "colab": {
     "base_uri": "https://localhost:8080/",
     "height": 1000
    },
    "executionInfo": {
     "elapsed": 408802,
     "status": "ok",
     "timestamp": 1741435115787,
     "user": {
      "displayName": "Alix Sirven-Vienot",
      "userId": "13691383331929752611"
     },
     "user_tz": -60
    },
    "id": "1nm1bpdrYxNr",
    "outputId": "a8d24e15-78ae-43a1-eb0f-1d3df962eedb"
   },
   "outputs": [
    {
     "name": "stderr",
     "output_type": "stream",
     "text": [
      "/tmp/ipykernel_64015/3336927767.py:60: FutureWarning: `torch.nn.utils.clip_grad_norm` is now deprecated in favor of `torch.nn.utils.clip_grad_norm_`.\n",
      "  torch.nn.utils.clip_grad_norm(model.parameters(), gradient_clip)\n"
     ]
    },
    {
     "name": "stdout",
     "output_type": "stream",
     "text": [
      "Train: new_F: 0.47747747747747754 best_F: -1.0 \n",
      "Dev: new_F: 0.2857142857142857 best_F: -1.0 \n",
      "Saving Model to  ./model/model_4\n",
      "Test: new_F: 0.4878048780487805 best_F: -1.0 \n",
      "2000 :  0.13746358568946054\n",
      "Train: new_F: 0.9347826086956522 best_F: 0.47747747747747754 \n",
      "Dev: new_F: 0.7586206896551725 best_F: 0.2857142857142857 \n",
      "Saving Model to  ./model/model_4\n",
      "Test: new_F: 0.7047619047619047 best_F: 0.4878048780487805 \n",
      "4000 :  0.03389343521670444\n",
      "Train: new_F: 0.996996996996997 best_F: 0.9347826086956522 \n",
      "Dev: new_F: 0.7741935483870968 best_F: 0.7586206896551725 \n",
      "Saving Model to  ./model/model_4\n",
      "Test: new_F: 0.7289719626168225 best_F: 0.7047619047619047 \n",
      "6000 :  0.011641146530181848\n",
      "Train: new_F: 0.9970059880239521 best_F: 0.996996996996997 \n",
      "Dev: new_F: 0.7741935483870968 best_F: 0.7741935483870968 \n",
      "Test: new_F: 0.6538461538461537 best_F: 0.7289719626168225 \n",
      "8000 :  0.004321371929953597\n",
      "10000 :  0.00202163511312173\n",
      "Train: new_F: 1.0 best_F: 0.9970059880239521 \n",
      "Dev: new_F: 0.7741935483870968 best_F: 0.7741935483870968 \n",
      "Test: new_F: 0.6138613861386139 best_F: 0.7289719626168225 \n",
      "Train: new_F: 1.0 best_F: 1.0 \n",
      "Dev: new_F: 0.7741935483870968 best_F: 0.7741935483870968 \n",
      "Test: new_F: 0.6796116504854369 best_F: 0.7289719626168225 \n",
      "Train: new_F: 1.0 best_F: 1.0 \n",
      "Dev: new_F: 0.7741935483870968 best_F: 0.7741935483870968 \n",
      "Test: new_F: 0.7524752475247525 best_F: 0.7289719626168225 \n",
      "Train: new_F: 1.0 best_F: 1.0 \n",
      "Dev: new_F: 0.75 best_F: 0.7741935483870968 \n",
      "Test: new_F: 0.7428571428571429 best_F: 0.7524752475247525 \n",
      "12000 :  0.0018034353833605086\n",
      "Train: new_F: 1.0 best_F: 1.0 \n",
      "Dev: new_F: 0.7741935483870968 best_F: 0.7741935483870968 \n",
      "Test: new_F: 0.6923076923076923 best_F: 0.7524752475247525 \n",
      "Train: new_F: 1.0 best_F: 1.0 \n",
      "Dev: new_F: 0.75 best_F: 0.7741935483870968 \n",
      "Test: new_F: 0.6972477064220183 best_F: 0.7524752475247525 \n",
      "Train: new_F: 1.0 best_F: 1.0 \n",
      "Dev: new_F: 0.7741935483870968 best_F: 0.7741935483870968 \n",
      "Test: new_F: 0.7326732673267325 best_F: 0.7524752475247525 \n",
      "Train: new_F: 1.0 best_F: 1.0 \n",
      "Dev: new_F: 0.7741935483870968 best_F: 0.7741935483870968 \n",
      "Test: new_F: 0.6666666666666667 best_F: 0.7524752475247525 \n",
      "14000 :  0.0010483944234695142\n",
      "Train: new_F: 1.0 best_F: 1.0 \n",
      "Dev: new_F: 0.75 best_F: 0.7741935483870968 \n",
      "Test: new_F: 0.6111111111111109 best_F: 0.7524752475247525 \n",
      "Train: new_F: 1.0 best_F: 1.0 \n",
      "Dev: new_F: 0.7741935483870968 best_F: 0.7741935483870968 \n",
      "Test: new_F: 0.6 best_F: 0.7524752475247525 \n",
      "Train: new_F: 1.0 best_F: 1.0 \n",
      "Dev: new_F: 0.7741935483870968 best_F: 0.7741935483870968 \n",
      "Test: new_F: 0.6019417475728155 best_F: 0.7524752475247525 \n",
      "Train: new_F: 1.0 best_F: 1.0 \n",
      "Dev: new_F: 0.7741935483870968 best_F: 0.7741935483870968 \n",
      "Test: new_F: 0.6019417475728155 best_F: 0.7524752475247525 \n",
      "16000 :  0.0017932631315349268\n",
      "Train: new_F: 1.0 best_F: 1.0 \n",
      "Dev: new_F: 0.7741935483870968 best_F: 0.7741935483870968 \n",
      "Test: new_F: 0.6799999999999999 best_F: 0.7524752475247525 \n",
      "Train: new_F: 1.0 best_F: 1.0 \n",
      "Dev: new_F: 0.7741935483870968 best_F: 0.7741935483870968 \n",
      "Test: new_F: 0.6399999999999999 best_F: 0.7524752475247525 \n",
      "Train: new_F: 1.0 best_F: 1.0 \n",
      "Dev: new_F: 0.7741935483870968 best_F: 0.7741935483870968 \n",
      "Test: new_F: 0.6799999999999999 best_F: 0.7524752475247525 \n",
      "Train: new_F: 1.0 best_F: 1.0 \n",
      "Dev: new_F: 0.7741935483870968 best_F: 0.7741935483870968 \n",
      "Test: new_F: 0.607843137254902 best_F: 0.7524752475247525 \n",
      "18000 :  0.0009646326419029084\n",
      "Train: new_F: 1.0 best_F: 1.0 \n",
      "Dev: new_F: 0.7741935483870968 best_F: 0.7741935483870968 \n",
      "Test: new_F: 0.5940594059405941 best_F: 0.7524752475247525 \n",
      "Train: new_F: 1.0 best_F: 1.0 \n",
      "Dev: new_F: 0.7741935483870968 best_F: 0.7741935483870968 \n",
      "Test: new_F: 0.6 best_F: 0.7524752475247525 \n",
      "Train: new_F: 1.0 best_F: 1.0 \n",
      "Dev: new_F: 0.7741935483870968 best_F: 0.7741935483870968 \n",
      "Test: new_F: 0.5904761904761905 best_F: 0.7524752475247525 \n",
      "Train: new_F: 1.0 best_F: 1.0 \n",
      "Dev: new_F: 0.7741935483870968 best_F: 0.7741935483870968 \n",
      "Test: new_F: 0.6 best_F: 0.7524752475247525 \n",
      "20000 :  0.0006283304700141668\n",
      "Train: new_F: 1.0 best_F: 1.0 \n",
      "Dev: new_F: 0.7741935483870968 best_F: 0.7741935483870968 \n",
      "Test: new_F: 0.6 best_F: 0.7524752475247525 \n",
      "Train: new_F: 1.0 best_F: 1.0 \n",
      "Dev: new_F: 0.7741935483870968 best_F: 0.7741935483870968 \n",
      "Test: new_F: 0.6799999999999999 best_F: 0.7524752475247525 \n",
      "Train: new_F: 1.0 best_F: 1.0 \n",
      "Dev: new_F: 0.7741935483870968 best_F: 0.7741935483870968 \n",
      "Test: new_F: 0.5940594059405941 best_F: 0.7524752475247525 \n",
      "Train: new_F: 1.0 best_F: 1.0 \n",
      "Dev: new_F: 0.7741935483870968 best_F: 0.7741935483870968 \n",
      "Test: new_F: 0.72 best_F: 0.7524752475247525 \n",
      "22000 :  0.0005215389615360543\n",
      "Train: new_F: 1.0 best_F: 1.0 \n",
      "Dev: new_F: 0.7741935483870968 best_F: 0.7741935483870968 \n",
      "Test: new_F: 0.7000000000000001 best_F: 0.7524752475247525 \n",
      "Train: new_F: 1.0 best_F: 1.0 \n",
      "Dev: new_F: 0.7741935483870968 best_F: 0.7741935483870968 \n",
      "Test: new_F: 0.6470588235294118 best_F: 0.7524752475247525 \n",
      "Train: new_F: 1.0 best_F: 1.0 \n",
      "Dev: new_F: 0.7741935483870968 best_F: 0.7741935483870968 \n",
      "Test: new_F: 0.5961538461538461 best_F: 0.7524752475247525 \n",
      "Train: new_F: 1.0 best_F: 1.0 \n",
      "Dev: new_F: 0.7741935483870968 best_F: 0.7741935483870968 \n",
      "Test: new_F: 0.5714285714285715 best_F: 0.7524752475247525 \n",
      "24000 :  0.0002296827927522092\n",
      "Train: new_F: 1.0 best_F: 1.0 \n",
      "Dev: new_F: 0.7741935483870968 best_F: 0.7741935483870968 \n",
      "Test: new_F: 0.5714285714285715 best_F: 0.7524752475247525 \n",
      "1113.1061279773712\n"
     ]
    },
    {
     "data": {
      "image/png": "[encoded data removed]",
      "text/plain": [
       "<Figure size 640x480 with 1 Axes>"
      ]
     },
     "metadata": {},
     "output_type": "display_data"
    },
    {
     "name": "stderr",
     "output_type": "stream",
     "text": [
      "/tmp/ipykernel_64015/3336927767.py:96: FutureWarning: You are using `torch.load` with `weights_only=False` (the current default value), which uses the default pickle module implicitly. It is possible to construct malicious pickle data which will execute arbitrary code during unpickling (See https://github.com/pytorch/pytorch/blob/main/SECURITY.md#untrusted-models for more details). In a future release, the default value for `weights_only` will be flipped to `True`. This limits the functions that could be executed during unpickling. Arbitrary objects will no longer be allowed to be loaded via this mode unless they are explicitly allowlisted by the user via `torch.serialization.add_safe_globals`. We recommend you start setting `weights_only=True` for any use case where you don't have full control of the loaded file. Please open an issue on GitHub for any issues related to this experimental feature.\n",
      "  model.load_state_dict(torch.load(model_name))\n"
     ]
    }
   ],
   "source": [
    "#parameters['reload']=False\n",
    "\n",
    "if not parameters['reload']:\n",
    "    tr = time.time()\n",
    "    model.train(True)\n",
    "    for epoch in range(1,number_of_epochs):\n",
    "        for i, index in enumerate(np.random.permutation(len(train_data))):\n",
    "            count += 1\n",
    "            data = train_data[index]\n",
    "\n",
    "            ##gradient updates for each data entry\n",
    "            model.zero_grad()\n",
    "\n",
    "            sentence_in = data['words']\n",
    "            sentence_in = Variable(torch.LongTensor(sentence_in))\n",
    "            tags = data['tags']\n",
    "            chars2 = data['chars']\n",
    "\n",
    "            if parameters['char_mode'] == 'LSTM':\n",
    "                chars2_sorted = sorted(chars2, key=lambda p: len(p), reverse=True)\n",
    "                d = {}\n",
    "                for i, ci in enumerate(chars2):\n",
    "                    for j, cj in enumerate(chars2_sorted):\n",
    "                        if ci == cj and not j in d and not i in d.values():\n",
    "                            d[j] = i\n",
    "                            continue\n",
    "                chars2_length = [len(c) for c in chars2_sorted]\n",
    "                char_maxl = max(chars2_length)\n",
    "                chars2_mask = np.zeros((len(chars2_sorted), char_maxl), dtype='int')\n",
    "                for i, c in enumerate(chars2_sorted):\n",
    "                    chars2_mask[i, :chars2_length[i]] = c\n",
    "                chars2_mask = Variable(torch.LongTensor(chars2_mask))\n",
    "\n",
    "            if parameters['char_mode'] == 'CNN':\n",
    "\n",
    "                d = {}\n",
    "\n",
    "                ## Padding the each word to max word size of that sentence\n",
    "                chars2_length = [len(c) for c in chars2]\n",
    "                char_maxl = max(chars2_length)\n",
    "                chars2_mask = np.zeros((len(chars2_length), char_maxl), dtype='int')\n",
    "                for i, c in enumerate(chars2):\n",
    "                    chars2_mask[i, :chars2_length[i]] = c\n",
    "                chars2_mask = Variable(torch.LongTensor(chars2_mask))\n",
    "\n",
    "\n",
    "            targets = torch.LongTensor(tags)\n",
    "\n",
    "            #we calculate the negative log-likelihood for the predicted tags using the predefined function\n",
    "            if use_gpu:\n",
    "                neg_log_likelihood = model.neg_log_likelihood(sentence_in.cuda(), targets.cuda(), chars2_mask.cuda(), chars2_length, d)\n",
    "            else:\n",
    "                neg_log_likelihood = model.neg_log_likelihood(sentence_in, targets, chars2_mask, chars2_length, d)\n",
    "            # loss += neg_log_likelihood.data[0] / len(data['words']) # ligne de code d'origine mais me dit qu'il y a une erreur donc ...\n",
    "            loss += neg_log_likelihood.item() / len(data['words']) # nouvelle ligne avec la correction de copilot qui dit que .data a pas le bon format de données (c'est un scalar alors que il en veut pas)\n",
    "\n",
    "            neg_log_likelihood.backward()\n",
    "\n",
    "            #we use gradient clipping to avoid exploding gradients\n",
    "            torch.nn.utils.clip_grad_norm(model.parameters(), gradient_clip)\n",
    "            optimizer.step()\n",
    "\n",
    "            #Storing loss\n",
    "            if count % plot_every == 0:\n",
    "                loss /= plot_every\n",
    "                print(count, ': ', loss)\n",
    "                if losses == []:\n",
    "                    losses.append(loss)\n",
    "                losses.append(loss)\n",
    "                loss = 0.0\n",
    "\n",
    "            #Evaluating on Train, Test, Dev Sets\n",
    "            if count % (eval_every) == 0 and count > (eval_every * 20) or \\\n",
    "                    count % (eval_every*4) == 0 and count < (eval_every * 20):\n",
    "                model.train(False)\n",
    "                best_train_F, new_train_F, _ = evaluating(model, train_data, best_train_F,\"Train\")\n",
    "                best_dev_F, new_dev_F, save = evaluating(model, dev_data, best_dev_F,\"Dev\")\n",
    "                if save:\n",
    "                    print(\"Saving Model to \", model_name)\n",
    "                    torch.save(model.state_dict(), model_name)\n",
    "                best_test_F, new_test_F, _ = evaluating(model, test_data, best_test_F,\"Test\")\n",
    "\n",
    "                all_F.append([new_train_F, new_dev_F, new_test_F])\n",
    "                model.train(True)\n",
    "\n",
    "            #Performing decay on the learning rate\n",
    "            if count % len(train_data) == 0:\n",
    "                adjust_learning_rate(optimizer, lr=learning_rate/(1+decay_rate*count/len(train_data)))\n",
    "\n",
    "    print(time.time() - tr)\n",
    "    plt.plot(losses)\n",
    "    plt.show()\n",
    "\n",
    "if not parameters['reload']:\n",
    "    #reload the best model saved from training\n",
    "    model.load_state_dict(torch.load(model_name))"
   ]
  },
  {
   "cell_type": "markdown",
   "metadata": {
    "id": "m5W3UCK4gFgr"
   },
   "source": [
    "## Model Testing\n",
    "This is where we provide our readers with some fun, they can try out how the trained model functions on the sentences that you throw at it. Feel free to play around.\n",
    "\n",
    "LIVE: PRODUCTION!"
   ]
  },
  {
   "cell_type": "code",
   "execution_count": 65,
   "metadata": {
    "colab": {
     "base_uri": "https://localhost:8080/"
    },
    "executionInfo": {
     "elapsed": 11,
     "status": "ok",
     "timestamp": 1741435115800,
     "user": {
      "displayName": "Alix Sirven-Vienot",
      "userId": "13691383331929752611"
     },
     "user_tz": -60
    },
    "id": "yfpK7NcIgKd8",
    "outputId": "06ab5880-f302-4123-da50-f60df6320a30"
   },
   "outputs": [
    {
     "name": "stdout",
     "output_type": "stream",
     "text": [
      "Prediction:\n",
      "word : tag\n",
      "Roccalas : PERSON\n",
      ", : NA\n",
      "linda : NA\n",
      "lótë : NA\n",
      "nórelyo : NA\n",
      ", : NA\n",
      "anvanya : NA\n",
      "yeldë : NA\n",
      "Roccoliéva : NA\n",
      ", : NA\n",
      "le : NA\n",
      "calina : NA\n",
      "ve : NA\n",
      "Naira : NA\n",
      "ilwessë : NA\n",
      "; : NA\n",
      "le : NA\n",
      "rín : LOC\n",
      "anda : NA\n",
      "laurëa : NA\n",
      "loxenen, : NA\n",
      "caltala : NA\n",
      "ve : NA\n",
      "i : NA\n",
      "calimë : LOC\n",
      "alcar, : NA\n",
      "Roccalas : NA\n",
      "aranel : LOC\n",
      "turmawendë : NA\n",
      ". : NA\n",
      "\n",
      "\n"
     ]
    }
   ],
   "source": [
    "model_testing_sentences = ['Roccalas , linda lótë nórelyo , anvanya yeldë Roccoliéva , le calina ve Naira ilwessë ; le rín anda laurëa loxenen, caltala ve i calimë alcar, Roccalas aranel turmawendë . ']\n",
    "\n",
    "#parameters\n",
    "lower=parameters['lower']\n",
    "\n",
    "#preprocessing\n",
    "final_test_data = []\n",
    "for sentence in model_testing_sentences:\n",
    "    s=sentence.split()\n",
    "    str_words = [w for w in s]\n",
    "    words = [word_to_id[lower_case(w,lower) if lower_case(w,lower) in word_to_id else '<UNK>'] for w in str_words]\n",
    "\n",
    "    # Skip characters that are not in the training set\n",
    "    chars = [[char_to_id[c] for c in w if c in char_to_id] for w in str_words]\n",
    "\n",
    "    final_test_data.append({\n",
    "        'str_words': str_words,\n",
    "        'words': words,\n",
    "        'chars': chars,\n",
    "    })\n",
    "\n",
    "#prediction\n",
    "predictions = []\n",
    "print(\"Prediction:\")\n",
    "print(\"word : tag\")\n",
    "for data in final_test_data:\n",
    "    words = data['str_words']\n",
    "    chars2 = data['chars']\n",
    "\n",
    "    d = {}\n",
    "\n",
    "    # Padding the each word to max word size of that sentence\n",
    "    chars2_length = [len(c) for c in chars2]\n",
    "    char_maxl = max(chars2_length)\n",
    "    chars2_mask = np.zeros((len(chars2_length), char_maxl), dtype='int')\n",
    "    for i, c in enumerate(chars2):\n",
    "        chars2_mask[i, :chars2_length[i]] = c\n",
    "    chars2_mask = Variable(torch.LongTensor(chars2_mask))\n",
    "\n",
    "    dwords = Variable(torch.LongTensor(data['words']))\n",
    "\n",
    "    # We are getting the predicted output from our model\n",
    "    if use_gpu:\n",
    "        val,predicted_id = model(dwords.cuda(), chars2_mask.cuda(), chars2_length, d)\n",
    "    else:\n",
    "        val,predicted_id = model(dwords, chars2_mask, chars2_length, d)\n",
    "\n",
    "    pred_chunks = get_chunks(predicted_id,tag_to_id)\n",
    "    temp_list_tags=['NA']*len(words)\n",
    "    for p in pred_chunks:\n",
    "        temp_list_tags[p[1]]=p[0]\n",
    "\n",
    "    for word,tag in zip(words,temp_list_tags):\n",
    "        print(word,':',tag)\n",
    "    print('\\n')"
   ]
  },
  {
   "cell_type": "code",
   "execution_count": 66,
   "metadata": {
    "executionInfo": {
     "elapsed": 187,
     "status": "ok",
     "timestamp": 1741445881381,
     "user": {
      "displayName": "Alix Sirven-Vienot",
      "userId": "13691383331929752611"
     },
     "user_tz": -60
    },
    "id": "z4V_h5pCtj5T"
   },
   "outputs": [],
   "source": [
    "def eval_model(model, datas, dataset=\"Test\"):\n",
    "    '''\n",
    "    The function takes as input the model, data and \n",
    "    \n",
    "    '''\n",
    "    # Initializations\n",
    "    prediction = [] # A list that stores predicted tags\n",
    "    true = [] # A list that stores true tags\n",
    "    correct_preds, total_correct, total_preds = 0., 0., 0. # Count variables\n",
    "\n",
    "    for data in datas:\n",
    "        ground_truth_id = data['tags']\n",
    "        words = data['str_words']\n",
    "        chars2 = data['chars']\n",
    "\n",
    "        if parameters['char_mode'] == 'LSTM':\n",
    "            chars2_sorted = sorted(chars2, key=lambda p: len(p), reverse=True)\n",
    "            d = {}\n",
    "            for i, ci in enumerate(chars2):\n",
    "                for j, cj in enumerate(chars2_sorted):\n",
    "                    if ci == cj and not j in d and not i in d.values():\n",
    "                        d[j] = i\n",
    "                        continue\n",
    "            chars2_length = [len(c) for c in chars2_sorted]\n",
    "            char_maxl = max(chars2_length)\n",
    "            chars2_mask = np.zeros((len(chars2_sorted), char_maxl), dtype='int')\n",
    "            for i, c in enumerate(chars2_sorted):\n",
    "                chars2_mask[i, :chars2_length[i]] = c\n",
    "            chars2_mask = Variable(torch.LongTensor(chars2_mask))\n",
    "\n",
    "\n",
    "        if parameters['char_mode'] == 'CNN':\n",
    "            d = {}\n",
    "            # Padding the each word to max word size of that sentence\n",
    "            chars2_length = [len(c) for c in chars2]\n",
    "            char_maxl = max(chars2_length)\n",
    "            chars2_mask = np.zeros((len(chars2_length), char_maxl), dtype='int')\n",
    "            for i, c in enumerate(chars2):\n",
    "                chars2_mask[i, :chars2_length[i]] = c\n",
    "            chars2_mask = Variable(torch.LongTensor(chars2_mask))\n",
    "\n",
    "        dwords = Variable(torch.LongTensor(data['words']))\n",
    "\n",
    "        # We are getting the predicted output from our model\n",
    "        if use_gpu:\n",
    "            val, out = model(dwords.cuda(), chars2_mask.cuda(), chars2_length, d)\n",
    "            # print(val, out)\n",
    "        else:\n",
    "            val, out = model(dwords, chars2_mask, chars2_length, d)\n",
    "            # print(val, out)\n",
    "        predicted_id = out\n",
    "\n",
    "\n",
    "        pred_chunks = get_chunks(predicted_id,tag_to_id)\n",
    "        temp_list_tags=['NA']*len(words)\n",
    "        for p in pred_chunks:\n",
    "            temp_list_tags[p[1]]=p[0]\n",
    "\n",
    "\t\t# Calculating the F1-Score, precision and recall for the data\n",
    "        lab_chunks      = set(get_chunks(ground_truth_id,tag_to_id))\n",
    "        lab_pred_chunks = set(get_chunks(predicted_id,tag_to_id))\n",
    "\n",
    "\t\t# Updating the count variables\n",
    "        correct_preds += len(lab_chunks & lab_pred_chunks)\n",
    "        total_preds   += len(lab_pred_chunks)\n",
    "        total_correct += len(lab_chunks)\n",
    "\n",
    "\t\t# Storing the predictions and true tags\n",
    "        # change NA into 0 in temp_list_tags\n",
    "        prediction.extend(['0' if x == 'NA' else x for x in temp_list_tags])\n",
    "        true.extend([id_to_tag[i] for i in ground_truth_id])\n",
    "\n",
    "    print(prediction)\n",
    "    print(true)\n",
    "\n",
    "    # Calculating the F1-Score\n",
    "    p   = correct_preds / total_preds if correct_preds > 0 else 0\n",
    "    r   = correct_preds / total_correct if correct_preds > 0 else 0\n",
    "    new_F  = 2 * p * r / (p + r) if correct_preds > 0 else 0\n",
    "\n",
    "    # print(\"{}: new_F: {} \".format(dataset,new_F))\n",
    "\n",
    "    model_1 = metrics.classification_report(true, prediction)\n",
    "    print(model_1)\n",
    "    metrics.confusion_matrix(true, prediction, labels = [\"NA\", \"PERSON\", \"LOC\"])\n",
    "    \n",
    "\n",
    "    return model_1"
   ]
  },
  {
   "cell_type": "code",
   "execution_count": 37,
   "metadata": {
    "colab": {
     "base_uri": "https://localhost:8080/"
    },
    "executionInfo": {
     "elapsed": 513,
     "status": "ok",
     "timestamp": 1741446106918,
     "user": {
      "displayName": "Alix Sirven-Vienot",
      "userId": "13691383331929752611"
     },
     "user_tz": -60
    },
    "id": "l_ihdHI85sCn",
    "outputId": "4fb3e13b-723e-49a0-fa1d-08161cbdb84e"
   },
   "outputs": [
    {
     "name": "stdout",
     "output_type": "stream",
     "text": [
      "['0', '0', '0', '0', '0', '0', '0', '0', '0', '0', '0', '0', '0', '0', '0', '0', '0', '0', '0', '0', '0', '0', '0', '0', '0', '0', '0', '0', '0', '0', '0', '0', '0', '0', '0', '0', '0', '0', '0', '0', '0', '0', '0', '0', '0', '0', '0', '0', '0', '0', '0', '0', '0', '0', '0', '0', '0', '0', '0', '0', '0', '0', '0', '0', '0', '0', '0', '0', '0', '0', '0', '0', '0', '0', '0', '0', '0', '0', '0', '0', '0', '0', '0', '0', '0', '0', '0', '0', '0', '0', '0', '0', '0', '0', '0', '0', '0', '0', '0', '0', '0', '0', '0', '0', '0', '0', '0', '0', '0', '0', '0', '0', '0', '0', '0', '0', '0', '0', '0', '0', '0', '0', '0', '0', '0', '0', '0', '0', 'PERSON', '0', '0', '0', '0', '0', '0', '0', '0', '0', '0', '0', '0', '0', '0', '0', '0', '0', '0', '0', '0', '0', '0', '0', '0', '0', '0', '0', '0', '0', '0', '0', '0', '0', '0', '0', '0', '0', '0', '0', '0', '0', '0', '0', '0', '0', '0', '0', '0', '0', '0', '0', '0', '0', '0', '0', '0', '0', '0', '0', '0', '0', '0', '0', '0', '0', '0', '0', '0', '0', '0', '0', '0', '0', '0', '0', '0', '0', '0', '0', '0', '0', '0', '0', '0', '0', '0', '0', '0', '0', '0', '0', '0', '0', '0', '0', '0', '0', '0', '0', '0', '0', '0', '0', '0', '0', '0', '0', '0', '0', '0', '0', '0', '0', '0', '0', '0', '0', '0', '0', '0', '0', '0', 'PERSON', '0', '0', '0', '0', '0', '0', '0', '0', '0', '0', '0', '0', '0', '0', '0', '0', '0', '0', '0', '0', '0', '0', '0', '0', '0', '0', '0', '0', '0', '0', '0', '0', '0', '0', '0', '0', '0', '0', '0', '0', '0', '0', '0', '0', '0', '0', '0', '0', '0', '0', '0', '0', '0', '0', '0', '0', '0', '0', '0', '0', '0', '0', '0', '0', '0', '0', '0', '0', '0', '0', '0', '0', '0', '0', '0', '0', '0', '0', '0', '0', '0', '0', '0', '0', '0', '0', '0', '0', '0', '0', '0', '0', '0', '0', '0', '0', '0', '0', '0', '0', '0', '0', '0', '0', '0', '0', '0', '0', '0', '0', '0', '0', '0', '0', '0', '0', '0', '0', '0', '0', '0', '0', '0', '0', '0', '0', '0', '0', '0', '0', '0', '0', '0', '0', '0', '0', '0', '0', '0', '0', '0', '0', '0', '0', '0', '0', '0', '0', '0', '0', '0', '0', '0', '0', '0', '0', '0', '0', '0', '0', '0', '0', '0', '0', '0', '0', '0', '0', '0', '0', '0', '0', '0', '0', '0', '0', '0', '0', '0', '0', '0', '0', '0', '0', '0', '0', '0', '0', '0', '0', '0', '0', '0', '0', '0', '0', '0', '0', '0', '0', '0', '0', '0', '0', '0', '0', '0', '0', '0', '0', '0', '0', '0', '0', '0', 'PERSON', '0', '0', '0', '0', '0', '0', '0', '0', 'PERSON', '0', '0', '0', '0', '0', '0', '0', '0', '0', '0', '0', '0', '0', '0', '0', '0', '0', '0', '0', '0', '0', '0', '0', '0', '0', '0', '0', '0', '0', '0', '0', '0', '0', '0', '0', '0', '0', '0', '0', '0', '0', '0', '0', '0', '0', '0', '0', '0', '0', '0', '0', '0', '0', '0', '0', '0', '0', '0', '0', '0', '0', '0', '0', '0', '0', '0', '0', '0', '0', '0', '0', '0', '0', '0', '0', '0', '0', '0', '0', 'PERSON', '0', '0', '0', '0', '0', '0', '0', '0', '0', '0', '0', '0', '0', '0', '0', '0', '0', '0', '0', '0', '0', '0', '0', '0', '0', '0', '0', '0', '0', '0', 'PERSON', '0', '0', '0', '0', '0', '0', '0', '0', '0', '0', '0', '0', '0', '0', '0', '0', 'PERSON', '0', '0', '0', '0', '0', '0', '0', '0', '0', '0', 'PERSON', '0', '0', '0', '0', '0', '0', '0', '0', '0', '0', '0', '0', '0', '0', '0', '0', '0', '0', '0', '0', '0', '0', '0', '0', 'PERSON', '0', '0', '0', '0', '0', '0', '0', '0', '0', '0', '0', '0', '0', '0', '0', '0', '0', '0', 'PERSON', '0', '0', '0', '0', '0', '0', '0', '0', '0', '0', '0', '0', '0', '0', '0', '0', '0', '0', '0', '0', '0', '0', '0', '0', '0', '0', '0', '0', '0', '0', 'PERSON', '0', '0', '0', '0', '0', '0', '0', '0', '0', '0', '0', '0', '0', '0', '0', '0', '0', '0', '0', '0', '0', 'PERSON', '0', '0', '0', '0', '0', '0', '0', '0', '0', '0', '0', '0', '0', '0', '0', '0', 'PERSON', '0', '0', '0', '0', '0', '0', '0', '0', '0', '0', '0', '0', '0', '0', '0', '0', '0', '0', '0', '0', '0', '0', '0', '0', '0', '0', '0', '0', '0', '0', '0', '0', '0', '0', '0', '0', '0', '0', '0', '0', '0', '0', '0', '0', '0', '0', '0', '0', '0', '0', '0', '0', '0', '0', '0', '0', '0', '0', '0', '0', '0', '0', '0', '0', '0', '0', '0', '0', '0', '0', '0', '0', '0', '0', '0', '0', '0', '0', '0', '0', '0', '0', '0', '0', '0', '0', '0', '0', '0', '0', '0', '0', '0', '0', '0', '0', '0', '0', '0', '0', '0', '0', '0', '0', '0', '0', '0', '0', '0', '0', '0', '0', '0', '0', '0', '0', '0', '0', '0', '0', '0', '0', '0', '0', '0', '0', '0', '0', '0', '0', '0', 'PERSON', '0', '0', '0', '0', '0', '0', 'PERSON', '0', '0', '0', '0', '0', '0', '0', '0', '0', 'PERSON', '0', '0', '0', '0', '0', '0', '0', '0', '0', '0', '0', '0', '0', '0', '0', '0', '0', '0', '0', '0', '0', '0', '0', '0', '0', '0', '0', '0', '0', '0', '0', '0', '0', '0', '0', '0', '0', 'PERSON', '0', '0', '0', 'PERSON', '0', '0', '0', '0', '0', '0', '0', '0', '0', '0', '0', '0', '0', '0', '0', '0', '0', 'PERSON', '0', '0', '0', '0', '0', '0', '0', '0', '0', '0', '0', '0', '0', '0', '0', '0', '0', '0', '0', '0', '0', '0', '0', '0', '0', '0', '0', '0', '0', '0', '0', '0', '0', '0', '0', '0', '0', '0', '0', '0', '0', '0', '0', '0', '0', '0', '0', '0', '0', '0', '0', '0', '0', '0', '0', '0', 'PERSON', '0', '0', '0', '0', '0', '0', '0', '0', '0', '0', '0', '0', '0', '0', '0', '0', '0', '0', '0', '0', '0', 'PERSON', '0', '0', '0', '0', '0', '0', '0', '0', '0', '0', '0', '0', '0', '0', '0', '0', '0', '0', '0', '0', '0', '0', '0', '0', '0', '0', '0', '0', '0', '0', '0', '0', '0', '0', '0', '0', '0', '0', '0', '0', '0', '0', '0', '0', '0', '0', '0', '0', '0', '0', '0', '0', '0', '0', '0', '0', '0', '0', '0', '0', '0', '0', '0', '0', '0', '0', '0', '0', '0', '0', '0', '0', '0', '0', '0', '0', '0', '0', '0', '0', '0', '0', '0', '0', '0', 'PERSON', '0', '0', '0', '0', '0', '0', '0', '0', '0', '0', '0', '0', '0', '0', '0', 'PERSON', '0', '0', '0', '0', '0', '0', '0', '0', '0', '0', '0', '0', '0', '0', '0', '0', '0', '0', '0', '0', '0', '0', '0', '0', '0', '0', '0', '0', '0', '0', '0', '0', '0', '0', '0', '0', '0', '0', '0', '0', '0', '0', '0', '0', '0', '0', '0', '0', '0', '0', '0', '0', '0', '0', '0', '0', '0', '0', '0', '0', '0', '0', '0', '0', '0', '0', '0', '0', '0', '0', '0', '0', '0', '0', '0', '0', '0', '0', '0', '0', '0', '0', '0', '0', '0', '0', '0', '0', '0', '0', '0', '0', '0', '0', '0', '0', '0', '0', '0', '0', '0', '0', '0', '0', '0', '0', '0', '0', '0', '0', '0', '0', '0', '0', '0', '0', '0', '0', '0', '0', '0', '0', '0', '0', '0', '0', '0', '0', '0', '0', '0', '0', '0', '0', '0', '0', '0', '0', '0', '0', '0', '0', '0', '0', '0', '0', '0', '0', '0', '0', '0', '0', '0', '0', '0', '0', '0', '0', '0', '0', '0', '0', '0', '0', '0', '0', '0', '0', '0', '0', '0', '0', '0', '0', '0', '0', '0', '0', '0', '0', '0', '0', '0', '0', '0', '0', '0', '0', '0', '0', '0', '0', '0', '0', '0', '0', '0', '0', '0', '0', '0', '0', '0', '0', '0', '0', '0', '0', '0', '0', '0', '0', '0', '0', 'LOC', '0', '0', '0', '0', '0', '0', '0', '0', '0', '0', '0', '0', '0', '0', '0', '0', '0', '0', '0', '0', '0', '0', '0', '0', '0', '0', '0', '0', '0', '0', '0', '0', '0', '0', '0', '0', '0', '0', '0', '0', '0', '0', '0', '0', '0', '0', '0', '0', '0', '0', '0', '0', '0', '0', '0', '0', '0', '0', '0', '0', '0', '0', '0', '0', '0', '0', '0', '0', '0', '0', '0', '0', '0', '0', '0', '0', '0', '0', '0', '0', '0', '0', '0', '0', '0', '0', '0', '0', '0', '0', '0', '0', '0', '0', '0', '0', '0', '0', '0', '0', '0', '0', '0', '0', '0', '0', '0', '0', '0', '0', '0', '0', '0', '0', '0', '0', '0', '0', '0', '0', '0', '0', '0', '0', '0', '0', '0', '0', '0', '0', '0', '0', '0', '0', '0', '0', '0', '0', '0', '0', '0', '0', '0', '0', '0', '0', '0', '0', '0', '0', '0', '0', '0', '0', '0', '0', '0', '0', '0', '0', '0', '0', '0', '0', '0', '0', '0', '0', '0', '0', '0', '0', '0', '0', '0', '0', '0', '0', '0', '0', '0', '0', '0', '0', '0', '0', '0', '0', '0', '0', '0', '0', '0', '0', '0', '0', '0', '0', '0', '0', '0', '0', '0', '0', '0', '0', '0', '0', '0', '0', '0', '0', '0', '0', '0', '0', '0', '0', '0', '0', '0', '0', '0', '0', '0', '0', '0', '0', '0', '0', '0', '0', '0', '0', '0', '0', '0', '0', '0', '0', '0', '0', '0', '0', '0', '0', '0', '0', '0', '0', '0', '0', '0', '0', '0', '0', '0', '0', '0', '0', '0', '0', '0', '0', '0', '0', '0', '0', '0', '0', '0', '0', '0', '0', '0', '0', '0', '0', '0', '0', '0', '0', '0', '0', '0', '0', '0', '0', '0', '0', '0', '0', '0', '0', '0', '0', '0', '0', '0', '0', 'PERSON', '0', '0', '0', '0', '0', '0', '0', '0', '0', '0', '0', '0', '0', '0', '0', '0', '0', '0', '0', '0', '0', '0', '0', '0', '0', '0', 'PERSON', '0', '0', '0', '0', '0', '0', '0', '0', 'LOC', '0', '0', '0', '0', '0', '0', '0', '0', '0', '0', '0', '0', '0', '0', '0', '0', '0', '0', '0', '0', '0', '0', '0', '0', '0', '0', '0', '0', '0', '0', '0', '0', '0', '0', '0', '0', '0', '0', '0', '0', '0', '0', '0', '0', '0', '0', '0', '0', '0', '0', '0', '0', '0', '0', '0', '0', '0', '0', '0', '0', '0', '0', '0', '0', '0', '0', '0', '0', '0', '0', '0', '0', '0', '0', '0', '0', '0', '0', '0', '0', '0', '0', '0', '0', '0', '0', '0', '0', '0', '0', '0', '0', '0', '0', '0', '0', '0', '0', '0', '0', '0', '0', '0', '0', '0', '0', '0', '0', '0', '0', '0', '0', '0', '0', '0', '0', '0', '0', '0', '0', '0', '0', '0', '0', '0', '0', '0', '0', '0', '0', '0', '0', 'PERSON', '0', '0', '0', '0', '0', '0', '0', '0', '0', '0', '0', '0', '0', '0', '0', '0', '0', 'PERSON', '0', '0', '0', '0', '0', '0', '0', '0', '0', '0', '0', '0', '0', '0', '0', '0', '0', '0', '0', '0', '0', '0', '0', '0', '0', '0', '0', 'LOC', '0', '0', '0', '0', '0', '0', '0', '0', '0', '0', '0', '0', '0', '0', '0', '0', '0', '0', '0', '0', '0', '0', '0', '0', '0', '0', '0', '0', '0', '0', '0', '0', '0', '0', '0', '0', '0', '0', '0', '0', '0', '0', '0', '0', '0', '0', '0', '0', '0', '0', '0', 'PERSON', '0', '0', '0', '0', '0', '0', '0', '0', '0', '0', '0', '0', '0', '0', '0', '0', '0', '0', '0', '0', '0', '0', '0', '0', '0', '0', '0', '0', '0', '0', '0', '0', '0', '0', '0', '0', '0', '0', '0', '0', '0', '0', '0', '0', '0', '0', '0', '0', '0', '0', '0', '0', '0', '0', '0', '0', '0', '0', '0', '0', '0', '0', '0', '0', 'LOC', '0', '0', '0', '0', '0', '0', '0', '0', '0', '0', '0', '0', '0', '0', '0', '0', '0', '0', '0', '0', '0', '0', '0', '0', '0', '0', '0', '0', '0', '0', '0', '0', '0', '0', '0', '0', '0', '0', '0', '0', '0', '0', '0', '0', '0', '0', '0', '0', '0', '0', '0', '0', '0', '0', '0', '0', '0', '0', '0', '0', '0', '0', '0', '0', 'LOC', '0', '0', '0', '0', '0', '0', '0', '0', '0', '0', '0', '0', '0', '0', '0', '0', '0', '0', '0', '0', '0', '0', '0', '0', '0', '0', '0', '0', '0', '0', '0', '0', '0', '0', '0', '0', '0', '0', '0', '0', '0', '0', '0', '0', '0', '0', '0', '0', '0', '0', '0', '0', '0', '0', '0', '0', '0', '0', '0', '0', '0', '0', '0', '0', '0', '0', '0', '0', '0', '0', '0', '0', '0', '0', '0', '0', '0', '0', '0', '0', '0', '0', '0', '0', '0', '0', '0', '0', '0', '0', '0', '0', '0', '0', '0', '0', '0', '0', '0', '0', '0', '0', '0', '0', '0', '0', '0', '0', '0', '0', '0', '0', '0', '0', '0', '0', '0', '0', '0', '0', '0', '0', '0', '0', '0', '0', '0', '0', '0', '0', '0', '0', '0', '0', '0', '0', '0', '0', '0', '0', '0', '0', '0', '0', '0', '0', '0', '0', '0', '0', '0', '0', '0', '0', '0', '0', '0', '0', '0', '0', '0', '0', '0', '0', '0', '0', '0', 'PERSON', '0', '0', '0', '0', '0', '0', '0', '0', '0', '0', '0', '0', '0', '0', '0', '0', '0', '0', '0', '0', '0', '0', '0', '0', '0', '0', '0', '0', '0', '0', '0', '0', '0', '0', '0', '0', '0', '0', '0', '0', '0', '0', '0', '0', '0', '0', '0', '0', '0', '0', '0', '0', '0', '0', '0', '0', '0', '0', '0', '0', '0', '0', '0', '0', '0', '0', '0', '0', '0', '0', '0', '0', '0', '0', '0', '0', '0', '0', '0', '0', 'PERSON', '0', '0', '0', '0', '0', '0', '0', '0', '0', '0', '0', '0', '0', '0', '0', '0', '0', '0', '0', '0', '0', '0', '0', '0', '0', '0', '0', '0', '0', '0', '0', '0', '0', '0', '0', '0', '0', '0', '0', '0', '0', '0', '0', '0', '0', '0', '0', '0', '0', '0', '0', '0', '0', '0', '0', '0', '0', '0', '0', '0', '0', '0', '0', '0', '0', '0', '0', '0', '0', '0', '0', '0', '0', '0', '0', '0', '0', '0', '0', '0', '0', '0', '0', '0', '0', '0', '0', '0', '0', '0', '0', '0', '0', '0', '0', '0', '0', '0', '0', '0', '0', '0', '0', '0', '0', '0', '0', '0', '0', '0', '0', '0', '0', '0', '0', '0', '0', '0', '0', '0', '0', '0', '0', '0', '0', '0', '0', '0', '0', '0', '0', '0', '0', '0', '0', '0', '0', '0', '0', '0', '0', '0', '0', '0', '0', '0', '0', '0', '0', '0', '0', '0', '0', '0', '0', '0', '0', '0', '0', '0', '0', '0', '0', '0', '0', '0', '0', '0', '0', '0', '0', '0', '0', '0', 'PERSON', '0', '0', '0', '0', '0', '0', '0', '0', '0', '0', '0', '0', '0', '0', '0', '0', '0', '0', '0', '0', '0', '0', '0', '0', '0', '0', '0', '0', '0', '0', '0', '0', 'LOC', '0', '0', '0', '0', '0', '0', '0', '0', '0', '0', '0', '0', '0', '0', '0', '0', '0', '0', 'PERSON', '0', 'PERSON', '0', '0', '0', '0', '0', '0', '0', '0', '0', '0', '0', '0', '0', '0', '0', '0', '0', '0', '0', '0', '0', '0', '0', '0', '0', '0', '0', '0', '0', '0', '0', 'PERSON', '0', '0', '0', '0', '0', '0', 'PERSON', '0', '0', '0', '0', '0', '0', '0', '0', '0', '0', '0', '0', '0', '0', '0', '0', '0', '0', '0', '0', '0', '0', '0', '0', '0', '0', '0', '0', '0', '0', '0', '0', '0', '0', '0', '0', '0', '0', '0', '0', '0', '0', '0', '0', '0', '0', '0', '0', '0', '0', '0', '0', '0', '0', '0', '0', '0', '0', '0', '0', '0', '0', '0', '0', '0', '0', '0', '0', '0', '0', '0', '0', '0', '0', '0', '0', '0', '0', '0', '0', '0', '0', '0', '0', '0', '0', '0', '0', '0', '0', '0', '0', '0', '0', '0', '0', '0', '0', '0', '0', '0', '0', '0', '0', '0', '0', '0', '0', '0', '0', '0', '0', '0', '0', '0', '0', '0', '0', '0', '0', '0', '0', '0', '0', '0', '0', '0', '0', '0', '0', '0', '0', '0', '0', '0', '0', '0', '0', '0', '0', '0', '0', '0', '0', '0', '0', '0', '0', '0', '0', '0', '0', '0', '0', '0', '0', '0', '0', '0', '0', '0', '0', '0', '0', '0', '0', '0', '0', '0', '0', '0', '0', '0', '0', '0', '0', '0', '0', '0', '0', '0', '0', '0', '0', '0', '0', '0', '0', '0', '0', '0', '0', '0', '0', '0', '0', '0', '0', '0', '0', '0', '0', '0', '0', '0', '0', '0', '0', '0', 'LOC', '0', '0', '0', '0', '0', '0', '0', '0', '0', '0', '0', '0', '0', '0', '0', '0', '0', '0', '0', '0', 'PERSON', '0', '0', '0', '0', '0', '0', '0', '0', '0', '0', '0', '0', '0', '0', '0', '0', '0', '0', '0', '0', '0', '0', '0', '0', '0', '0', '0', '0', '0', '0', '0', '0', '0', '0', '0', '0', '0', '0', '0', '0', '0', '0', '0', '0', '0', '0', '0', '0', '0', '0', '0', '0', '0', '0', '0', '0', '0', '0', '0', '0', '0', '0', '0', '0', '0', '0', '0', '0', '0', '0', '0', '0', '0', '0', '0', '0', '0', '0', '0', '0', '0', '0', '0', '0', '0', '0', '0', '0', '0', '0', '0', '0', '0', '0', '0', '0', '0', '0', '0', '0', '0', '0', '0', '0', '0', '0', '0', '0', '0', '0', '0', '0', '0', '0', '0', '0', '0', '0', '0', '0', '0', '0', '0', '0', '0', '0', '0', '0', '0', '0', '0', '0', '0', '0', '0', '0', '0', '0', '0', '0', '0', '0', '0', '0', '0', '0', '0', '0', '0', '0', '0', '0', '0', '0', '0', '0', '0', '0', '0', '0', '0', '0', '0', '0', '0', '0', '0', '0', '0', '0', '0', '0', '0', '0', '0', '0', '0', '0', '0', '0', '0', '0', '0', '0', '0', '0', '0', '0', '0', '0', '0', '0', '0', '0', '0', '0', '0', '0', '0', '0', '0', '0', '0', '0', '0', '0', '0', '0', '0', 'LOC', '0', '0', '0', '0', '0', '0', '0', '0', '0', '0', '0', '0', '0', '0', '0', '0', '0', '0', '0', '0', '0', '0', '0', '0', '0', '0', '0', '0', '0', '0', '0', '0', '0', '0', '0', '0', '0', '0', '0', '0', '0', '0', '0', '0', '0', '0', '0', '0', '0', '0', '0', '0', '0', '0', '0', '0', '0', '0', '0', '0', '0', '0', '0', '0', '0', '0', '0', '0', '0', '0', '0', '0', '0', '0', '0', '0', '0', '0', '0', '0', '0', '0', '0', '0', '0', '0', '0', '0', '0', '0', '0', '0', '0', '0', '0', '0', '0', '0', '0', '0', '0', '0', '0', '0', '0', '0', '0', '0', '0', '0', '0', '0', '0', '0', '0', '0', '0', '0', '0', '0', '0', 'LOC', '0', '0', '0', '0', '0', '0', '0', '0', '0', '0', '0', '0', '0', '0', '0', '0', '0', '0', '0', '0', '0', '0', '0', '0', '0', '0', '0', '0', '0', '0', '0', '0', '0', '0', '0', '0', '0', '0', '0', '0', '0', '0', '0', '0', '0', '0', '0', '0', '0', '0', '0', '0', '0', '0', '0', '0', '0', '0', '0', '0', '0', '0', '0', '0', '0', '0', '0', '0', '0', '0', '0', '0', '0', '0', '0', '0', '0', '0', '0', '0', '0', '0', '0', '0', '0', '0', '0', '0', '0']\n",
      "['0', '0', '0', '0', '0', '0', '0', '0', '0', '0', '0', '0', '0', '0', '0', '0', '0', '0', '0', '0', '0', '0', '0', '0', '0', '0', '0', '0', '0', '0', '0', '0', '0', '0', '0', '0', '0', '0', '0', '0', '0', '0', '0', '0', '0', '0', '0', '0', '0', '0', '0', '0', '0', '0', '0', '0', '0', '0', '0', '0', '0', '0', '0', '0', '0', '0', '0', '0', '0', '0', '0', '0', '0', '0', '0', '0', '0', '0', '0', '0', '0', '0', '0', '0', '0', '0', '0', '0', '0', '0', '0', '0', '0', '0', '0', '0', '0', '0', '0', '0', '0', '0', '0', '0', '0', '0', '0', '0', '0', '0', '0', '0', '0', '0', '0', '0', '0', '0', '0', '0', '0', '0', '0', '0', '0', '0', '0', '0', '0', '0', '0', '0', '0', '0', '0', '0', '0', '0', '0', '0', '0', '0', '0', '0', '0', '0', '0', '0', '0', '0', '0', '0', '0', '0', '0', '0', '0', '0', '0', '0', '0', '0', '0', '0', '0', '0', '0', '0', '0', '0', '0', '0', '0', '0', '0', '0', '0', '0', '0', '0', '0', '0', '0', '0', '0', '0', '0', '0', '0', '0', '0', '0', '0', '0', '0', '0', '0', '0', '0', '0', '0', '0', '0', '0', '0', '0', '0', '0', '0', '0', '0', '0', '0', '0', '0', '0', '0', '0', '0', '0', '0', 'PERSON', '0', '0', '0', '0', '0', '0', '0', '0', '0', '0', '0', '0', '0', '0', '0', '0', '0', '0', '0', '0', '0', '0', '0', '0', '0', '0', '0', '0', '0', 'PERSON', '0', '0', '0', '0', '0', '0', '0', '0', '0', '0', '0', '0', '0', '0', '0', '0', '0', '0', '0', '0', '0', '0', '0', '0', '0', '0', '0', '0', '0', '0', '0', '0', '0', '0', '0', '0', '0', '0', '0', '0', '0', '0', '0', '0', '0', '0', '0', '0', '0', '0', '0', '0', '0', '0', '0', '0', '0', '0', '0', '0', '0', '0', '0', '0', '0', '0', '0', '0', '0', '0', '0', '0', '0', '0', '0', '0', '0', '0', '0', '0', '0', '0', '0', '0', '0', '0', '0', '0', '0', '0', '0', '0', 'LOC', '0', '0', '0', '0', '0', '0', '0', '0', '0', '0', '0', '0', '0', '0', '0', '0', '0', '0', '0', '0', '0', '0', '0', '0', '0', '0', '0', '0', '0', '0', '0', '0', '0', '0', 'LOC', '0', '0', '0', '0', '0', '0', '0', '0', '0', '0', '0', '0', '0', '0', '0', '0', '0', '0', '0', '0', '0', '0', '0', '0', '0', '0', '0', '0', '0', '0', '0', '0', '0', '0', '0', '0', '0', '0', '0', '0', '0', '0', '0', '0', '0', '0', '0', '0', '0', '0', '0', '0', '0', '0', '0', '0', '0', '0', '0', '0', '0', '0', '0', '0', 'PERSON', '0', '0', 'PERSON', '0', '0', '0', '0', '0', '0', '0', '0', '0', '0', '0', '0', '0', '0', '0', '0', '0', '0', '0', 'PERSON', '0', '0', '0', '0', '0', '0', '0', '0', 'PERSON', '0', '0', '0', '0', '0', '0', '0', '0', '0', '0', '0', '0', '0', '0', '0', '0', '0', '0', '0', '0', '0', '0', '0', '0', '0', '0', '0', '0', '0', '0', '0', '0', '0', '0', '0', '0', '0', '0', '0', '0', '0', '0', '0', '0', '0', '0', '0', '0', '0', '0', '0', '0', '0', '0', '0', '0', '0', '0', '0', '0', '0', '0', '0', '0', '0', '0', '0', '0', '0', '0', '0', '0', '0', '0', '0', '0', '0', '0', '0', 'PERSON', '0', '0', '0', '0', '0', '0', '0', '0', '0', '0', '0', '0', '0', '0', '0', '0', '0', '0', '0', '0', '0', '0', '0', '0', '0', '0', '0', '0', '0', '0', 'PERSON', '0', '0', '0', '0', '0', '0', '0', '0', '0', '0', '0', '0', '0', '0', '0', '0', 'PERSON', '0', '0', '0', '0', '0', '0', '0', '0', '0', '0', 'PERSON', '0', '0', '0', '0', '0', '0', '0', '0', '0', '0', '0', '0', '0', '0', '0', '0', '0', '0', '0', '0', '0', '0', '0', '0', 'PERSON', '0', '0', '0', '0', '0', '0', '0', '0', '0', '0', '0', '0', '0', '0', '0', '0', '0', '0', '0', 'PERSON', '0', '0', '0', '0', '0', '0', '0', '0', '0', '0', '0', '0', '0', '0', '0', '0', '0', '0', '0', '0', '0', '0', '0', '0', '0', '0', '0', '0', '0', 'PERSON', '0', '0', '0', '0', '0', '0', '0', '0', '0', '0', '0', '0', '0', '0', '0', '0', '0', '0', '0', '0', '0', 'PERSON', '0', '0', '0', '0', 'LOC', '0', '0', '0', '0', '0', '0', '0', '0', '0', '0', '0', 'PERSON', '0', '0', '0', '0', '0', '0', '0', '0', '0', '0', '0', '0', '0', '0', '0', '0', '0', '0', '0', '0', '0', '0', '0', '0', '0', '0', '0', '0', '0', '0', '0', '0', '0', '0', '0', '0', '0', '0', '0', '0', '0', '0', '0', '0', '0', '0', '0', '0', '0', '0', '0', '0', '0', '0', '0', '0', '0', '0', '0', '0', '0', '0', '0', '0', '0', '0', '0', '0', '0', '0', '0', '0', '0', '0', '0', '0', '0', '0', '0', '0', '0', '0', '0', '0', '0', '0', '0', '0', '0', '0', '0', '0', '0', '0', '0', '0', '0', '0', '0', '0', '0', '0', '0', '0', '0', '0', '0', '0', '0', '0', '0', '0', '0', '0', '0', '0', '0', '0', '0', '0', '0', '0', '0', '0', '0', '0', '0', '0', '0', '0', '0', 'PERSON', '0', '0', '0', '0', '0', '0', '0', '0', '0', '0', '0', '0', '0', '0', '0', '0', 'PERSON', '0', '0', '0', '0', '0', '0', '0', '0', '0', '0', '0', '0', '0', '0', '0', '0', '0', '0', '0', '0', '0', '0', '0', '0', '0', '0', '0', '0', '0', '0', '0', '0', '0', '0', '0', '0', '0', '0', 'PERSON', '0', '0', '0', '0', '0', '0', '0', '0', '0', '0', '0', '0', '0', '0', '0', '0', '0', '0', '0', '0', 'PERSON', '0', '0', '0', '0', '0', '0', '0', '0', '0', '0', '0', '0', '0', '0', '0', '0', '0', '0', '0', '0', '0', '0', '0', '0', '0', '0', '0', '0', '0', '0', '0', '0', '0', '0', '0', '0', '0', '0', '0', '0', '0', '0', '0', '0', '0', '0', '0', '0', '0', '0', '0', '0', '0', '0', '0', '0', '0', 'PERSON', '0', '0', '0', '0', '0', '0', '0', '0', '0', '0', '0', '0', '0', '0', '0', '0', '0', '0', '0', '0', 'PERSON', '0', '0', '0', '0', '0', '0', '0', '0', '0', '0', '0', '0', '0', '0', '0', '0', '0', '0', '0', '0', '0', '0', '0', '0', '0', '0', '0', '0', '0', '0', '0', '0', '0', '0', '0', '0', '0', '0', '0', '0', '0', '0', '0', '0', '0', '0', '0', '0', '0', '0', '0', '0', '0', '0', '0', '0', '0', '0', '0', '0', '0', '0', '0', '0', '0', '0', '0', '0', '0', '0', '0', '0', '0', '0', '0', '0', '0', '0', '0', '0', '0', '0', '0', '0', '0', 'PERSON', 'PERSON', '0', '0', '0', '0', '0', '0', '0', '0', '0', '0', '0', '0', '0', '0', 'PERSON', 'PERSON', '0', '0', '0', '0', '0', '0', '0', '0', '0', '0', '0', '0', '0', '0', '0', '0', '0', '0', '0', '0', '0', '0', '0', '0', '0', '0', '0', '0', '0', '0', '0', '0', '0', '0', '0', '0', '0', '0', '0', '0', '0', '0', '0', '0', '0', '0', '0', '0', '0', '0', '0', '0', '0', '0', '0', '0', '0', '0', '0', '0', '0', '0', '0', '0', '0', '0', '0', '0', '0', '0', '0', '0', '0', '0', '0', '0', '0', '0', '0', '0', '0', '0', '0', '0', '0', '0', '0', '0', '0', '0', '0', '0', '0', '0', '0', '0', '0', '0', '0', '0', '0', '0', '0', '0', '0', '0', '0', '0', '0', '0', '0', '0', '0', '0', '0', '0', '0', '0', '0', '0', '0', '0', '0', '0', '0', '0', '0', '0', '0', '0', '0', '0', '0', '0', '0', '0', '0', '0', '0', '0', '0', '0', '0', '0', '0', '0', '0', '0', '0', '0', '0', '0', '0', '0', '0', '0', '0', '0', '0', '0', '0', '0', '0', '0', '0', '0', '0', '0', '0', '0', '0', '0', '0', '0', '0', '0', '0', '0', '0', '0', '0', '0', '0', '0', '0', '0', '0', '0', '0', '0', '0', '0', '0', '0', '0', '0', '0', '0', '0', '0', '0', '0', '0', '0', '0', '0', '0', '0', '0', '0', '0', '0', '0', 'LOC', '0', '0', '0', '0', '0', '0', '0', '0', '0', '0', '0', '0', '0', '0', '0', '0', '0', '0', '0', '0', '0', '0', '0', '0', '0', '0', 'PERSON', '0', '0', '0', '0', '0', '0', '0', '0', '0', '0', '0', '0', '0', '0', '0', '0', '0', '0', '0', '0', '0', '0', '0', '0', '0', '0', '0', '0', '0', '0', '0', '0', '0', '0', '0', '0', '0', '0', '0', '0', '0', '0', '0', '0', '0', '0', '0', '0', '0', '0', '0', '0', '0', '0', '0', '0', '0', '0', '0', '0', '0', '0', '0', '0', '0', '0', '0', '0', '0', '0', '0', '0', '0', 'LOC', '0', '0', '0', '0', '0', '0', '0', '0', '0', '0', '0', '0', '0', '0', '0', '0', '0', '0', '0', '0', '0', '0', '0', '0', '0', '0', '0', '0', '0', '0', '0', '0', '0', '0', '0', '0', '0', '0', '0', '0', '0', '0', '0', '0', '0', '0', '0', '0', '0', '0', '0', '0', '0', '0', '0', '0', '0', '0', '0', '0', '0', '0', '0', '0', '0', '0', '0', '0', '0', '0', '0', '0', '0', '0', '0', '0', '0', '0', '0', '0', '0', '0', '0', '0', '0', '0', '0', '0', '0', '0', '0', '0', '0', '0', '0', '0', '0', '0', '0', '0', '0', '0', '0', '0', '0', '0', '0', '0', '0', '0', '0', '0', '0', '0', '0', '0', '0', '0', '0', '0', '0', '0', '0', '0', '0', '0', '0', '0', '0', '0', '0', '0', '0', '0', '0', '0', '0', '0', '0', '0', '0', '0', '0', '0', '0', '0', '0', '0', '0', '0', '0', '0', '0', '0', '0', '0', '0', '0', '0', '0', '0', '0', '0', '0', '0', '0', '0', '0', '0', '0', '0', '0', '0', '0', '0', '0', '0', '0', '0', '0', '0', '0', '0', '0', '0', '0', '0', '0', '0', '0', '0', '0', '0', '0', '0', '0', '0', '0', '0', 'PERSON', '0', '0', '0', '0', '0', '0', '0', '0', '0', '0', '0', '0', '0', '0', '0', '0', '0', '0', '0', '0', '0', '0', '0', '0', '0', '0', 'PERSON', '0', '0', '0', '0', '0', '0', '0', '0', 'PERSON', '0', '0', '0', '0', '0', '0', '0', '0', '0', '0', '0', '0', '0', '0', '0', '0', '0', '0', '0', '0', '0', '0', '0', '0', '0', '0', '0', '0', '0', '0', '0', '0', '0', '0', '0', '0', '0', '0', '0', '0', '0', '0', '0', '0', '0', '0', '0', '0', '0', '0', '0', '0', '0', '0', '0', '0', '0', '0', '0', '0', '0', '0', '0', '0', '0', '0', '0', '0', '0', '0', '0', '0', '0', '0', '0', '0', '0', '0', '0', '0', '0', '0', '0', '0', '0', '0', '0', '0', '0', '0', '0', '0', '0', '0', '0', '0', '0', '0', '0', '0', '0', '0', '0', '0', '0', '0', '0', '0', '0', '0', '0', '0', '0', '0', '0', '0', '0', '0', '0', '0', '0', '0', '0', '0', '0', '0', '0', '0', '0', '0', '0', '0', 'PERSON', '0', '0', '0', '0', '0', '0', '0', '0', '0', '0', '0', '0', '0', '0', '0', '0', '0', 'PERSON', '0', '0', '0', '0', '0', '0', '0', '0', '0', '0', '0', '0', '0', '0', '0', '0', '0', '0', '0', '0', '0', '0', '0', '0', '0', '0', '0', 'PERSON', '0', '0', '0', '0', '0', '0', '0', '0', 'PERSON', '0', '0', '0', '0', '0', '0', '0', '0', '0', '0', '0', '0', '0', '0', '0', '0', '0', '0', '0', '0', '0', '0', '0', '0', '0', '0', '0', '0', '0', '0', '0', '0', '0', '0', '0', '0', '0', '0', '0', '0', '0', '0', 'PERSON', '0', '0', '0', '0', '0', '0', '0', '0', '0', '0', '0', '0', '0', '0', '0', '0', '0', '0', '0', '0', '0', '0', '0', '0', '0', '0', '0', '0', '0', '0', '0', '0', '0', '0', '0', '0', '0', '0', '0', '0', '0', '0', '0', '0', '0', '0', '0', '0', '0', '0', '0', '0', 'LOC', '0', '0', '0', '0', '0', '0', '0', '0', '0', '0', '0', 'LOC', '0', 'LOC', '0', '0', '0', '0', '0', '0', '0', '0', '0', '0', '0', '0', '0', 'LOC', '0', 'LOC', '0', '0', '0', '0', '0', '0', '0', '0', '0', '0', '0', '0', '0', 'LOC', '0', '0', '0', '0', '0', '0', '0', 'LOC', '0', '0', '0', '0', '0', '0', '0', '0', '0', '0', '0', 'LOC', '0', '0', '0', '0', '0', '0', '0', '0', '0', '0', '0', '0', 'LOC', '0', '0', '0', '0', '0', '0', '0', '0', '0', '0', '0', '0', '0', '0', '0', '0', '0', '0', '0', '0', '0', '0', '0', '0', '0', '0', '0', '0', '0', '0', '0', '0', '0', '0', '0', '0', '0', '0', '0', '0', '0', '0', '0', '0', '0', '0', '0', '0', '0', '0', '0', '0', '0', '0', '0', '0', '0', '0', '0', '0', '0', '0', '0', '0', '0', '0', '0', '0', '0', '0', '0', '0', '0', '0', '0', '0', '0', '0', '0', '0', '0', '0', '0', '0', '0', '0', '0', '0', '0', '0', '0', '0', '0', '0', '0', '0', '0', '0', '0', '0', '0', '0', '0', '0', '0', '0', '0', '0', '0', '0', '0', '0', '0', '0', '0', '0', '0', '0', '0', '0', '0', '0', '0', '0', '0', '0', '0', '0', '0', '0', '0', '0', '0', '0', '0', '0', '0', '0', '0', '0', '0', '0', '0', '0', '0', '0', '0', '0', '0', '0', '0', '0', 'PERSON', '0', '0', '0', '0', '0', '0', '0', '0', '0', '0', '0', '0', '0', '0', 'PERSON', '0', '0', '0', '0', '0', '0', '0', '0', '0', '0', '0', '0', '0', '0', '0', '0', '0', '0', '0', '0', '0', '0', '0', '0', '0', '0', '0', '0', '0', '0', '0', '0', '0', '0', '0', '0', '0', '0', '0', '0', '0', '0', '0', '0', '0', '0', '0', '0', '0', '0', '0', '0', '0', '0', '0', '0', '0', '0', '0', '0', '0', '0', '0', '0', '0', '0', '0', '0', '0', '0', '0', '0', '0', '0', '0', '0', '0', '0', '0', '0', 'PERSON', '0', '0', '0', '0', '0', '0', '0', '0', '0', '0', '0', '0', '0', '0', '0', '0', '0', '0', '0', '0', '0', '0', '0', '0', '0', '0', '0', '0', '0', '0', '0', '0', '0', '0', '0', '0', '0', '0', '0', '0', '0', '0', '0', '0', '0', '0', '0', '0', '0', '0', '0', '0', '0', '0', '0', '0', '0', '0', '0', '0', '0', '0', '0', '0', '0', '0', '0', '0', '0', '0', '0', '0', '0', '0', '0', '0', '0', '0', '0', '0', '0', '0', '0', '0', '0', '0', '0', '0', '0', '0', '0', '0', '0', '0', '0', '0', '0', '0', '0', '0', '0', '0', '0', '0', '0', '0', '0', '0', '0', '0', '0', '0', '0', '0', '0', '0', '0', '0', '0', '0', '0', '0', '0', '0', '0', '0', '0', '0', '0', '0', '0', '0', '0', '0', '0', '0', '0', '0', '0', '0', '0', '0', '0', '0', '0', '0', '0', '0', '0', '0', '0', '0', '0', '0', '0', '0', '0', '0', '0', '0', '0', '0', '0', '0', '0', '0', '0', '0', '0', '0', '0', '0', '0', '0', 'PERSON', '0', '0', '0', '0', '0', '0', '0', '0', '0', '0', '0', '0', '0', '0', '0', '0', '0', '0', '0', '0', '0', '0', '0', '0', '0', '0', '0', '0', '0', '0', '0', '0', '0', '0', '0', '0', '0', '0', '0', '0', '0', '0', '0', '0', '0', '0', '0', '0', '0', '0', '0', 'PERSON', '0', 'PERSON', '0', '0', '0', '0', '0', '0', '0', '0', '0', '0', '0', '0', '0', '0', '0', '0', '0', 'PERSON', '0', '0', '0', '0', '0', '0', '0', '0', '0', '0', '0', '0', '0', 'PERSON', '0', '0', '0', '0', '0', '0', 'PERSON', '0', '0', '0', '0', '0', '0', '0', '0', '0', '0', '0', '0', '0', '0', '0', '0', '0', '0', '0', '0', '0', '0', '0', '0', '0', '0', '0', '0', '0', '0', '0', '0', '0', '0', '0', '0', '0', '0', '0', '0', '0', '0', '0', '0', '0', '0', '0', '0', '0', '0', '0', '0', '0', '0', '0', '0', '0', '0', '0', '0', '0', '0', '0', '0', '0', '0', '0', '0', '0', '0', '0', '0', '0', '0', '0', '0', '0', '0', '0', '0', '0', '0', '0', '0', '0', '0', '0', '0', '0', '0', '0', '0', '0', '0', '0', '0', '0', '0', '0', '0', '0', '0', '0', '0', '0', '0', '0', '0', '0', '0', '0', '0', '0', '0', '0', '0', '0', '0', '0', '0', '0', '0', '0', '0', '0', '0', '0', '0', '0', '0', '0', '0', '0', '0', '0', '0', '0', '0', '0', '0', '0', '0', '0', '0', '0', '0', '0', '0', '0', '0', '0', '0', '0', '0', '0', '0', '0', '0', '0', '0', 'PERSON', '0', '0', '0', '0', '0', '0', 'PERSON', '0', '0', '0', '0', '0', '0', '0', '0', '0', '0', '0', '0', '0', '0', '0', '0', '0', '0', '0', '0', '0', '0', '0', '0', '0', '0', '0', '0', '0', '0', '0', '0', '0', '0', '0', '0', '0', '0', '0', '0', '0', 'PERSON', '0', '0', '0', '0', '0', '0', '0', '0', '0', '0', '0', '0', '0', 'PERSON', '0', '0', '0', '0', '0', '0', 'PERSON', '0', '0', '0', '0', '0', '0', '0', '0', '0', '0', '0', '0', '0', '0', '0', '0', '0', '0', '0', '0', '0', '0', '0', '0', '0', '0', '0', '0', '0', '0', '0', '0', '0', '0', '0', '0', '0', '0', '0', '0', '0', '0', '0', '0', '0', '0', '0', '0', '0', '0', '0', '0', '0', '0', '0', '0', '0', '0', '0', '0', '0', '0', '0', '0', '0', '0', '0', '0', '0', '0', '0', '0', '0', '0', '0', '0', '0', '0', '0', '0', '0', '0', '0', '0', '0', '0', '0', '0', '0', '0', '0', '0', '0', '0', '0', '0', '0', '0', '0', '0', '0', '0', '0', '0', '0', '0', '0', '0', '0', '0', '0', '0', '0', '0', '0', '0', '0', '0', '0', '0', '0', '0', '0', '0', '0', '0', '0', '0', '0', '0', '0', '0', '0', '0', '0', '0', '0', '0', '0', '0', '0', '0', '0', '0', '0', '0', '0', '0', '0', '0', '0', '0', '0', '0', '0', '0', '0', '0', '0', '0', '0', '0', '0', '0', '0', '0', '0', '0', '0', '0', '0', '0', '0', '0', '0', '0', '0', '0', '0', '0', '0', '0', '0', '0', '0', '0', '0', '0', '0', '0', '0', '0', '0', '0', '0', '0', '0', '0', '0', '0', '0', '0', '0', '0', '0', '0', '0', '0', '0', 'LOC', '0', '0', '0', '0', '0', '0', '0', '0', '0', '0', '0', '0', '0', '0', '0', '0', '0', '0', '0', '0', '0', '0', '0', '0', '0', '0', '0', '0', '0', '0', '0', '0', '0', '0', '0', '0', '0', '0', '0', '0', '0', '0', '0', '0', '0', '0', '0', '0', '0', '0', '0', '0', '0', '0', '0', '0', '0', '0', '0', '0', '0', '0', '0', '0', '0', '0', '0', '0', '0', '0', '0', '0', '0', '0', '0', '0', '0', '0', '0', '0', '0', '0', '0', '0', '0', '0', '0', '0', '0', '0', '0', '0', '0', '0', '0', '0', '0', '0', '0', '0', '0', '0', '0', '0', '0', '0', '0', '0', '0', '0', '0', '0', '0', '0', '0', '0', '0', '0', '0', '0', '0', 'PERSON', '0', '0', '0', '0', '0', '0', '0', '0', '0', '0', '0', '0', '0', '0', '0', '0', '0', '0', '0', '0', '0', '0', '0', '0', '0', '0', '0', '0', '0', '0', '0', '0', '0', '0', '0', '0', '0', '0', '0', '0', '0', '0', '0', '0', '0', '0', '0', '0', '0', '0', '0', '0', '0', '0', '0', '0', '0', '0', '0', '0', '0', '0', '0', '0', '0', '0', '0', '0', '0', '0', '0', '0', '0', '0', '0', '0', '0', '0', '0', '0', '0', '0', '0', '0', '0', '0', '0', '0', '0']\n",
      "Test: new_F: 0.6168224299065419 \n",
      "              precision    recall  f1-score   support\n",
      "\n",
      "           0       0.99      1.00      0.99      3138\n",
      "         LOC       0.44      0.27      0.33        15\n",
      "      PERSON       0.83      0.61      0.71        49\n",
      "\n",
      "    accuracy                           0.99      3202\n",
      "   macro avg       0.76      0.63      0.68      3202\n",
      "weighted avg       0.99      0.99      0.99      3202\n",
      "\n"
     ]
    }
   ],
   "source": [
    "f = eval_model(model, test_data, \"Test\")"
   ]
  },
  {
   "cell_type": "code",
   "execution_count": 69,
   "metadata": {},
   "outputs": [
    {
     "name": "stderr",
     "output_type": "stream",
     "text": [
      "/tmp/ipykernel_13116/190423638.py:1: FutureWarning: You are using `torch.load` with `weights_only=False` (the current default value), which uses the default pickle module implicitly. It is possible to construct malicious pickle data which will execute arbitrary code during unpickling (See https://github.com/pytorch/pytorch/blob/main/SECURITY.md#untrusted-models for more details). In a future release, the default value for `weights_only` will be flipped to `True`. This limits the functions that could be executed during unpickling. Arbitrary objects will no longer be allowed to be loaded via this mode unless they are explicitly allowlisted by the user via `torch.serialization.add_safe_globals`. We recommend you start setting `weights_only=True` for any use case where you don't have full control of the loaded file. Please open an issue on GitHub for any issues related to this experimental feature.\n",
      "  model_1 = model.load_state_dict(torch.load(\"./model/model_1\"))\n",
      "/tmp/ipykernel_13116/190423638.py:2: FutureWarning: You are using `torch.load` with `weights_only=False` (the current default value), which uses the default pickle module implicitly. It is possible to construct malicious pickle data which will execute arbitrary code during unpickling (See https://github.com/pytorch/pytorch/blob/main/SECURITY.md#untrusted-models for more details). In a future release, the default value for `weights_only` will be flipped to `True`. This limits the functions that could be executed during unpickling. Arbitrary objects will no longer be allowed to be loaded via this mode unless they are explicitly allowlisted by the user via `torch.serialization.add_safe_globals`. We recommend you start setting `weights_only=True` for any use case where you don't have full control of the loaded file. Please open an issue on GitHub for any issues related to this experimental feature.\n",
      "  model_2 = model.load_state_dict(torch.load(\"./model/model_2\"))\n",
      "/tmp/ipykernel_13116/190423638.py:4: FutureWarning: You are using `torch.load` with `weights_only=False` (the current default value), which uses the default pickle module implicitly. It is possible to construct malicious pickle data which will execute arbitrary code during unpickling (See https://github.com/pytorch/pytorch/blob/main/SECURITY.md#untrusted-models for more details). In a future release, the default value for `weights_only` will be flipped to `True`. This limits the functions that could be executed during unpickling. Arbitrary objects will no longer be allowed to be loaded via this mode unless they are explicitly allowlisted by the user via `torch.serialization.add_safe_globals`. We recommend you start setting `weights_only=True` for any use case where you don't have full control of the loaded file. Please open an issue on GitHub for any issues related to this experimental feature.\n",
      "  model_4 = model.load_state_dict(torch.load(\"./model/model_4\"))\n"
     ]
    }
   ],
   "source": [
    "model_1 = model.load_state_dict(torch.load(\"./model/model_1\"))\n",
    "model_2 = model.load_state_dict(torch.load(\"./model/model_2\"))\n",
    "# model_3 = model.load_state_dict(torch.load(\"./model/model_3\"))\n",
    "model_4 = model.load_state_dict(torch.load(\"./model/model_4\"))"
   ]
  },
  {
   "cell_type": "code",
   "execution_count": 70,
   "metadata": {},
   "outputs": [
    {
     "ename": "TypeError",
     "evalue": "'_IncompatibleKeys' object is not callable",
     "output_type": "error",
     "traceback": [
      "\u001b[0;31m---------------------------------------------------------------------------\u001b[0m",
      "\u001b[0;31mTypeError\u001b[0m                                 Traceback (most recent call last)",
      "Cell \u001b[0;32mIn[70], line 1\u001b[0m\n\u001b[0;32m----> 1\u001b[0m report_1 \u001b[38;5;241m=\u001b[39m \u001b[43meval_model\u001b[49m\u001b[43m(\u001b[49m\u001b[43mmodel_1\u001b[49m\u001b[43m,\u001b[49m\u001b[43m \u001b[49m\u001b[43mtest_data\u001b[49m\u001b[43m,\u001b[49m\u001b[43m \u001b[49m\u001b[38;5;124;43m\"\u001b[39;49m\u001b[38;5;124;43mTest\u001b[39;49m\u001b[38;5;124;43m\"\u001b[39;49m\u001b[43m)\u001b[49m\n\u001b[1;32m      2\u001b[0m report_2 \u001b[38;5;241m=\u001b[39m eval_model(model_2, test_data, \u001b[38;5;124m\"\u001b[39m\u001b[38;5;124mTest\u001b[39m\u001b[38;5;124m\"\u001b[39m)\n\u001b[1;32m      3\u001b[0m \u001b[38;5;66;03m# report_3 = eval_model(model_3, test_data, \"Test\")\u001b[39;00m\n",
      "Cell \u001b[0;32mIn[66], line 49\u001b[0m, in \u001b[0;36meval_model\u001b[0;34m(model, datas, dataset)\u001b[0m\n\u001b[1;32m     46\u001b[0m     val, out \u001b[38;5;241m=\u001b[39m model(dwords\u001b[38;5;241m.\u001b[39mcuda(), chars2_mask\u001b[38;5;241m.\u001b[39mcuda(), chars2_length, d)\n\u001b[1;32m     47\u001b[0m     \u001b[38;5;66;03m# print(val, out)\u001b[39;00m\n\u001b[1;32m     48\u001b[0m \u001b[38;5;28;01melse\u001b[39;00m:\n\u001b[0;32m---> 49\u001b[0m     val, out \u001b[38;5;241m=\u001b[39m \u001b[43mmodel\u001b[49m\u001b[43m(\u001b[49m\u001b[43mdwords\u001b[49m\u001b[43m,\u001b[49m\u001b[43m \u001b[49m\u001b[43mchars2_mask\u001b[49m\u001b[43m,\u001b[49m\u001b[43m \u001b[49m\u001b[43mchars2_length\u001b[49m\u001b[43m,\u001b[49m\u001b[43m \u001b[49m\u001b[43md\u001b[49m\u001b[43m)\u001b[49m\n\u001b[1;32m     50\u001b[0m     \u001b[38;5;66;03m# print(val, out)\u001b[39;00m\n\u001b[1;32m     51\u001b[0m predicted_id \u001b[38;5;241m=\u001b[39m out\n",
      "\u001b[0;31mTypeError\u001b[0m: '_IncompatibleKeys' object is not callable"
     ]
    }
   ],
   "source": [
    "report_1 = eval_model(model_1, test_data, \"Test\")\n",
    "report_2 = eval_model(model_2, test_data, \"Test\")\n",
    "# report_3 = eval_model(model_3, test_data, \"Test\")\n",
    "report_4 = eval_model(model_4, test_data, \"Test\")"
   ]
  }
 ],
 "metadata": {
  "colab": {
   "authorship_tag": "ABX9TyPNqUPifbse8bHxHGQ2bPe0",
   "provenance": []
  },
  "kernelspec": {
   "display_name": ".machinelearning",
   "language": "python",
   "name": "python3"
  },
  "language_info": {
   "codemirror_mode": {
    "name": "ipython",
    "version": 3
   },
   "file_extension": ".py",
   "mimetype": "text/x-python",
   "name": "python",
   "nbconvert_exporter": "python",
   "pygments_lexer": "ipython3",
   "version": "3.11.6"
  }
 },
 "nbformat": 4,
 "nbformat_minor": 0
}
